{
  "nbformat": 4,
  "nbformat_minor": 0,
  "metadata": {
    "colab": {
      "provenance": [],
      "collapsed_sections": [
        "NzxjjBhUYUf5"
      ],
      "toc_visible": true,
      "authorship_tag": "ABX9TyNR8IslC6JRrv0zvMOReJqw",
      "include_colab_link": true
    },
    "kernelspec": {
      "name": "python3",
      "display_name": "Python 3"
    },
    "language_info": {
      "name": "python"
    }
  },
  "cells": [
    {
      "cell_type": "markdown",
      "metadata": {
        "id": "view-in-github",
        "colab_type": "text"
      },
      "source": [
        "<a href=\"https://colab.research.google.com/github/vicduch/apprentissageMLPython/blob/main/Apprentissage_Python_ML.ipynb\" target=\"_parent\"><img src=\"https://colab.research.google.com/assets/colab-badge.svg\" alt=\"Open In Colab\"/></a>"
      ]
    },
    {
      "cell_type": "markdown",
      "source": [
        "# Séléction de données"
      ],
      "metadata": {
        "id": "IdKV_xFNYRNs"
      }
    },
    {
      "cell_type": "markdown",
      "source": [
        "## Différence .loc et .iloc"
      ],
      "metadata": {
        "id": "BdhBys8sOuRF"
      }
    },
    {
      "cell_type": "code",
      "execution_count": null,
      "metadata": {
        "colab": {
          "base_uri": "https://localhost:8080/"
        },
        "id": "lhyUcTYmOqug",
        "outputId": "5697e68f-15fb-4289-aad7-015ae1fca6f1"
      },
      "outputs": [
        {
          "output_type": "stream",
          "name": "stdout",
          "text": [
            "Voici le DataFrame de départ :\n",
            "      Age Genre  TensionArtérielle  Cholestérol\n",
            "P001   45     H                120          210\n",
            "P002   52     F                132          240\n",
            "P003   34     F                115          190\n",
            "P004   29     H                118          180\n",
            "P005   68     F                140          260\n"
          ]
        }
      ],
      "source": [
        "import pandas as pd\n",
        "\n",
        "donnees = {\n",
        "    'Age': [45, 52, 34, 29, 68],\n",
        "    'Genre': ['H', 'F', 'F', 'H', 'F'],\n",
        "    'TensionArtérielle': [120, 132, 115, 118, 140],\n",
        "    'Cholestérol': [210, 240, 190, 180, 260]\n",
        "}\n",
        "index_patients = ['P001', 'P002', 'P003', 'P004', 'P005']\n",
        "\n",
        "df_patients = pd.DataFrame(donnees, index=index_patients)\n",
        "\n",
        "print(\"Voici le DataFrame de départ :\")\n",
        "print(df_patients)"
      ]
    },
    {
      "cell_type": "markdown",
      "source": [
        "#### Tâches à effectuer :\n",
        "\n",
        "1. Sélectionnez et affichez toutes les informations du patient avec l'identifiant 'P002'.\n",
        "\n",
        "2. Sélectionnez et affichez la valeur unique de la tension artérielle (TensionArtérielle) pour le patient 'P005'.\n",
        "\n",
        "3. En utilisant uniquement des positions numériques, sélectionnez et affichez les données des deux premiers patients (P001 et P002) pour les colonnes Genre et TensionArtérielle.\n",
        "\n",
        "4. En utilisant uniquement des positions numériques, sélectionnez et affichez un \"sous-DataFrame\" contenant les trois dernières lignes et les deux dernières colonnes."
      ],
      "metadata": {
        "id": "Wt9agNKVQJ6h"
      }
    },
    {
      "cell_type": "code",
      "source": [
        "données_p002 = df_patients.loc['P002']\n",
        "print(\"\\nDonnées du patient P002 :\")\n",
        "print(données_p002)\n",
        "\n",
        "tension_p005 = df_patients.loc['P005', 'TensionArtérielle']\n",
        "print(\"\\nTension du patient P005 :\")\n",
        "print(tension_p005)\n",
        "\n",
        "deux_premiers_patients = df_patients.iloc[:2, [1,2]]\n",
        "print(\"\\nDeux premiers patients :\")\n",
        "print(deux_premiers_patients)\n",
        "\n",
        "sous_df = df_patients.iloc[-3:,-2:]\n",
        "print(sous_df)\n"
      ],
      "metadata": {
        "colab": {
          "base_uri": "https://localhost:8080/"
        },
        "id": "-Dl9Q1NRQLmP",
        "outputId": "1c5e1c3b-9509-4507-8816-89a6e3f48723"
      },
      "execution_count": null,
      "outputs": [
        {
          "output_type": "stream",
          "name": "stdout",
          "text": [
            "\n",
            "Données du patient P002 :\n",
            "Age                   52\n",
            "Genre                  F\n",
            "TensionArtérielle    132\n",
            "Cholestérol          240\n",
            "Name: P002, dtype: object\n",
            "\n",
            "Tension du patient P005 :\n",
            "140\n",
            "\n",
            "Deux premiers patients :\n",
            "     Genre  TensionArtérielle\n",
            "P001     H                120\n",
            "P002     F                132\n",
            "      TensionArtérielle  Cholestérol\n",
            "P003                115          190\n",
            "P004                118          180\n",
            "P005                140          260\n"
          ]
        }
      ]
    },
    {
      "cell_type": "markdown",
      "source": [
        "#### *Remarques : Attention à bien utiliser les index de colonnes dans .iloc*"
      ],
      "metadata": {
        "id": "mVapn9mIXV3k"
      }
    },
    {
      "cell_type": "markdown",
      "source": [
        "## Filtrage conditionnel"
      ],
      "metadata": {
        "id": "NoVllhf_VikW"
      }
    },
    {
      "cell_type": "markdown",
      "source": [
        "#### Tâches à effectuer\n",
        "\n",
        "En réutilisant le même dataset\n",
        "\n",
        "1. Créez un nouveau DataFrame, df_seniors, qui contient uniquement les patients de plus de 50 ans.\n",
        "\n",
        "2. Créez un nouveau DataFrame, df_femmes, qui contient uniquement les patientes (Genre égal à 'F').\n",
        "\n",
        "3. Vous suspectez un risque cardiovasculaire accru chez certaines patientes. Créez un DataFrame df_risque_eleve qui ne contient que les patientes (Genre 'F') qui ont également un taux de cholestérol supérieur à 200."
      ],
      "metadata": {
        "id": "jJjDm5RqVplB"
      }
    },
    {
      "cell_type": "code",
      "source": [
        "seniors = df_patients['Age']>50\n",
        "df_seniors = df_patients[seniors]\n",
        "print(df_seniors)\n",
        "\n",
        "femmes = df_patients['Genre']=='F'\n",
        "df_femmes = df_patients[femmes]\n",
        "print(df_femmes)\n",
        "\n",
        "risque_eleve = df_patients['Cholestérol']>200\n",
        "df_risque_eleve = df_patients[(femmes) & (risque_eleve)]\n",
        "print(df_risque_eleve)"
      ],
      "metadata": {
        "colab": {
          "base_uri": "https://localhost:8080/"
        },
        "id": "Ub8zbV-lVlp1",
        "outputId": "f3b888f1-7056-4fd2-b985-ca6b5c2ecc43"
      },
      "execution_count": null,
      "outputs": [
        {
          "output_type": "stream",
          "name": "stdout",
          "text": [
            "      Age Genre  TensionArtérielle  Cholestérol\n",
            "P002   52     F                132          240\n",
            "P005   68     F                140          260\n",
            "      Age Genre  TensionArtérielle  Cholestérol\n",
            "P002   52     F                132          240\n",
            "P003   34     F                115          190\n",
            "P005   68     F                140          260\n",
            "      Age Genre  TensionArtérielle  Cholestérol\n",
            "P002   52     F                132          240\n",
            "P005   68     F                140          260\n"
          ]
        }
      ]
    },
    {
      "cell_type": "markdown",
      "source": [
        "#### *Remarques : Bien penser à écrire sur la même ligne pour simplifier :*\n",
        "\n",
        "```\n",
        "df_risque_eleve_alt = df_patients[(df_patients['Genre'] == 'F') & (df_patients['Cholestérol'] > 200)]\n",
        "```\n",
        "\n",
        "\n"
      ],
      "metadata": {
        "id": "Pwl27whiXnIb"
      }
    },
    {
      "cell_type": "markdown",
      "source": [
        "# Création et modifications de données"
      ],
      "metadata": {
        "id": "NzxjjBhUYUf5"
      }
    },
    {
      "cell_type": "markdown",
      "source": [
        "## Création de colonnes\n"
      ],
      "metadata": {
        "id": "UWHTSZbQYaMe"
      }
    },
    {
      "cell_type": "code",
      "source": [
        "import pandas as pd\n",
        "\n",
        "donnees = {\n",
        "    'Age': [45, 52, 34, 29, 68],\n",
        "    'Genre': ['H', 'F', 'F', 'H', 'F'],\n",
        "    'TensionArtérielle': [120, 132, 115, 118, 140],\n",
        "    'Cholestérol': [210, 240, 190, 180, 260]\n",
        "}\n",
        "index_patients = ['P001', 'P002', 'P003', 'P004', 'P005']\n",
        "\n",
        "df_patients = pd.DataFrame(donnees, index=index_patients)"
      ],
      "metadata": {
        "id": "aLve_l_4YcHl"
      },
      "execution_count": null,
      "outputs": []
    },
    {
      "cell_type": "markdown",
      "source": [
        "#### Tâches à effectuer\n",
        "1. Nous sommes en 2025. Créez une nouvelle colonne nommée AnneeNaissance qui contient l'année de naissance approximative de chaque patient.\n",
        "\n",
        "2. Pour évaluer un facteur de risque, un chercheur a émis l'hypothèse qu'un indice *Cholestérol/Age* pourrait être pertinent. Créez une nouvelle colonne nommée IndiceRisque qui contient le résultat de cette division.\n",
        "\n",
        "3. Après avoir créé les deux colonnes, affichez le DataFrame complet pour vérifier le résultat."
      ],
      "metadata": {
        "id": "mRf5gfjjYpEL"
      }
    },
    {
      "cell_type": "code",
      "source": [
        "df_patients['AnneeNaissance'] = 2025 - df_patients['Age']\n",
        "print(df_patients['AnneeNaissance'])\n",
        "\n",
        "df_patients['IndiceRisque'] = df_patients['Cholestérol']/df_patients['Age']\n",
        "print(df_patients['IndiceRisque'])\n",
        "\n",
        "print(df_patients)"
      ],
      "metadata": {
        "colab": {
          "base_uri": "https://localhost:8080/"
        },
        "id": "bUQuiIDVYwD1",
        "outputId": "601b3997-cc8e-412b-97c8-857334ac7e37"
      },
      "execution_count": null,
      "outputs": [
        {
          "output_type": "stream",
          "name": "stdout",
          "text": [
            "P001    1980\n",
            "P002    1973\n",
            "P003    1991\n",
            "P004    1996\n",
            "P005    1957\n",
            "Name: AnneeNaissance, dtype: int64\n",
            "P001    4.666667\n",
            "P002    4.615385\n",
            "P003    5.588235\n",
            "P004    6.206897\n",
            "P005    3.823529\n",
            "Name: IndiceRisque, dtype: float64\n",
            "      Age Genre  TensionArtérielle  Cholestérol  AnneeNaissance  IndiceRisque\n",
            "P001   45     H                120          210            1980      4.666667\n",
            "P002   52     F                132          240            1973      4.615385\n",
            "P003   34     F                115          190            1991      5.588235\n",
            "P004   29     H                118          180            1996      6.206897\n",
            "P005   68     F                140          260            1957      3.823529\n"
          ]
        }
      ]
    },
    {
      "cell_type": "markdown",
      "source": [
        "*Remarques :*\n",
        "\n",
        "La création de la colonne IndiceRisque est un exemple simple mais fondamental de ce que l'on appelle le Feature Engineering (création de variables).\n",
        "\n",
        "À votre avis, pourquoi un indice comme celui-ci pourrait être plus puissant pour un modèle de Machine Learning que de simplement utiliser les colonnes Age et Cholestérol séparément ?\n",
        "\n",
        "... C'est parce que cet indice capture une interaction entre les deux variables. Un taux de cholestérol de 260 n'a pas la même signification pour une personne de 29 ans que pour une personne de 68 ans. Votre nouvelle variable IndiceRisque contient cette information nuancée en un seul chiffre. C'est en créant ce genre de variables pertinentes que les data scientists apportent le plus de valeur."
      ],
      "metadata": {
        "id": "mlFCYyt1ZqUf"
      }
    },
    {
      "cell_type": "markdown",
      "source": [
        "## Création de colonnes conditionnelle"
      ],
      "metadata": {
        "id": "8pD9GBnKaJs2"
      }
    },
    {
      "cell_type": "markdown",
      "source": [
        "#### Tâches à effectuer\n",
        "\n",
        "1. Créez une nouvelle colonne CategorieTension. Si la TensionArtérielle d'un patient est strictement supérieure à 125, la valeur doit être 'Haute'. Sinon, la valeur doit être 'Normale'.\n",
        "\n",
        "2. Créez une colonne StatutRisque. Le statut doit être 'Élevé' uniquement si l'IndiceRisque est supérieur à 4.5 ET que l'Age est supérieur à 50. Dans tous les autres cas, le statut doit être 'Normal'.\n",
        "\n",
        "3. Affichez le DataFrame final avec ces deux nouvelles colonnes de catégories."
      ],
      "metadata": {
        "id": "ipxEVKwLaZM9"
      }
    },
    {
      "cell_type": "code",
      "source": [
        "import numpy as np\n",
        "\n",
        "df_patients['CategorieTension'] = np.where(df_patients['TensionArtérielle']>125,'Haute','Normale')\n",
        "print(df_patients['CategorieTension'])\n",
        "\n",
        "df_patients['StatutRisque'] = np.where((df_patients['IndiceRisque']>4.5) & (df_patients['Age']>50), 'Elevé', 'Normal')\n",
        "print(df_patients['StatutRisque'])\n",
        "\n",
        "print(df_patients)"
      ],
      "metadata": {
        "colab": {
          "base_uri": "https://localhost:8080/"
        },
        "id": "I0-i8QSpaTSM",
        "outputId": "dc321a13-ed9a-4542-e298-9673905ac76c"
      },
      "execution_count": null,
      "outputs": [
        {
          "output_type": "stream",
          "name": "stdout",
          "text": [
            "P001    Normale\n",
            "P002      Haute\n",
            "P003    Normale\n",
            "P004    Normale\n",
            "P005      Haute\n",
            "Name: CategorieTension, dtype: object\n",
            "P001    Normal\n",
            "P002     Elevé\n",
            "P003    Normal\n",
            "P004    Normal\n",
            "P005    Normal\n",
            "Name: StatutRisque, dtype: object\n",
            "      Age Genre  TensionArtérielle  Cholestérol  AnneeNaissance  IndiceRisque  \\\n",
            "P001   45     H                120          210            1980      4.666667   \n",
            "P002   52     F                132          240            1973      4.615385   \n",
            "P003   34     F                115          190            1991      5.588235   \n",
            "P004   29     H                118          180            1996      6.206897   \n",
            "P005   68     F                140          260            1957      3.823529   \n",
            "\n",
            "     CategorieTension StatutRisque  \n",
            "P001          Normale       Normal  \n",
            "P002            Haute        Elevé  \n",
            "P003          Normale       Normal  \n",
            "P004          Normale       Normal  \n",
            "P005            Haute       Normal  \n"
          ]
        }
      ]
    },
    {
      "cell_type": "markdown",
      "source": [
        "## Exo récap session 1"
      ],
      "metadata": {
        "id": "k9vXipFdzMCo"
      }
    },
    {
      "cell_type": "markdown",
      "source": [
        "#### Tâches à effectuer\n",
        "\n",
        "1. Sélection : En utilisant la méthode la plus appropriée, sélectionnez et affichez la ligne correspondant au produit dont l'identifiant est 'PROD-004'.\n",
        "\n",
        "2. Filtrage : Créez un nouveau DataFrame df_top_produits qui contient uniquement les produits de la catégorie 'Cuisine' ayant réalisé plus de 100 ventes mensuelles.\n",
        "\n",
        "3. Création de colonne (calcul) : Créez une nouvelle colonne ChiffreAffaires qui correspond au revenu généré par chaque produit (PrixUnitaire * VentesMensuelles).\n",
        "\n",
        "4. Création de colonne (conditionnelle) : Le service marketing souhaite identifier les \"Produits Vedettes\". Créez une colonne Statut qui aura la valeur 'Vedette' si la NoteClient est supérieure ou égale à 4.5 ET que le ChiffreAffaires est supérieur à 5000. Dans tous les autres cas, la valeur sera 'Standard'.\n",
        "\n",
        "Bonus : Affichez uniquement les colonnes NomProduit et Statut des produits qui ont été classés 'Vedette'.\n"
      ],
      "metadata": {
        "id": "a02bFWFUzSJN"
      }
    },
    {
      "cell_type": "code",
      "source": [
        "import pandas as pd\n",
        "import numpy as np\n",
        "\n",
        "catalogue = {\n",
        "    'NomProduit': ['Cafetière A', 'Bouilloire B', 'Grille-pain C', 'Mixeur D', 'Robot E'],\n",
        "    'Categorie': ['Cuisine', 'Cuisine', 'Cuisine', 'Cuisine', 'Petit-Électro'],\n",
        "    'PrixUnitaire': [59.90, 29.99, 45.00, 79.50, 249.99],\n",
        "    'VentesMensuelles': [150, 230, 80, 110, 35],\n",
        "    'NoteClient': [4.6, 4.8, 4.2, 4.9, 4.1]\n",
        "}\n",
        "id_produits = ['PROD-001', 'PROD-002', 'PROD-003', 'PROD-004', 'PROD-005']\n",
        "\n",
        "df_ventes = pd.DataFrame(catalogue, index=id_produits)\n",
        "\n",
        "print(\"Voici le DataFrame de départ :\")\n",
        "print(df_ventes)"
      ],
      "metadata": {
        "colab": {
          "base_uri": "https://localhost:8080/"
        },
        "id": "GxZId8Fbzns9",
        "outputId": "43c7afcd-a5d4-497e-8240-52907d69bbed"
      },
      "execution_count": null,
      "outputs": [
        {
          "output_type": "stream",
          "name": "stdout",
          "text": [
            "Voici le DataFrame de départ :\n",
            "             NomProduit      Categorie  PrixUnitaire  VentesMensuelles  \\\n",
            "PROD-001    Cafetière A        Cuisine         59.90               150   \n",
            "PROD-002   Bouilloire B        Cuisine         29.99               230   \n",
            "PROD-003  Grille-pain C        Cuisine         45.00                80   \n",
            "PROD-004       Mixeur D        Cuisine         79.50               110   \n",
            "PROD-005        Robot E  Petit-Électro        249.99                35   \n",
            "\n",
            "          NoteClient  \n",
            "PROD-001         4.6  \n",
            "PROD-002         4.8  \n",
            "PROD-003         4.2  \n",
            "PROD-004         4.9  \n",
            "PROD-005         4.1  \n"
          ]
        }
      ]
    },
    {
      "cell_type": "code",
      "source": [
        "#Question 1\n",
        "\n",
        "p004 = df_ventes.loc[\"PROD-004\"]\n",
        "print(p004)\n",
        "\n",
        "#Question 2\n",
        "df_cuisine_100 = df_ventes[(df_ventes[\"Categorie\"] == \"Cuisine\") & (df_ventes[\"VentesMensuelles\"]>100)]\n",
        "print(df_cuisine_100)\n",
        "\n",
        "#Question 3\n",
        "df_ventes['ChiffresAffaires'] = df_ventes['PrixUnitaire']*df_ventes['VentesMensuelles']\n",
        "print(df_ventes)\n",
        "\n",
        "#Question 4\n",
        "produits_vedettes = (df_ventes['NoteClient']>4.5)&(df_ventes['ChiffresAffaires']>5000)\n",
        "df_ventes['Statut'] = np.where(produits_vedettes,'Vedettes','Standard')\n",
        "print(df_ventes['Statut'])\n",
        "\n",
        "#Bonus\n",
        "df_bonus = df_ventes.loc[df_ventes['Statut']=='Vedettes',[\"NomProduit\",\"Statut\"]]\n",
        "print(df_bonus)"
      ],
      "metadata": {
        "colab": {
          "base_uri": "https://localhost:8080/"
        },
        "id": "AD7SwmzLzppJ",
        "outputId": "600696e6-3a0f-486f-d30c-c7ca4157e5e1"
      },
      "execution_count": null,
      "outputs": [
        {
          "output_type": "stream",
          "name": "stdout",
          "text": [
            "NomProduit          Mixeur D\n",
            "Categorie            Cuisine\n",
            "PrixUnitaire            79.5\n",
            "VentesMensuelles         110\n",
            "NoteClient               4.9\n",
            "ChiffresAffaires      8745.0\n",
            "Statut              Vedettes\n",
            "Name: PROD-004, dtype: object\n",
            "            NomProduit Categorie  PrixUnitaire  VentesMensuelles  NoteClient  \\\n",
            "PROD-001   Cafetière A   Cuisine         59.90               150         4.6   \n",
            "PROD-002  Bouilloire B   Cuisine         29.99               230         4.8   \n",
            "PROD-004      Mixeur D   Cuisine         79.50               110         4.9   \n",
            "\n",
            "          ChiffresAffaires    Statut  \n",
            "PROD-001            8985.0  Vedettes  \n",
            "PROD-002            6897.7  Vedettes  \n",
            "PROD-004            8745.0  Vedettes  \n",
            "             NomProduit      Categorie  PrixUnitaire  VentesMensuelles  \\\n",
            "PROD-001    Cafetière A        Cuisine         59.90               150   \n",
            "PROD-002   Bouilloire B        Cuisine         29.99               230   \n",
            "PROD-003  Grille-pain C        Cuisine         45.00                80   \n",
            "PROD-004       Mixeur D        Cuisine         79.50               110   \n",
            "PROD-005        Robot E  Petit-Électro        249.99                35   \n",
            "\n",
            "          NoteClient  ChiffresAffaires    Statut  \n",
            "PROD-001         4.6           8985.00  Vedettes  \n",
            "PROD-002         4.8           6897.70  Vedettes  \n",
            "PROD-003         4.2           3600.00  Standard  \n",
            "PROD-004         4.9           8745.00  Vedettes  \n",
            "PROD-005         4.1           8749.65  Standard  \n",
            "PROD-001    Vedettes\n",
            "PROD-002    Vedettes\n",
            "PROD-003    Standard\n",
            "PROD-004    Vedettes\n",
            "PROD-005    Standard\n",
            "Name: Statut, dtype: object\n",
            "            NomProduit    Statut\n",
            "PROD-001   Cafetière A  Vedettes\n",
            "PROD-002  Bouilloire B  Vedettes\n",
            "PROD-004      Mixeur D  Vedettes\n"
          ]
        }
      ]
    },
    {
      "cell_type": "markdown",
      "source": [
        "*Beaucoup d'erreurs faites pour la question 2 : toujours bien utiliser une selection de df_ventes, donc\n",
        "\n",
        "```\n",
        "df_ventes[(df_ventes[condition1])&(df_ventes[condition2])]\n",
        "```\n",
        "\n"
      ],
      "metadata": {
        "id": "CjefBW9k1-3Z"
      }
    },
    {
      "cell_type": "markdown",
      "source": [
        "## GroupBy"
      ],
      "metadata": {
        "id": "o-3xT6_H1IkY"
      }
    },
    {
      "cell_type": "code",
      "source": [
        "import pandas as pd\n",
        "import numpy as np\n",
        "\n",
        "catalogue = {\n",
        "    'NomProduit': ['Cafetière A', 'Bouilloire B', 'Grille-pain C', 'Mixeur D', 'Robot E'],\n",
        "    'Categorie': ['Cuisine', 'Cuisine', 'Cuisine', 'Cuisine', 'Petit-Électro'],\n",
        "    'PrixUnitaire': [59.90, 29.99, 45.00, 79.50, 249.99],\n",
        "    'VentesMensuelles': [150, 230, 80, 110, 35],\n",
        "    'NoteClient': [4.6, 4.8, 4.2, 4.9, 4.1]\n",
        "}\n",
        "id_produits = ['PROD-001', 'PROD-002', 'PROD-003', 'PROD-004', 'PROD-005']\n",
        "df_ventes = pd.DataFrame(catalogue, index=id_produits)\n",
        "df_ventes['ChiffreAffaires'] = df_ventes['PrixUnitaire'] * df_ventes['VentesMensuelles']\n",
        "produits_vedettes = (df_ventes['NoteClient'] >= 4.5) & (df_ventes['ChiffreAffaires'] > 5000)\n",
        "df_ventes['Statut'] = np.where(produits_vedettes, 'Vedette', 'Standard')\n",
        "\n",
        "print(\"Rappel du DataFrame final :\")\n",
        "print(df_ventes)"
      ],
      "metadata": {
        "colab": {
          "base_uri": "https://localhost:8080/"
        },
        "id": "ZuI_u_mh1PBq",
        "outputId": "7b6a0f7d-00eb-4daf-e731-122433d7e134"
      },
      "execution_count": null,
      "outputs": [
        {
          "output_type": "stream",
          "name": "stdout",
          "text": [
            "Rappel du DataFrame final :\n",
            "             NomProduit      Categorie  PrixUnitaire  VentesMensuelles  \\\n",
            "PROD-001    Cafetière A        Cuisine         59.90               150   \n",
            "PROD-002   Bouilloire B        Cuisine         29.99               230   \n",
            "PROD-003  Grille-pain C        Cuisine         45.00                80   \n",
            "PROD-004       Mixeur D        Cuisine         79.50               110   \n",
            "PROD-005        Robot E  Petit-Électro        249.99                35   \n",
            "\n",
            "          NoteClient  ChiffreAffaires    Statut  \n",
            "PROD-001         4.6          8985.00   Vedette  \n",
            "PROD-002         4.8          6897.70   Vedette  \n",
            "PROD-003         4.2          3600.00  Standard  \n",
            "PROD-004         4.9          8745.00   Vedette  \n",
            "PROD-005         4.1          8749.65  Standard  \n"
          ]
        }
      ]
    },
    {
      "cell_type": "markdown",
      "source": [
        "#### Tâches à effectuer\n",
        "\n",
        "1. Calculez le chiffre d'affaires total pour chaque Categorie.\n",
        "\n",
        "2. Calculez la note client moyenne pour chaque Categorie.\n",
        "\n",
        "3. Comptez le nombre de produits qu'il y a dans chaque Statut ('Vedette' et 'Standard'). Pour cela, vous pouvez grouper par Statut et compter les NomProduit."
      ],
      "metadata": {
        "id": "S9HavfLu1RPR"
      }
    },
    {
      "cell_type": "code",
      "source": [
        "df_ca_groupe = df_ventes.groupby(df_ventes['Categorie'])['ChiffreAffaires'].sum()\n",
        "print(df_ca_groupe)\n",
        "\n",
        "df_ca_groupe = df_ventes.groupby(df_ventes['Categorie'])['NoteClient'].mean()\n",
        "print(df_ca_groupe)\n",
        "\n",
        "df_ca_groupe = df_ventes.groupby(df_ventes['Statut'])['NomProduit'].count()\n",
        "print(df_ca_groupe)"
      ],
      "metadata": {
        "colab": {
          "base_uri": "https://localhost:8080/"
        },
        "id": "TDcAp5Yn1TsZ",
        "outputId": "a189a567-5e46-48d5-c87a-d7981e461bf3"
      },
      "execution_count": null,
      "outputs": [
        {
          "output_type": "stream",
          "name": "stdout",
          "text": [
            "Categorie\n",
            "Cuisine          28227.70\n",
            "Petit-Électro     8749.65\n",
            "Name: ChiffreAffaires, dtype: float64\n",
            "Categorie\n",
            "Cuisine          4.625\n",
            "Petit-Électro    4.100\n",
            "Name: NoteClient, dtype: float64\n",
            "Statut\n",
            "Standard    2\n",
            "Vedette     3\n",
            "Name: NomProduit, dtype: int64\n"
          ]
        }
      ]
    },
    {
      "cell_type": "markdown",
      "source": [
        "## Agg"
      ],
      "metadata": {
        "id": "baOseshe3viM"
      }
    },
    {
      "cell_type": "code",
      "source": [
        "import pandas as pd\n",
        "import numpy as np\n",
        "\n",
        "catalogue = {\n",
        "    'NomProduit': ['Cafetière A', 'Bouilloire B', 'Grille-pain C', 'Mixeur D', 'Robot E'],\n",
        "    'Categorie': ['Cuisine', 'Cuisine', 'Cuisine', 'Cuisine', 'Petit-Électro'],\n",
        "    'PrixUnitaire': [59.90, 29.99, 45.00, 79.50, 249.99],\n",
        "    'VentesMensuelles': [150, 230, 80, 110, 35],\n",
        "    'NoteClient': [4.6, 4.8, 4.2, 4.9, 4.1]\n",
        "}\n",
        "id_produits = ['PROD-001', 'PROD-002', 'PROD-003', 'PROD-004', 'PROD-005']\n",
        "df_ventes = pd.DataFrame(catalogue, index=id_produits)\n",
        "df_ventes['ChiffreAffaires'] = df_ventes['PrixUnitaire'] * df_ventes['VentesMensuelles']\n",
        "produits_vedettes = (df_ventes['NoteClient'] >= 4.5) & (df_ventes['ChiffreAffaires'] > 5000)\n",
        "df_ventes['Statut'] = np.where(produits_vedettes, 'Vedette', 'Standard')"
      ],
      "metadata": {
        "id": "ijQQXMs53xUV"
      },
      "execution_count": null,
      "outputs": []
    },
    {
      "cell_type": "markdown",
      "source": [
        "#### Tâches à effectuer\n",
        "\n",
        "1. Agrégation simple : En groupant par Categorie, utilisez .agg() avec une liste pour calculer la somme (sum), la moyenne (mean), le minimum (min) et le maximum (max) de la colonne ChiffreAffaires.\n",
        "\n",
        "2. Agrégation avancée : En groupant par Categorie, utilisez .agg() avec un dictionnaire pour créer un rapport qui calcule :\n",
        "- Le total du ChiffreAffaires (sum).\n",
        "- La moyenne de la NoteClient (mean).\n",
        "- Le nombre de produits dans la catégorie (en utilisant count sur NomProduit)."
      ],
      "metadata": {
        "id": "oDoqABY33-FD"
      }
    },
    {
      "cell_type": "code",
      "source": [
        "df_ca_agg_simple = df_ventes.groupby('Categorie')['ChiffreAffaires'].agg(['sum','mean','min','max'])\n",
        "print(df_ca_agg_simple)\n",
        "\n",
        "aggreg_dict = {'ChiffreAffaires':'sum','NoteClient':'mean','NomProduit':'count'}\n",
        "df_ca_agg_adv = df_ventes.groupby('Categorie').agg(aggreg_dict)\n",
        "print(df_ca_agg_adv)"
      ],
      "metadata": {
        "colab": {
          "base_uri": "https://localhost:8080/"
        },
        "id": "o8w_jTgE39q8",
        "outputId": "fb9350d1-3643-4275-d5a1-7b41f6e9f5f2"
      },
      "execution_count": null,
      "outputs": [
        {
          "output_type": "stream",
          "name": "stdout",
          "text": [
            "                    sum      mean      min      max\n",
            "Categorie                                          \n",
            "Cuisine        28227.70  7056.925  3600.00  8985.00\n",
            "Petit-Électro   8749.65  8749.650  8749.65  8749.65\n",
            "               ChiffreAffaires  NoteClient  NomProduit\n",
            "Categorie                                             \n",
            "Cuisine               28227.70       4.625           4\n",
            "Petit-Électro          8749.65       4.100           1\n"
          ]
        }
      ]
    },
    {
      "cell_type": "markdown",
      "source": [
        "## Trier les valeurs"
      ],
      "metadata": {
        "id": "ygyDGjkg58_4"
      }
    },
    {
      "cell_type": "code",
      "source": [
        "import pandas as pd\n",
        "import numpy as np\n",
        "\n",
        "catalogue = {\n",
        "    'NomProduit': ['Cafetière A', 'Bouilloire B', 'Grille-pain C', 'Mixeur D', 'Robot E'],\n",
        "    'Categorie': ['Cuisine', 'Cuisine', 'Cuisine', 'Cuisine', 'Petit-Électro'],\n",
        "    'PrixUnitaire': [59.90, 29.99, 45.00, 79.50, 249.99],\n",
        "    'VentesMensuelles': [150, 230, 80, 110, 35],\n",
        "    'NoteClient': [4.6, 4.8, 4.2, 4.9, 4.1]\n",
        "}\n",
        "id_produits = ['PROD-001', 'PROD-002', 'PROD-003', 'PROD-004', 'PROD-005']\n",
        "df_ventes = pd.DataFrame(catalogue, index=id_produits)\n",
        "df_ventes['ChiffreAffaires'] = df_ventes['PrixUnitaire'] * df_ventes['VentesMensuelles']\n",
        "produits_vedettes = (df_ventes['NoteClient'] >= 4.5) & (df_ventes['ChiffreAffaires'] > 5000)\n",
        "df_ventes['Statut'] = np.where(produits_vedettes, 'Vedette', 'Standard')\n",
        "\n",
        "# Création directe du rapport\n",
        "aggreg_dict = {'ChiffreAffaires': 'sum', 'NoteClient': 'mean', 'NomProduit': 'count'}\n",
        "df_rapport = df_ventes.groupby('Categorie').agg(aggreg_dict)\n",
        "\n",
        "print(\"Voici le rapport non trié :\")\n",
        "print(df_rapport)"
      ],
      "metadata": {
        "colab": {
          "base_uri": "https://localhost:8080/"
        },
        "id": "1CSE5STR6BHl",
        "outputId": "d83977af-b00e-419b-b9ec-4ca8ad866c50"
      },
      "execution_count": null,
      "outputs": [
        {
          "output_type": "stream",
          "name": "stdout",
          "text": [
            "Voici le rapport non trié :\n",
            "               ChiffreAffaires  NoteClient  NomProduit\n",
            "Categorie                                             \n",
            "Cuisine               28227.70       4.625           4\n",
            "Petit-Électro          8749.65       4.100           1\n"
          ]
        }
      ]
    },
    {
      "cell_type": "markdown",
      "source": [
        "#### Tâches à effectuer\n",
        "\n",
        "1. Affichez le rapport trié par ChiffreAffaires décroissant (la catégorie la plus performante en premier).\n",
        "\n",
        "2. Affichez le rapport trié par NoteClient croissant (la catégorie avec la moins bonne note moyenne en premier)."
      ],
      "metadata": {
        "id": "ofszd6hD6Cdc"
      }
    },
    {
      "cell_type": "code",
      "source": [
        "print(df_rapport.sort_values(by = 'ChiffreAffaires',ascending = False))\n",
        "print(df_rapport.sort_values(by = 'NoteClient',ascending = True))\n"
      ],
      "metadata": {
        "colab": {
          "base_uri": "https://localhost:8080/"
        },
        "id": "vhP6tZfA6JYx",
        "outputId": "491f2150-3540-40f9-b8a9-20658f7a5a92"
      },
      "execution_count": null,
      "outputs": [
        {
          "output_type": "stream",
          "name": "stdout",
          "text": [
            "               ChiffreAffaires  NoteClient  NomProduit\n",
            "Categorie                                             \n",
            "Cuisine               28227.70       4.625           4\n",
            "Petit-Électro          8749.65       4.100           1\n",
            "               ChiffreAffaires  NoteClient  NomProduit\n",
            "Categorie                                             \n",
            "Petit-Électro          8749.65       4.100           1\n",
            "Cuisine               28227.70       4.625           4\n"
          ]
        }
      ]
    },
    {
      "cell_type": "markdown",
      "source": [
        "# Visualisation de données"
      ],
      "metadata": {
        "id": "s_yZGHgkbSNv"
      }
    },
    {
      "cell_type": "code",
      "source": [
        "import pandas as pd\n",
        "import numpy as np\n",
        "import matplotlib.pyplot as plt # Importation conventionnelle de Matplotlib\n",
        "\n",
        "catalogue = {\n",
        "    'NomProduit': ['Cafetière A', 'Bouilloire B', 'Grille-pain C', 'Mixeur D', 'Robot E'],\n",
        "    'Categorie': ['Cuisine', 'Cuisine', 'Cuisine', 'Cuisine', 'Petit-Électro'],\n",
        "    'PrixUnitaire': [59.90, 29.99, 45.00, 79.50, 249.99],\n",
        "    'VentesMensuelles': [150, 230, 80, 110, 35]\n",
        "}\n",
        "id_produits = ['PROD-001', 'PROD-002', 'PROD-003', 'PROD-004', 'PROD-005']\n",
        "df_ventes = pd.DataFrame(catalogue, index=id_produits)\n",
        "df_ventes['ChiffreAffaires'] = df_ventes['PrixUnitaire'] * df_ventes['VentesMensuelles']\n",
        "\n",
        "# On crée le rapport agrégé qui nous servira de source pour le graphique\n",
        "rapport_ca = df_ventes.groupby('Categorie')['ChiffreAffaires'].sum()\n",
        "\n",
        "print(\"Données à visualiser :\")\n",
        "print(rapport_ca)"
      ],
      "metadata": {
        "colab": {
          "base_uri": "https://localhost:8080/"
        },
        "id": "PNbMMu3HbgVO",
        "outputId": "eec7ac17-94a3-4942-8983-36c68c963533"
      },
      "execution_count": 1,
      "outputs": [
        {
          "output_type": "stream",
          "name": "stdout",
          "text": [
            "Données à visualiser :\n",
            "Categorie\n",
            "Cuisine          28227.70\n",
            "Petit-Électro     8749.65\n",
            "Name: ChiffreAffaires, dtype: float64\n"
          ]
        }
      ]
    },
    {
      "cell_type": "markdown",
      "source": [
        "#### Tâches à effectuer\n",
        "En utilisant matplotlib.pyplot (alias plt), créez un diagramme en barres simple qui montre le chiffre d'affaires pour chaque catégorie.\n",
        "\n",
        "Indices :\n",
        "1. La fonction principale à utiliser est plt.bar().\n",
        "2. Cette fonction a besoin de savoir ce qu'il faut mettre sur l'axe des X (les catégories) et sur l'axe des Y (le chiffre d'affaires).\n",
        "3. Pour un objet Série comme rapport_ca, vous pouvez accéder aux catégories avec rapport_ca.index et aux valeurs avec rapport_ca.values.\n",
        "4. Après avoir défini votre graphique, utilisez plt.show() pour l'afficher.\n",
        "\n"
      ],
      "metadata": {
        "id": "AMs8pgovbjlQ"
      }
    },
    {
      "cell_type": "code",
      "source": [
        "plt.bar(rapport_ca.index, rapport_ca.values)\n",
        "plt.show()"
      ],
      "metadata": {
        "colab": {
          "base_uri": "https://localhost:8080/",
          "height": 430
        },
        "id": "_buT33tLblrA",
        "outputId": "ba1112ed-460f-44e8-8ab7-1e6b5be0f450"
      },
      "execution_count": 2,
      "outputs": [
        {
          "output_type": "display_data",
          "data": {
            "text/plain": [
              "<Figure size 640x480 with 1 Axes>"
            ],
            "image/png": "[encoded data removed]"
          },
          "metadata": {}
        }
      ]
    },
    {
      "cell_type": "markdown",
      "source": [
        "#### Tâches à effectuer\n",
        "\n",
        "En partant de votre code plt.bar(...), ajoutez-lui :\n",
        "\n",
        "1. Le titre : \"Chiffre d'Affaires Total par Catégorie\"\n",
        "2. L'étiquette de l'axe X : \"Catégorie de Produit\"\n",
        "3. L'étiquette de l'axe Y : \"Chiffre d'Affaires (en €)\""
      ],
      "metadata": {
        "id": "gMGhfVGtbmsT"
      }
    },
    {
      "cell_type": "markdown",
      "source": [
        "#### Bar chart vertical"
      ],
      "metadata": {
        "id": "cDJG91DJbtW9"
      }
    },
    {
      "cell_type": "code",
      "source": [
        "plt.bar(rapport_ca.index, rapport_ca.values)\n",
        "plt.title(\"Chiffre d'Affaires Total par Catégorie\")\n",
        "plt.xlabel(\"Catégorie de Produit\")\n",
        "plt.ylabel(\"Chiffre d'Affaires (en €)\")\n",
        "plt.show()"
      ],
      "metadata": {
        "colab": {
          "base_uri": "https://localhost:8080/",
          "height": 473
        },
        "id": "2Sd0dR12bulq",
        "outputId": "e08ff9a6-9cfe-4d5b-aaa2-31bcbd7ae80c"
      },
      "execution_count": 4,
      "outputs": [
        {
          "output_type": "display_data",
          "data": {
            "text/plain": [
              "<Figure size 640x480 with 1 Axes>"
            ],
            "image/png": "[encoded data removed]"
          },
          "metadata": {}
        }
      ]
    },
    {
      "cell_type": "markdown",
      "source": [
        "#### Bar chart horizontal"
      ],
      "metadata": {
        "id": "cOgm7m-2bwPk"
      }
    },
    {
      "cell_type": "code",
      "source": [
        "plt.barh(rapport_ca.index, rapport_ca.values)\n",
        "plt.title(\"Chiffre d'Affaires Total par Catégorie\")\n",
        "plt.ylabel(\"Catégorie de Produit\")\n",
        "plt.xlabel(\"Chiffre d'Affaires (en €)\")\n",
        "plt.show()"
      ],
      "metadata": {
        "colab": {
          "base_uri": "https://localhost:8080/",
          "height": 472
        },
        "id": "i0ncWX5fbwqb",
        "outputId": "95b70ca8-91ed-40ad-a400-392066f868b9"
      },
      "execution_count": 3,
      "outputs": [
        {
          "output_type": "display_data",
          "data": {
            "text/plain": [
              "<Figure size 640x480 with 1 Axes>"
            ],
            "image/png": "[encoded data removed]"
          },
          "metadata": {}
        }
      ]
    }
  ]
}