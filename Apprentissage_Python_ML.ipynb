{
  "nbformat": 4,
  "nbformat_minor": 0,
  "metadata": {
    "colab": {
      "provenance": [],
      "collapsed_sections": [
        "NzxjjBhUYUf5"
      ],
      "toc_visible": true,
      "authorship_tag": "ABX9TyPmjDOHNBeKPqzJDet9UBqW",
      "include_colab_link": true
    },
    "kernelspec": {
      "name": "python3",
      "display_name": "Python 3"
    },
    "language_info": {
      "name": "python"
    }
  },
  "cells": [
    {
      "cell_type": "markdown",
      "metadata": {
        "id": "view-in-github",
        "colab_type": "text"
      },
      "source": [
        "<a href=\"https://colab.research.google.com/github/vicduch/apprentissageMLPython/blob/main/Apprentissage_Python_ML.ipynb\" target=\"_parent\"><img src=\"https://colab.research.google.com/assets/colab-badge.svg\" alt=\"Open In Colab\"/></a>"
      ]
    },
    {
      "cell_type": "markdown",
      "source": [
        "# Séléction de données"
      ],
      "metadata": {
        "id": "IdKV_xFNYRNs"
      }
    },
    {
      "cell_type": "markdown",
      "source": [
        "## Différence .loc et .iloc"
      ],
      "metadata": {
        "id": "BdhBys8sOuRF"
      }
    },
    {
      "cell_type": "code",
      "execution_count": null,
      "metadata": {
        "colab": {
          "base_uri": "https://localhost:8080/"
        },
        "id": "lhyUcTYmOqug",
        "outputId": "5697e68f-15fb-4289-aad7-015ae1fca6f1"
      },
      "outputs": [
        {
          "output_type": "stream",
          "name": "stdout",
          "text": [
            "Voici le DataFrame de départ :\n",
            "      Age Genre  TensionArtérielle  Cholestérol\n",
            "P001   45     H                120          210\n",
            "P002   52     F                132          240\n",
            "P003   34     F                115          190\n",
            "P004   29     H                118          180\n",
            "P005   68     F                140          260\n"
          ]
        }
      ],
      "source": [
        "import pandas as pd\n",
        "\n",
        "donnees = {\n",
        "    'Age': [45, 52, 34, 29, 68],\n",
        "    'Genre': ['H', 'F', 'F', 'H', 'F'],\n",
        "    'TensionArtérielle': [120, 132, 115, 118, 140],\n",
        "    'Cholestérol': [210, 240, 190, 180, 260]\n",
        "}\n",
        "index_patients = ['P001', 'P002', 'P003', 'P004', 'P005']\n",
        "\n",
        "df_patients = pd.DataFrame(donnees, index=index_patients)\n",
        "\n",
        "print(\"Voici le DataFrame de départ :\")\n",
        "print(df_patients)"
      ]
    },
    {
      "cell_type": "markdown",
      "source": [
        "#### Tâches à effectuer :\n",
        "\n",
        "1. Sélectionnez et affichez toutes les informations du patient avec l'identifiant 'P002'.\n",
        "\n",
        "2. Sélectionnez et affichez la valeur unique de la tension artérielle (TensionArtérielle) pour le patient 'P005'.\n",
        "\n",
        "3. En utilisant uniquement des positions numériques, sélectionnez et affichez les données des deux premiers patients (P001 et P002) pour les colonnes Genre et TensionArtérielle.\n",
        "\n",
        "4. En utilisant uniquement des positions numériques, sélectionnez et affichez un \"sous-DataFrame\" contenant les trois dernières lignes et les deux dernières colonnes."
      ],
      "metadata": {
        "id": "Wt9agNKVQJ6h"
      }
    },
    {
      "cell_type": "code",
      "source": [
        "données_p002 = df_patients.loc['P002']\n",
        "print(\"\\nDonnées du patient P002 :\")\n",
        "print(données_p002)\n",
        "\n",
        "tension_p005 = df_patients.loc['P005', 'TensionArtérielle']\n",
        "print(\"\\nTension du patient P005 :\")\n",
        "print(tension_p005)\n",
        "\n",
        "deux_premiers_patients = df_patients.iloc[:2, [1,2]]\n",
        "print(\"\\nDeux premiers patients :\")\n",
        "print(deux_premiers_patients)\n",
        "\n",
        "sous_df = df_patients.iloc[-3:,-2:]\n",
        "print(sous_df)\n"
      ],
      "metadata": {
        "colab": {
          "base_uri": "https://localhost:8080/"
        },
        "id": "-Dl9Q1NRQLmP",
        "outputId": "1c5e1c3b-9509-4507-8816-89a6e3f48723"
      },
      "execution_count": null,
      "outputs": [
        {
          "output_type": "stream",
          "name": "stdout",
          "text": [
            "\n",
            "Données du patient P002 :\n",
            "Age                   52\n",
            "Genre                  F\n",
            "TensionArtérielle    132\n",
            "Cholestérol          240\n",
            "Name: P002, dtype: object\n",
            "\n",
            "Tension du patient P005 :\n",
            "140\n",
            "\n",
            "Deux premiers patients :\n",
            "     Genre  TensionArtérielle\n",
            "P001     H                120\n",
            "P002     F                132\n",
            "      TensionArtérielle  Cholestérol\n",
            "P003                115          190\n",
            "P004                118          180\n",
            "P005                140          260\n"
          ]
        }
      ]
    },
    {
      "cell_type": "markdown",
      "source": [
        "#### *Remarques : Attention à bien utiliser les index de colonnes dans .iloc*"
      ],
      "metadata": {
        "id": "mVapn9mIXV3k"
      }
    },
    {
      "cell_type": "markdown",
      "source": [
        "## Filtrage conditionnel"
      ],
      "metadata": {
        "id": "NoVllhf_VikW"
      }
    },
    {
      "cell_type": "markdown",
      "source": [
        "#### Tâches à effectuer\n",
        "\n",
        "En réutilisant le même dataset\n",
        "\n",
        "1. Créez un nouveau DataFrame, df_seniors, qui contient uniquement les patients de plus de 50 ans.\n",
        "\n",
        "2. Créez un nouveau DataFrame, df_femmes, qui contient uniquement les patientes (Genre égal à 'F').\n",
        "\n",
        "3. Vous suspectez un risque cardiovasculaire accru chez certaines patientes. Créez un DataFrame df_risque_eleve qui ne contient que les patientes (Genre 'F') qui ont également un taux de cholestérol supérieur à 200."
      ],
      "metadata": {
        "id": "jJjDm5RqVplB"
      }
    },
    {
      "cell_type": "code",
      "source": [
        "seniors = df_patients['Age']>50\n",
        "df_seniors = df_patients[seniors]\n",
        "print(df_seniors)\n",
        "\n",
        "femmes = df_patients['Genre']=='F'\n",
        "df_femmes = df_patients[femmes]\n",
        "print(df_femmes)\n",
        "\n",
        "risque_eleve = df_patients['Cholestérol']>200\n",
        "df_risque_eleve = df_patients[(femmes) & (risque_eleve)]\n",
        "print(df_risque_eleve)"
      ],
      "metadata": {
        "colab": {
          "base_uri": "https://localhost:8080/"
        },
        "id": "Ub8zbV-lVlp1",
        "outputId": "f3b888f1-7056-4fd2-b985-ca6b5c2ecc43"
      },
      "execution_count": null,
      "outputs": [
        {
          "output_type": "stream",
          "name": "stdout",
          "text": [
            "      Age Genre  TensionArtérielle  Cholestérol\n",
            "P002   52     F                132          240\n",
            "P005   68     F                140          260\n",
            "      Age Genre  TensionArtérielle  Cholestérol\n",
            "P002   52     F                132          240\n",
            "P003   34     F                115          190\n",
            "P005   68     F                140          260\n",
            "      Age Genre  TensionArtérielle  Cholestérol\n",
            "P002   52     F                132          240\n",
            "P005   68     F                140          260\n"
          ]
        }
      ]
    },
    {
      "cell_type": "markdown",
      "source": [
        "#### *Remarques : Bien penser à écrire sur la même ligne pour simplifier :*\n",
        "\n",
        "```\n",
        "df_risque_eleve_alt = df_patients[(df_patients['Genre'] == 'F') & (df_patients['Cholestérol'] > 200)]\n",
        "```\n",
        "\n",
        "\n"
      ],
      "metadata": {
        "id": "Pwl27whiXnIb"
      }
    },
    {
      "cell_type": "markdown",
      "source": [
        "# Création et modifications de données"
      ],
      "metadata": {
        "id": "NzxjjBhUYUf5"
      }
    },
    {
      "cell_type": "markdown",
      "source": [
        "## Création de colonnes\n"
      ],
      "metadata": {
        "id": "UWHTSZbQYaMe"
      }
    },
    {
      "cell_type": "code",
      "source": [
        "import pandas as pd\n",
        "\n",
        "donnees = {\n",
        "    'Age': [45, 52, 34, 29, 68],\n",
        "    'Genre': ['H', 'F', 'F', 'H', 'F'],\n",
        "    'TensionArtérielle': [120, 132, 115, 118, 140],\n",
        "    'Cholestérol': [210, 240, 190, 180, 260]\n",
        "}\n",
        "index_patients = ['P001', 'P002', 'P003', 'P004', 'P005']\n",
        "\n",
        "df_patients = pd.DataFrame(donnees, index=index_patients)"
      ],
      "metadata": {
        "id": "aLve_l_4YcHl"
      },
      "execution_count": null,
      "outputs": []
    },
    {
      "cell_type": "markdown",
      "source": [
        "#### Tâches à effectuer\n",
        "1. Nous sommes en 2025. Créez une nouvelle colonne nommée AnneeNaissance qui contient l'année de naissance approximative de chaque patient.\n",
        "\n",
        "2. Pour évaluer un facteur de risque, un chercheur a émis l'hypothèse qu'un indice *Cholestérol/Age* pourrait être pertinent. Créez une nouvelle colonne nommée IndiceRisque qui contient le résultat de cette division.\n",
        "\n",
        "3. Après avoir créé les deux colonnes, affichez le DataFrame complet pour vérifier le résultat."
      ],
      "metadata": {
        "id": "mRf5gfjjYpEL"
      }
    },
    {
      "cell_type": "code",
      "source": [
        "df_patients['AnneeNaissance'] = 2025 - df_patients['Age']\n",
        "print(df_patients['AnneeNaissance'])\n",
        "\n",
        "df_patients['IndiceRisque'] = df_patients['Cholestérol']/df_patients['Age']\n",
        "print(df_patients['IndiceRisque'])\n",
        "\n",
        "print(df_patients)"
      ],
      "metadata": {
        "colab": {
          "base_uri": "https://localhost:8080/"
        },
        "id": "bUQuiIDVYwD1",
        "outputId": "601b3997-cc8e-412b-97c8-857334ac7e37"
      },
      "execution_count": null,
      "outputs": [
        {
          "output_type": "stream",
          "name": "stdout",
          "text": [
            "P001    1980\n",
            "P002    1973\n",
            "P003    1991\n",
            "P004    1996\n",
            "P005    1957\n",
            "Name: AnneeNaissance, dtype: int64\n",
            "P001    4.666667\n",
            "P002    4.615385\n",
            "P003    5.588235\n",
            "P004    6.206897\n",
            "P005    3.823529\n",
            "Name: IndiceRisque, dtype: float64\n",
            "      Age Genre  TensionArtérielle  Cholestérol  AnneeNaissance  IndiceRisque\n",
            "P001   45     H                120          210            1980      4.666667\n",
            "P002   52     F                132          240            1973      4.615385\n",
            "P003   34     F                115          190            1991      5.588235\n",
            "P004   29     H                118          180            1996      6.206897\n",
            "P005   68     F                140          260            1957      3.823529\n"
          ]
        }
      ]
    },
    {
      "cell_type": "markdown",
      "source": [
        "*Remarques :*\n",
        "\n",
        "La création de la colonne IndiceRisque est un exemple simple mais fondamental de ce que l'on appelle le Feature Engineering (création de variables).\n",
        "\n",
        "À votre avis, pourquoi un indice comme celui-ci pourrait être plus puissant pour un modèle de Machine Learning que de simplement utiliser les colonnes Age et Cholestérol séparément ?\n",
        "\n",
        "... C'est parce que cet indice capture une interaction entre les deux variables. Un taux de cholestérol de 260 n'a pas la même signification pour une personne de 29 ans que pour une personne de 68 ans. Votre nouvelle variable IndiceRisque contient cette information nuancée en un seul chiffre. C'est en créant ce genre de variables pertinentes que les data scientists apportent le plus de valeur."
      ],
      "metadata": {
        "id": "mlFCYyt1ZqUf"
      }
    },
    {
      "cell_type": "markdown",
      "source": [
        "## Création de colonnes conditionnelle"
      ],
      "metadata": {
        "id": "8pD9GBnKaJs2"
      }
    },
    {
      "cell_type": "markdown",
      "source": [
        "#### Tâches à effectuer\n",
        "\n",
        "1. Créez une nouvelle colonne CategorieTension. Si la TensionArtérielle d'un patient est strictement supérieure à 125, la valeur doit être 'Haute'. Sinon, la valeur doit être 'Normale'.\n",
        "\n",
        "2. Créez une colonne StatutRisque. Le statut doit être 'Élevé' uniquement si l'IndiceRisque est supérieur à 4.5 ET que l'Age est supérieur à 50. Dans tous les autres cas, le statut doit être 'Normal'.\n",
        "\n",
        "3. Affichez le DataFrame final avec ces deux nouvelles colonnes de catégories."
      ],
      "metadata": {
        "id": "ipxEVKwLaZM9"
      }
    },
    {
      "cell_type": "code",
      "source": [
        "import numpy as np\n",
        "\n",
        "df_patients['CategorieTension'] = np.where(df_patients['TensionArtérielle']>125,'Haute','Normale')\n",
        "print(df_patients['CategorieTension'])\n",
        "\n",
        "df_patients['StatutRisque'] = np.where((df_patients['IndiceRisque']>4.5) & (df_patients['Age']>50), 'Elevé', 'Normal')\n",
        "print(df_patients['StatutRisque'])\n",
        "\n",
        "print(df_patients)"
      ],
      "metadata": {
        "colab": {
          "base_uri": "https://localhost:8080/"
        },
        "id": "I0-i8QSpaTSM",
        "outputId": "dc321a13-ed9a-4542-e298-9673905ac76c"
      },
      "execution_count": null,
      "outputs": [
        {
          "output_type": "stream",
          "name": "stdout",
          "text": [
            "P001    Normale\n",
            "P002      Haute\n",
            "P003    Normale\n",
            "P004    Normale\n",
            "P005      Haute\n",
            "Name: CategorieTension, dtype: object\n",
            "P001    Normal\n",
            "P002     Elevé\n",
            "P003    Normal\n",
            "P004    Normal\n",
            "P005    Normal\n",
            "Name: StatutRisque, dtype: object\n",
            "      Age Genre  TensionArtérielle  Cholestérol  AnneeNaissance  IndiceRisque  \\\n",
            "P001   45     H                120          210            1980      4.666667   \n",
            "P002   52     F                132          240            1973      4.615385   \n",
            "P003   34     F                115          190            1991      5.588235   \n",
            "P004   29     H                118          180            1996      6.206897   \n",
            "P005   68     F                140          260            1957      3.823529   \n",
            "\n",
            "     CategorieTension StatutRisque  \n",
            "P001          Normale       Normal  \n",
            "P002            Haute        Elevé  \n",
            "P003          Normale       Normal  \n",
            "P004          Normale       Normal  \n",
            "P005            Haute       Normal  \n"
          ]
        }
      ]
    },
    {
      "cell_type": "markdown",
      "source": [
        "## Exo récap session 1"
      ],
      "metadata": {
        "id": "k9vXipFdzMCo"
      }
    },
    {
      "cell_type": "markdown",
      "source": [
        "#### Tâches à effectuer\n",
        "\n",
        "1. Sélection : En utilisant la méthode la plus appropriée, sélectionnez et affichez la ligne correspondant au produit dont l'identifiant est 'PROD-004'.\n",
        "\n",
        "2. Filtrage : Créez un nouveau DataFrame df_top_produits qui contient uniquement les produits de la catégorie 'Cuisine' ayant réalisé plus de 100 ventes mensuelles.\n",
        "\n",
        "3. Création de colonne (calcul) : Créez une nouvelle colonne ChiffreAffaires qui correspond au revenu généré par chaque produit (PrixUnitaire * VentesMensuelles).\n",
        "\n",
        "4. Création de colonne (conditionnelle) : Le service marketing souhaite identifier les \"Produits Vedettes\". Créez une colonne Statut qui aura la valeur 'Vedette' si la NoteClient est supérieure ou égale à 4.5 ET que le ChiffreAffaires est supérieur à 5000. Dans tous les autres cas, la valeur sera 'Standard'.\n",
        "\n",
        "Bonus : Affichez uniquement les colonnes NomProduit et Statut des produits qui ont été classés 'Vedette'.\n"
      ],
      "metadata": {
        "id": "a02bFWFUzSJN"
      }
    },
    {
      "cell_type": "code",
      "source": [
        "import pandas as pd\n",
        "import numpy as np\n",
        "\n",
        "catalogue = {\n",
        "    'NomProduit': ['Cafetière A', 'Bouilloire B', 'Grille-pain C', 'Mixeur D', 'Robot E'],\n",
        "    'Categorie': ['Cuisine', 'Cuisine', 'Cuisine', 'Cuisine', 'Petit-Électro'],\n",
        "    'PrixUnitaire': [59.90, 29.99, 45.00, 79.50, 249.99],\n",
        "    'VentesMensuelles': [150, 230, 80, 110, 35],\n",
        "    'NoteClient': [4.6, 4.8, 4.2, 4.9, 4.1]\n",
        "}\n",
        "id_produits = ['PROD-001', 'PROD-002', 'PROD-003', 'PROD-004', 'PROD-005']\n",
        "\n",
        "df_ventes = pd.DataFrame(catalogue, index=id_produits)\n",
        "\n",
        "print(\"Voici le DataFrame de départ :\")\n",
        "print(df_ventes)"
      ],
      "metadata": {
        "colab": {
          "base_uri": "https://localhost:8080/"
        },
        "id": "GxZId8Fbzns9",
        "outputId": "43c7afcd-a5d4-497e-8240-52907d69bbed"
      },
      "execution_count": null,
      "outputs": [
        {
          "output_type": "stream",
          "name": "stdout",
          "text": [
            "Voici le DataFrame de départ :\n",
            "             NomProduit      Categorie  PrixUnitaire  VentesMensuelles  \\\n",
            "PROD-001    Cafetière A        Cuisine         59.90               150   \n",
            "PROD-002   Bouilloire B        Cuisine         29.99               230   \n",
            "PROD-003  Grille-pain C        Cuisine         45.00                80   \n",
            "PROD-004       Mixeur D        Cuisine         79.50               110   \n",
            "PROD-005        Robot E  Petit-Électro        249.99                35   \n",
            "\n",
            "          NoteClient  \n",
            "PROD-001         4.6  \n",
            "PROD-002         4.8  \n",
            "PROD-003         4.2  \n",
            "PROD-004         4.9  \n",
            "PROD-005         4.1  \n"
          ]
        }
      ]
    },
    {
      "cell_type": "code",
      "source": [
        "#Question 1\n",
        "\n",
        "p004 = df_ventes.loc[\"PROD-004\"]\n",
        "print(p004)\n",
        "\n",
        "#Question 2\n",
        "df_cuisine_100 = df_ventes[(df_ventes[\"Categorie\"] == \"Cuisine\") & (df_ventes[\"VentesMensuelles\"]>100)]\n",
        "print(df_cuisine_100)\n",
        "\n",
        "#Question 3\n",
        "df_ventes['ChiffresAffaires'] = df_ventes['PrixUnitaire']*df_ventes['VentesMensuelles']\n",
        "print(df_ventes)\n",
        "\n",
        "#Question 4\n",
        "produits_vedettes = (df_ventes['NoteClient']>4.5)&(df_ventes['ChiffresAffaires']>5000)\n",
        "df_ventes['Statut'] = np.where(produits_vedettes,'Vedettes','Standard')\n",
        "print(df_ventes['Statut'])\n",
        "\n",
        "#Bonus\n",
        "df_bonus = df_ventes.loc[df_ventes['Statut']=='Vedettes',[\"NomProduit\",\"Statut\"]]\n",
        "print(df_bonus)"
      ],
      "metadata": {
        "colab": {
          "base_uri": "https://localhost:8080/"
        },
        "id": "AD7SwmzLzppJ",
        "outputId": "600696e6-3a0f-486f-d30c-c7ca4157e5e1"
      },
      "execution_count": null,
      "outputs": [
        {
          "output_type": "stream",
          "name": "stdout",
          "text": [
            "NomProduit          Mixeur D\n",
            "Categorie            Cuisine\n",
            "PrixUnitaire            79.5\n",
            "VentesMensuelles         110\n",
            "NoteClient               4.9\n",
            "ChiffresAffaires      8745.0\n",
            "Statut              Vedettes\n",
            "Name: PROD-004, dtype: object\n",
            "            NomProduit Categorie  PrixUnitaire  VentesMensuelles  NoteClient  \\\n",
            "PROD-001   Cafetière A   Cuisine         59.90               150         4.6   \n",
            "PROD-002  Bouilloire B   Cuisine         29.99               230         4.8   \n",
            "PROD-004      Mixeur D   Cuisine         79.50               110         4.9   \n",
            "\n",
            "          ChiffresAffaires    Statut  \n",
            "PROD-001            8985.0  Vedettes  \n",
            "PROD-002            6897.7  Vedettes  \n",
            "PROD-004            8745.0  Vedettes  \n",
            "             NomProduit      Categorie  PrixUnitaire  VentesMensuelles  \\\n",
            "PROD-001    Cafetière A        Cuisine         59.90               150   \n",
            "PROD-002   Bouilloire B        Cuisine         29.99               230   \n",
            "PROD-003  Grille-pain C        Cuisine         45.00                80   \n",
            "PROD-004       Mixeur D        Cuisine         79.50               110   \n",
            "PROD-005        Robot E  Petit-Électro        249.99                35   \n",
            "\n",
            "          NoteClient  ChiffresAffaires    Statut  \n",
            "PROD-001         4.6           8985.00  Vedettes  \n",
            "PROD-002         4.8           6897.70  Vedettes  \n",
            "PROD-003         4.2           3600.00  Standard  \n",
            "PROD-004         4.9           8745.00  Vedettes  \n",
            "PROD-005         4.1           8749.65  Standard  \n",
            "PROD-001    Vedettes\n",
            "PROD-002    Vedettes\n",
            "PROD-003    Standard\n",
            "PROD-004    Vedettes\n",
            "PROD-005    Standard\n",
            "Name: Statut, dtype: object\n",
            "            NomProduit    Statut\n",
            "PROD-001   Cafetière A  Vedettes\n",
            "PROD-002  Bouilloire B  Vedettes\n",
            "PROD-004      Mixeur D  Vedettes\n"
          ]
        }
      ]
    },
    {
      "cell_type": "markdown",
      "source": [
        "*Beaucoup d'erreurs faites pour la question 2 : toujours bien utiliser une selection de df_ventes, donc\n",
        "\n",
        "```\n",
        "df_ventes[(df_ventes[condition1])&(df_ventes[condition2])]\n",
        "```\n",
        "\n"
      ],
      "metadata": {
        "id": "CjefBW9k1-3Z"
      }
    },
    {
      "cell_type": "markdown",
      "source": [
        "## GroupBy"
      ],
      "metadata": {
        "id": "o-3xT6_H1IkY"
      }
    },
    {
      "cell_type": "code",
      "source": [
        "import pandas as pd\n",
        "import numpy as np\n",
        "\n",
        "catalogue = {\n",
        "    'NomProduit': ['Cafetière A', 'Bouilloire B', 'Grille-pain C', 'Mixeur D', 'Robot E'],\n",
        "    'Categorie': ['Cuisine', 'Cuisine', 'Cuisine', 'Cuisine', 'Petit-Électro'],\n",
        "    'PrixUnitaire': [59.90, 29.99, 45.00, 79.50, 249.99],\n",
        "    'VentesMensuelles': [150, 230, 80, 110, 35],\n",
        "    'NoteClient': [4.6, 4.8, 4.2, 4.9, 4.1]\n",
        "}\n",
        "id_produits = ['PROD-001', 'PROD-002', 'PROD-003', 'PROD-004', 'PROD-005']\n",
        "df_ventes = pd.DataFrame(catalogue, index=id_produits)\n",
        "df_ventes['ChiffreAffaires'] = df_ventes['PrixUnitaire'] * df_ventes['VentesMensuelles']\n",
        "produits_vedettes = (df_ventes['NoteClient'] >= 4.5) & (df_ventes['ChiffreAffaires'] > 5000)\n",
        "df_ventes['Statut'] = np.where(produits_vedettes, 'Vedette', 'Standard')\n",
        "\n",
        "print(\"Rappel du DataFrame final :\")\n",
        "print(df_ventes)"
      ],
      "metadata": {
        "colab": {
          "base_uri": "https://localhost:8080/"
        },
        "id": "ZuI_u_mh1PBq",
        "outputId": "7b6a0f7d-00eb-4daf-e731-122433d7e134"
      },
      "execution_count": null,
      "outputs": [
        {
          "output_type": "stream",
          "name": "stdout",
          "text": [
            "Rappel du DataFrame final :\n",
            "             NomProduit      Categorie  PrixUnitaire  VentesMensuelles  \\\n",
            "PROD-001    Cafetière A        Cuisine         59.90               150   \n",
            "PROD-002   Bouilloire B        Cuisine         29.99               230   \n",
            "PROD-003  Grille-pain C        Cuisine         45.00                80   \n",
            "PROD-004       Mixeur D        Cuisine         79.50               110   \n",
            "PROD-005        Robot E  Petit-Électro        249.99                35   \n",
            "\n",
            "          NoteClient  ChiffreAffaires    Statut  \n",
            "PROD-001         4.6          8985.00   Vedette  \n",
            "PROD-002         4.8          6897.70   Vedette  \n",
            "PROD-003         4.2          3600.00  Standard  \n",
            "PROD-004         4.9          8745.00   Vedette  \n",
            "PROD-005         4.1          8749.65  Standard  \n"
          ]
        }
      ]
    },
    {
      "cell_type": "markdown",
      "source": [
        "#### Tâches à effectuer\n",
        "\n",
        "1. Calculez le chiffre d'affaires total pour chaque Categorie.\n",
        "\n",
        "2. Calculez la note client moyenne pour chaque Categorie.\n",
        "\n",
        "3. Comptez le nombre de produits qu'il y a dans chaque Statut ('Vedette' et 'Standard'). Pour cela, vous pouvez grouper par Statut et compter les NomProduit."
      ],
      "metadata": {
        "id": "S9HavfLu1RPR"
      }
    },
    {
      "cell_type": "code",
      "source": [
        "df_ca_groupe = df_ventes.groupby(df_ventes['Categorie'])['ChiffreAffaires'].sum()\n",
        "print(df_ca_groupe)\n",
        "\n",
        "df_ca_groupe = df_ventes.groupby(df_ventes['Categorie'])['NoteClient'].mean()\n",
        "print(df_ca_groupe)\n",
        "\n",
        "df_ca_groupe = df_ventes.groupby(df_ventes['Statut'])['NomProduit'].count()\n",
        "print(df_ca_groupe)"
      ],
      "metadata": {
        "colab": {
          "base_uri": "https://localhost:8080/"
        },
        "id": "TDcAp5Yn1TsZ",
        "outputId": "a189a567-5e46-48d5-c87a-d7981e461bf3"
      },
      "execution_count": null,
      "outputs": [
        {
          "output_type": "stream",
          "name": "stdout",
          "text": [
            "Categorie\n",
            "Cuisine          28227.70\n",
            "Petit-Électro     8749.65\n",
            "Name: ChiffreAffaires, dtype: float64\n",
            "Categorie\n",
            "Cuisine          4.625\n",
            "Petit-Électro    4.100\n",
            "Name: NoteClient, dtype: float64\n",
            "Statut\n",
            "Standard    2\n",
            "Vedette     3\n",
            "Name: NomProduit, dtype: int64\n"
          ]
        }
      ]
    },
    {
      "cell_type": "markdown",
      "source": [
        "## Agg"
      ],
      "metadata": {
        "id": "baOseshe3viM"
      }
    },
    {
      "cell_type": "code",
      "source": [
        "import pandas as pd\n",
        "import numpy as np\n",
        "\n",
        "catalogue = {\n",
        "    'NomProduit': ['Cafetière A', 'Bouilloire B', 'Grille-pain C', 'Mixeur D', 'Robot E'],\n",
        "    'Categorie': ['Cuisine', 'Cuisine', 'Cuisine', 'Cuisine', 'Petit-Électro'],\n",
        "    'PrixUnitaire': [59.90, 29.99, 45.00, 79.50, 249.99],\n",
        "    'VentesMensuelles': [150, 230, 80, 110, 35],\n",
        "    'NoteClient': [4.6, 4.8, 4.2, 4.9, 4.1]\n",
        "}\n",
        "id_produits = ['PROD-001', 'PROD-002', 'PROD-003', 'PROD-004', 'PROD-005']\n",
        "df_ventes = pd.DataFrame(catalogue, index=id_produits)\n",
        "df_ventes['ChiffreAffaires'] = df_ventes['PrixUnitaire'] * df_ventes['VentesMensuelles']\n",
        "produits_vedettes = (df_ventes['NoteClient'] >= 4.5) & (df_ventes['ChiffreAffaires'] > 5000)\n",
        "df_ventes['Statut'] = np.where(produits_vedettes, 'Vedette', 'Standard')"
      ],
      "metadata": {
        "id": "ijQQXMs53xUV"
      },
      "execution_count": null,
      "outputs": []
    },
    {
      "cell_type": "markdown",
      "source": [
        "#### Tâches à effectuer\n",
        "\n",
        "1. Agrégation simple : En groupant par Categorie, utilisez .agg() avec une liste pour calculer la somme (sum), la moyenne (mean), le minimum (min) et le maximum (max) de la colonne ChiffreAffaires.\n",
        "\n",
        "2. Agrégation avancée : En groupant par Categorie, utilisez .agg() avec un dictionnaire pour créer un rapport qui calcule :\n",
        "- Le total du ChiffreAffaires (sum).\n",
        "- La moyenne de la NoteClient (mean).\n",
        "- Le nombre de produits dans la catégorie (en utilisant count sur NomProduit)."
      ],
      "metadata": {
        "id": "oDoqABY33-FD"
      }
    },
    {
      "cell_type": "code",
      "source": [
        "df_ca_agg_simple = df_ventes.groupby('Categorie')['ChiffreAffaires'].agg(['sum','mean','min','max'])\n",
        "print(df_ca_agg_simple)\n",
        "\n",
        "aggreg_dict = {'ChiffreAffaires':'sum','NoteClient':'mean','NomProduit':'count'}\n",
        "df_ca_agg_adv = df_ventes.groupby('Categorie').agg(aggreg_dict)\n",
        "print(df_ca_agg_adv)"
      ],
      "metadata": {
        "colab": {
          "base_uri": "https://localhost:8080/"
        },
        "id": "o8w_jTgE39q8",
        "outputId": "fb9350d1-3643-4275-d5a1-7b41f6e9f5f2"
      },
      "execution_count": null,
      "outputs": [
        {
          "output_type": "stream",
          "name": "stdout",
          "text": [
            "                    sum      mean      min      max\n",
            "Categorie                                          \n",
            "Cuisine        28227.70  7056.925  3600.00  8985.00\n",
            "Petit-Électro   8749.65  8749.650  8749.65  8749.65\n",
            "               ChiffreAffaires  NoteClient  NomProduit\n",
            "Categorie                                             \n",
            "Cuisine               28227.70       4.625           4\n",
            "Petit-Électro          8749.65       4.100           1\n"
          ]
        }
      ]
    },
    {
      "cell_type": "markdown",
      "source": [
        "## Trier les valeurs"
      ],
      "metadata": {
        "id": "ygyDGjkg58_4"
      }
    },
    {
      "cell_type": "code",
      "source": [
        "import pandas as pd\n",
        "import numpy as np\n",
        "\n",
        "catalogue = {\n",
        "    'NomProduit': ['Cafetière A', 'Bouilloire B', 'Grille-pain C', 'Mixeur D', 'Robot E'],\n",
        "    'Categorie': ['Cuisine', 'Cuisine', 'Cuisine', 'Cuisine', 'Petit-Électro'],\n",
        "    'PrixUnitaire': [59.90, 29.99, 45.00, 79.50, 249.99],\n",
        "    'VentesMensuelles': [150, 230, 80, 110, 35],\n",
        "    'NoteClient': [4.6, 4.8, 4.2, 4.9, 4.1]\n",
        "}\n",
        "id_produits = ['PROD-001', 'PROD-002', 'PROD-003', 'PROD-004', 'PROD-005']\n",
        "df_ventes = pd.DataFrame(catalogue, index=id_produits)\n",
        "df_ventes['ChiffreAffaires'] = df_ventes['PrixUnitaire'] * df_ventes['VentesMensuelles']\n",
        "produits_vedettes = (df_ventes['NoteClient'] >= 4.5) & (df_ventes['ChiffreAffaires'] > 5000)\n",
        "df_ventes['Statut'] = np.where(produits_vedettes, 'Vedette', 'Standard')\n",
        "\n",
        "# Création directe du rapport\n",
        "aggreg_dict = {'ChiffreAffaires': 'sum', 'NoteClient': 'mean', 'NomProduit': 'count'}\n",
        "df_rapport = df_ventes.groupby('Categorie').agg(aggreg_dict)\n",
        "\n",
        "print(\"Voici le rapport non trié :\")\n",
        "print(df_rapport)"
      ],
      "metadata": {
        "colab": {
          "base_uri": "https://localhost:8080/"
        },
        "id": "1CSE5STR6BHl",
        "outputId": "d83977af-b00e-419b-b9ec-4ca8ad866c50"
      },
      "execution_count": null,
      "outputs": [
        {
          "output_type": "stream",
          "name": "stdout",
          "text": [
            "Voici le rapport non trié :\n",
            "               ChiffreAffaires  NoteClient  NomProduit\n",
            "Categorie                                             \n",
            "Cuisine               28227.70       4.625           4\n",
            "Petit-Électro          8749.65       4.100           1\n"
          ]
        }
      ]
    },
    {
      "cell_type": "markdown",
      "source": [
        "#### Tâches à effectuer\n",
        "\n",
        "1. Affichez le rapport trié par ChiffreAffaires décroissant (la catégorie la plus performante en premier).\n",
        "\n",
        "2. Affichez le rapport trié par NoteClient croissant (la catégorie avec la moins bonne note moyenne en premier)."
      ],
      "metadata": {
        "id": "ofszd6hD6Cdc"
      }
    },
    {
      "cell_type": "code",
      "source": [
        "print(df_rapport.sort_values(by = 'ChiffreAffaires',ascending = False))\n",
        "print(df_rapport.sort_values(by = 'NoteClient',ascending = True))\n"
      ],
      "metadata": {
        "colab": {
          "base_uri": "https://localhost:8080/"
        },
        "id": "vhP6tZfA6JYx",
        "outputId": "491f2150-3540-40f9-b8a9-20658f7a5a92"
      },
      "execution_count": null,
      "outputs": [
        {
          "output_type": "stream",
          "name": "stdout",
          "text": [
            "               ChiffreAffaires  NoteClient  NomProduit\n",
            "Categorie                                             \n",
            "Cuisine               28227.70       4.625           4\n",
            "Petit-Électro          8749.65       4.100           1\n",
            "               ChiffreAffaires  NoteClient  NomProduit\n",
            "Categorie                                             \n",
            "Petit-Électro          8749.65       4.100           1\n",
            "Cuisine               28227.70       4.625           4\n"
          ]
        }
      ]
    },
    {
      "cell_type": "markdown",
      "source": [
        "# Visualisation de données"
      ],
      "metadata": {
        "id": "s_yZGHgkbSNv"
      }
    },
    {
      "cell_type": "markdown",
      "source": [
        "### Matplotlib"
      ],
      "metadata": {
        "id": "tZL7A66-yix5"
      }
    },
    {
      "cell_type": "code",
      "source": [
        "import pandas as pd\n",
        "import numpy as np\n",
        "import matplotlib.pyplot as plt # Importation conventionnelle de Matplotlib\n",
        "\n",
        "catalogue = {\n",
        "    'NomProduit': ['Cafetière A', 'Bouilloire B', 'Grille-pain C', 'Mixeur D', 'Robot E'],\n",
        "    'Categorie': ['Cuisine', 'Cuisine', 'Cuisine', 'Cuisine', 'Petit-Électro'],\n",
        "    'PrixUnitaire': [59.90, 29.99, 45.00, 79.50, 249.99],\n",
        "    'VentesMensuelles': [150, 230, 80, 110, 35]\n",
        "}\n",
        "id_produits = ['PROD-001', 'PROD-002', 'PROD-003', 'PROD-004', 'PROD-005']\n",
        "df_ventes = pd.DataFrame(catalogue, index=id_produits)\n",
        "df_ventes['ChiffreAffaires'] = df_ventes['PrixUnitaire'] * df_ventes['VentesMensuelles']\n",
        "\n",
        "# On crée le rapport agrégé qui nous servira de source pour le graphique\n",
        "rapport_ca = df_ventes.groupby('Categorie')['ChiffreAffaires'].sum()\n",
        "\n",
        "print(\"Données à visualiser :\")\n",
        "print(rapport_ca)"
      ],
      "metadata": {
        "colab": {
          "base_uri": "https://localhost:8080/"
        },
        "id": "PNbMMu3HbgVO",
        "outputId": "eec7ac17-94a3-4942-8983-36c68c963533"
      },
      "execution_count": null,
      "outputs": [
        {
          "output_type": "stream",
          "name": "stdout",
          "text": [
            "Données à visualiser :\n",
            "Categorie\n",
            "Cuisine          28227.70\n",
            "Petit-Électro     8749.65\n",
            "Name: ChiffreAffaires, dtype: float64\n"
          ]
        }
      ]
    },
    {
      "cell_type": "markdown",
      "source": [
        "#### Tâches à effectuer\n",
        "En utilisant matplotlib.pyplot (alias plt), créez un diagramme en barres simple qui montre le chiffre d'affaires pour chaque catégorie.\n",
        "\n",
        "Indices :\n",
        "1. La fonction principale à utiliser est plt.bar().\n",
        "2. Cette fonction a besoin de savoir ce qu'il faut mettre sur l'axe des X (les catégories) et sur l'axe des Y (le chiffre d'affaires).\n",
        "3. Pour un objet Série comme rapport_ca, vous pouvez accéder aux catégories avec rapport_ca.index et aux valeurs avec rapport_ca.values.\n",
        "4. Après avoir défini votre graphique, utilisez plt.show() pour l'afficher.\n",
        "\n"
      ],
      "metadata": {
        "id": "AMs8pgovbjlQ"
      }
    },
    {
      "cell_type": "code",
      "source": [
        "plt.bar(rapport_ca.index, rapport_ca.values)\n",
        "plt.show()"
      ],
      "metadata": {
        "colab": {
          "base_uri": "https://localhost:8080/",
          "height": 430
        },
        "id": "_buT33tLblrA",
        "outputId": "ba1112ed-460f-44e8-8ab7-1e6b5be0f450"
      },
      "execution_count": null,
      "outputs": [
        {
          "output_type": "display_data",
          "data": {
            "text/plain": [
              "<Figure size 640x480 with 1 Axes>"
            ],
            "image/png": "[encoded data removed]"
          },
          "metadata": {}
        }
      ]
    },
    {
      "cell_type": "markdown",
      "source": [
        "#### Tâches à effectuer\n",
        "\n",
        "En partant de votre code plt.bar(...), ajoutez-lui :\n",
        "\n",
        "1. Le titre : \"Chiffre d'Affaires Total par Catégorie\"\n",
        "2. L'étiquette de l'axe X : \"Catégorie de Produit\"\n",
        "3. L'étiquette de l'axe Y : \"Chiffre d'Affaires (en €)\""
      ],
      "metadata": {
        "id": "gMGhfVGtbmsT"
      }
    },
    {
      "cell_type": "markdown",
      "source": [
        "#### Bar chart vertical"
      ],
      "metadata": {
        "id": "cDJG91DJbtW9"
      }
    },
    {
      "cell_type": "code",
      "source": [
        "plt.bar(rapport_ca.index, rapport_ca.values)\n",
        "plt.title(\"Chiffre d'Affaires Total par Catégorie\")\n",
        "plt.xlabel(\"Catégorie de Produit\")\n",
        "plt.ylabel(\"Chiffre d'Affaires (en €)\")\n",
        "plt.show()"
      ],
      "metadata": {
        "colab": {
          "base_uri": "https://localhost:8080/",
          "height": 473
        },
        "id": "2Sd0dR12bulq",
        "outputId": "e08ff9a6-9cfe-4d5b-aaa2-31bcbd7ae80c"
      },
      "execution_count": null,
      "outputs": [
        {
          "output_type": "display_data",
          "data": {
            "text/plain": [
              "<Figure size 640x480 with 1 Axes>"
            ],
            "image/png": "[encoded data removed]"
          },
          "metadata": {}
        }
      ]
    },
    {
      "cell_type": "markdown",
      "source": [
        "#### Bar chart horizontal"
      ],
      "metadata": {
        "id": "cOgm7m-2bwPk"
      }
    },
    {
      "cell_type": "code",
      "source": [
        "plt.barh(rapport_ca.index, rapport_ca.values)\n",
        "plt.title(\"Chiffre d'Affaires Total par Catégorie\")\n",
        "plt.ylabel(\"Catégorie de Produit\")\n",
        "plt.xlabel(\"Chiffre d'Affaires (en €)\")\n",
        "plt.show()"
      ],
      "metadata": {
        "colab": {
          "base_uri": "https://localhost:8080/",
          "height": 472
        },
        "id": "i0ncWX5fbwqb",
        "outputId": "95b70ca8-91ed-40ad-a400-392066f868b9"
      },
      "execution_count": null,
      "outputs": [
        {
          "output_type": "display_data",
          "data": {
            "text/plain": [
              "<Figure size 640x480 with 1 Axes>"
            ],
            "image/png": "[encoded data removed]"
          },
          "metadata": {}
        }
      ]
    },
    {
      "cell_type": "markdown",
      "source": [
        "### Seaborn"
      ],
      "metadata": {
        "id": "pvxiIJNiymHA"
      }
    },
    {
      "cell_type": "markdown",
      "source": [
        "#### Bar chart"
      ],
      "metadata": {
        "id": "XpyZVkuU0x0b"
      }
    },
    {
      "cell_type": "code",
      "source": [
        "import pandas as pd\n",
        "import seaborn as sns # Importation conventionnelle de Seaborn\n",
        "import matplotlib.pyplot as plt # On a toujours besoin de Matplotlib pour afficher\n",
        "\n",
        "catalogue = {\n",
        "    'NomProduit': ['Cafetière A', 'Bouilloire B', 'Grille-pain C', 'Mixeur D', 'Robot E'],\n",
        "    'Categorie': ['Cuisine', 'Cuisine', 'Cuisine', 'Cuisine', 'Petit-Électro'],\n",
        "    'PrixUnitaire': [59.90, 29.99, 45.00, 79.50, 249.99],\n",
        "    'VentesMensuelles': [150, 230, 80, 110, 35]\n",
        "}\n",
        "id_produits = ['PROD-001', 'PROD-002', 'PROD-003', 'PROD-004', 'PROD-005']\n",
        "df_ventes = pd.DataFrame(catalogue, index=id_produits)\n",
        "df_ventes['ChiffreAffaires'] = df_ventes['PrixUnitaire'] * df_ventes['VentesMensuelles']\n",
        "\n",
        "print(\"DataFrame utilisé par Seaborn :\")\n",
        "print(df_ventes)"
      ],
      "metadata": {
        "id": "Y8nIZr8OypOW",
        "outputId": "02379f77-ed14-4e28-861b-18df86a47ccb",
        "colab": {
          "base_uri": "https://localhost:8080/"
        }
      },
      "execution_count": null,
      "outputs": [
        {
          "output_type": "stream",
          "name": "stdout",
          "text": [
            "DataFrame utilisé par Seaborn :\n",
            "             NomProduit      Categorie  PrixUnitaire  VentesMensuelles  \\\n",
            "PROD-001    Cafetière A        Cuisine         59.90               150   \n",
            "PROD-002   Bouilloire B        Cuisine         29.99               230   \n",
            "PROD-003  Grille-pain C        Cuisine         45.00                80   \n",
            "PROD-004       Mixeur D        Cuisine         79.50               110   \n",
            "PROD-005        Robot E  Petit-Électro        249.99                35   \n",
            "\n",
            "          ChiffreAffaires  \n",
            "PROD-001          8985.00  \n",
            "PROD-002          6897.70  \n",
            "PROD-003          3600.00  \n",
            "PROD-004          8745.00  \n",
            "PROD-005          8749.65  \n"
          ]
        }
      ]
    },
    {
      "cell_type": "markdown",
      "source": [
        "#### Tâches à effectuer\n",
        "\n",
        "En utilisant seaborn.barplot(), créez un diagramme en barres qui montre le chiffre d'affaires pour chaque catégorie.\n",
        "\n",
        "Indices :\n",
        "\n",
        "La fonction sns.barplot() a plusieurs paramètres, mais les plus importants sont :\n",
        "\n",
        "- data: Le DataFrame que vous voulez utiliser (ici, df_ventes).\n",
        "\n",
        "- x: Le nom de la colonne pour l'axe des X (ici, 'Categorie').\n",
        "\n",
        "- y: Le nom de la colonne pour l'axe des Y (ici, 'ChiffreAffaires').\n",
        "\n",
        "Par défaut, si Seaborn trouve plusieurs lignes pour une même catégorie sur l'axe X, il calcule et affiche la moyenne. Pour lui demander de faire la somme, il faut ajouter le paramètre estimator=sum.\n",
        "\n",
        "N'oubliez pas plt.show() à la fin pour afficher le graphique.\n"
      ],
      "metadata": {
        "id": "qoBDmj73yucB"
      }
    },
    {
      "cell_type": "code",
      "source": [
        "sns.barplot(data = df_ventes, x = 'Categorie', y = 'ChiffreAffaires', estimator = 'sum', errorbar=None)\n",
        "plt.xlabel('Catégorie')\n",
        "plt.ylabel(\"Chiffres d'affaires (en €)\")\n",
        "plt.title(\"Somme totale du chiffres d'affaires par catégorie\")\n",
        "plt.show()"
      ],
      "metadata": {
        "id": "Cys-mCoBytof",
        "outputId": "fde81187-7574-4751-fc6a-b96c68671adc",
        "colab": {
          "base_uri": "https://localhost:8080/",
          "height": 473
        }
      },
      "execution_count": null,
      "outputs": [
        {
          "output_type": "display_data",
          "data": {
            "text/plain": [
              "<Figure size 640x480 with 1 Axes>"
            ],
            "image/png": "[encoded data removed]"
          },
          "metadata": {}
        }
      ]
    },
    {
      "cell_type": "markdown",
      "source": [
        "#### Hist plot"
      ],
      "metadata": {
        "id": "cNsd8WCA02Ky"
      }
    },
    {
      "cell_type": "code",
      "source": [
        "import pandas as pd\n",
        "import seaborn as sns\n",
        "import matplotlib.pyplot as plt\n",
        "\n",
        "# ... (Code de création du df_ventes) ...\n",
        "df_ventes = pd.DataFrame({\n",
        "    'NomProduit': ['Cafetière A', 'Bouilloire B', 'Grille-pain C', 'Mixeur D', 'Robot E'],\n",
        "    'Categorie': ['Cuisine', 'Cuisine', 'Cuisine', 'Cuisine', 'Petit-Électro'],\n",
        "    'PrixUnitaire': [59.90, 29.99, 45.00, 79.50, 249.99],\n",
        "    'VentesMensuelles': [150, 230, 80, 110, 35]\n",
        "})"
      ],
      "metadata": {
        "id": "e5dO8M4y03_P"
      },
      "execution_count": null,
      "outputs": []
    },
    {
      "cell_type": "markdown",
      "source": [
        "#### Tâche à effectuer\n",
        "\n",
        "Créez un histogramme de la colonne PrixUnitaire de notre DataFrame df_ventes.\n",
        "\n",
        "Indices :\n",
        "\n",
        "1. Utilisez la fonction sns.histplot().\n",
        "\n",
        "2. Ses principaux arguments sont data (votre DataFrame) et x (le nom de la colonne dont vous voulez voir la distribution).\n",
        "\n",
        "3. Vous pouvez aussi ajouter un titre et des labels comme nous l'avons fait précédemment pour rendre le graphique plus clair."
      ],
      "metadata": {
        "id": "gARDTXoR0-70"
      }
    },
    {
      "cell_type": "code",
      "source": [
        "sns.histplot(df_ventes, x = 'PrixUnitaire')\n",
        "plt.xlabel('Prix unitaire')\n",
        "plt.ylabel('Nombre de produits')\n",
        "plt.title('Répartition des produits selon leur gamme de prix')\n",
        "plt.show()"
      ],
      "metadata": {
        "id": "OZ50t2YI1GX5",
        "outputId": "6c5bbd0b-0878-409a-a50f-74c7c8b13e5d",
        "colab": {
          "base_uri": "https://localhost:8080/",
          "height": 472
        }
      },
      "execution_count": null,
      "outputs": [
        {
          "output_type": "display_data",
          "data": {
            "text/plain": [
              "<Figure size 640x480 with 1 Axes>"
            ],
            "image/png": "[encoded data removed]"
          },
          "metadata": {}
        }
      ]
    },
    {
      "cell_type": "markdown",
      "source": [
        "## Scatter plot\n"
      ],
      "metadata": {
        "id": "iMxBLksvwhUP"
      }
    },
    {
      "cell_type": "code",
      "source": [
        "import pandas as pd\n",
        "import seaborn as sns\n",
        "import matplotlib.pyplot as plt\n",
        "\n",
        "# ... (Code de création du df_ventes) ...\n",
        "df_ventes = pd.DataFrame({\n",
        "    'NomProduit': ['Cafetière A', 'Bouilloire B', 'Grille-pain C', 'Mixeur D', 'Robot E'],\n",
        "    'Categorie': ['Cuisine', 'Cuisine', 'Cuisine', 'Cuisine', 'Petit-Électro'],\n",
        "    'PrixUnitaire': [59.90, 29.99, 45.00, 79.50, 249.99],\n",
        "    'VentesMensuelles': [150, 230, 80, 110, 35]\n",
        "})"
      ],
      "metadata": {
        "id": "hDDiNk80wkgc"
      },
      "execution_count": null,
      "outputs": []
    },
    {
      "cell_type": "markdown",
      "source": [
        "#### Tâches à effectuer\n",
        "\n",
        "Créez un nuage de points pour visualiser la relation entre PrixUnitaire (sur l'axe X) et VentesMensuelles (sur l'axe Y).\n",
        "\n",
        "Indices :\n",
        "\n",
        "1. Utilisez la fonction sns.scatterplot().\n",
        "\n",
        "2. Ses arguments principaux sont data, x, et y.\n",
        "\n",
        "3. N'oubliez pas d'habiller votre graphique avec un titre et des labels pertinents pour le rendre facile à interpréter."
      ],
      "metadata": {
        "id": "LifvGckAwmax"
      }
    },
    {
      "cell_type": "code",
      "source": [
        "sns.scatterplot(df_ventes,x='PrixUnitaire',y='VentesMensuelles')\n",
        "plt.xlabel('Prix unitaire des produits')\n",
        "plt.ylabel('Ventes mensuelles des produits')\n",
        "plt.title('Ventes mensuelles en fonction du prix unitaire des produits')\n",
        "plt.show()"
      ],
      "metadata": {
        "id": "cmoDFfnhww5H",
        "outputId": "f1b47d3b-d112-46f4-94df-61ccc7577e66",
        "colab": {
          "base_uri": "https://localhost:8080/",
          "height": 472
        }
      },
      "execution_count": null,
      "outputs": [
        {
          "output_type": "display_data",
          "data": {
            "text/plain": [
              "<Figure size 640x480 with 1 Axes>"
            ],
            "image/png": "[encoded data removed]"
          },
          "metadata": {}
        }
      ]
    },
    {
      "cell_type": "markdown",
      "source": [
        "# Mini-projet de synthèse"
      ],
      "metadata": {
        "id": "7YesDxLA5x4i"
      }
    },
    {
      "cell_type": "markdown",
      "source": [
        "1. Le Contexte (Votre Rôle)\n",
        "\n",
        "Vous êtes Data Analyst junior chez \"TechBureau\", une entreprise de e-commerce qui vend du matériel électronique, des fournitures de bureau et du mobilier.\n",
        "\n",
        "2. La Mission (La Question Business)\n",
        "\n",
        "La direction marketing prépare son budget pour le prochain trimestre. Elle a une question fondamentale : \"Nous avons un budget limité. Devrions-nous l'investir dans des campagnes d'acquisition pour attirer de nouveaux clients, ou dans des programmes de fidélisation pour choyer nos clients actuels ?\"\n",
        "\n",
        "Pour les aider à trancher, ils vous demandent une première analyse exploratoire (EDA) répondant à cette question :\n",
        "\n",
        "\"Quelles sont les caractéristiques de nos clients les plus rentables ?\"\n",
        "\n",
        "Note : \"Rentable\" est un terme business. Ce sera à vous, en tant qu'analyste, de le traduire en une mesure technique.\n",
        "\n",
        "3. Le Jeu de Données\n",
        "\n",
        "Voici les données de ventes des six derniers mois. Je vous invite à copier-coller ce code dans votre Google Colab pour créer le DataFrame df_ventes."
      ],
      "metadata": {
        "id": "S-92Wr0h528E"
      }
    },
    {
      "cell_type": "code",
      "source": [
        "import pandas as pd\n",
        "import numpy as np\n",
        "\n",
        "# Création du jeu de données\n",
        "data = {\n",
        "    'ID_Commande': ['CMD001', 'CMD002', 'CMD003', 'CMD004', 'CMD005', 'CMD006', 'CMD007', 'CMD008', 'CMD009', 'CMD010',\n",
        "                    'CMD011', 'CMD012', 'CMD013', 'CMD014', 'CMD015', 'CMD016', 'CMD017', 'CMD018', 'CMD019', 'CMD020'],\n",
        "    'ID_Client': ['C100', 'C101', 'C102', 'C100', 'C103', 'C101', 'C104', 'C105', 'C102', 'C100',\n",
        "                  'C103', 'C105', 'C101', 'C104', 'C100', 'C102', 'C106', 'C107', 'C106', 'C101'],\n",
        "    'Date_Commande': pd.to_datetime([\n",
        "        '2023-01-15', '2023-01-17', '2023-01-20', '2023-02-05', '2023-02-10', '2023-02-12', '2023-03-01', '2023-03-03',\n",
        "        '2023-03-15', '2023-04-01', '2023-04-05', '2023-04-07', '2023-05-10', '2023-05-12', '2023-05-15', '2023-06-01',\n",
        "        '2023-06-03', '2023-06-05', '2023-06-10', '2023-06-12'\n",
        "    ]),\n",
        "    'Categorie_Produit': [\n",
        "        'Électronique', 'Fournitures', 'Électronique', 'Mobilier', 'Fournitures', 'Électronique', 'Fournitures', 'Mobilier',\n",
        "        'Fournitures', 'Électronique', 'Électronique', 'Fournitures', 'Fournitures', 'Mobilier', 'Mobilier', 'Électronique',\n",
        "        'Fournitures', 'Électronique', 'Mobilier', 'Fournitures'\n",
        "    ],\n",
        "    'Prix_Unitaire': [120, 15, 80, 250, 20, 120, 10, 300, 25, 120, 80, 15, 20, 250, 300, 80, 10, 120, 250, 15],\n",
        "    'Quantite': [1, 5, 2, 1, 10, 1, 20, 1, 8, 3, 2, 5, 10, 1, 1, 1, 30, 1, 1, 10],\n",
        "    'Region_Client': ['Sud', 'Nord', 'Ouest', 'Sud', 'Est', 'Nord', 'Ouest', 'Est', 'Ouest', 'Sud',\n",
        "                      'Est', 'Est', 'Nord', 'Ouest', 'Sud', 'Ouest', 'Nord', 'Sud', 'Nord', 'Nord']\n",
        "}\n",
        "\n",
        "df_ventes = pd.DataFrame(data)"
      ],
      "metadata": {
        "id": "SxTUgHu250Xd"
      },
      "execution_count": null,
      "outputs": []
    },
    {
      "cell_type": "markdown",
      "source": [
        "#### 1. Exploration Initiale\n",
        "\n",
        "\"Quelle serait la toute première étape pour simplement 'faire connaissance' avec ce DataFrame df_ventes ?\"\n",
        "\n",
        "(Suivi) \"Pourriez-vous me montrer le code pour :\n",
        "\n",
        "Afficher les premières lignes ?\n",
        "\n",
        "Obtenir un résumé technique (types de données, détection des données manquantes) ?\""
      ],
      "metadata": {
        "id": "F8OfJFI_Amm4"
      }
    },
    {
      "cell_type": "code",
      "source": [
        "df_ventes.head()\n"
      ],
      "metadata": {
        "colab": {
          "base_uri": "https://localhost:8080/",
          "height": 206
        },
        "id": "XWqc0dbT6lxK",
        "outputId": "60f63231-c20c-47ca-d6a3-f3fd68619ffa"
      },
      "execution_count": null,
      "outputs": [
        {
          "output_type": "execute_result",
          "data": {
            "text/plain": [
              "  ID_Commande ID_Client Date_Commande Categorie_Produit  Prix_Unitaire  \\\n",
              "0      CMD001      C100    2023-01-15      Électronique            120   \n",
              "1      CMD002      C101    2023-01-17       Fournitures             15   \n",
              "2      CMD003      C102    2023-01-20      Électronique             80   \n",
              "3      CMD004      C100    2023-02-05          Mobilier            250   \n",
              "4      CMD005      C103    2023-02-10       Fournitures             20   \n",
              "\n",
              "   Quantite Region_Client  \n",
              "0         1           Sud  \n",
              "1         5          Nord  \n",
              "2         2         Ouest  \n",
              "3         1           Sud  \n",
              "4        10           Est  "
            ],
            "text/html": [
              "\n",
              "  <div id=\"df-df60c4e8-3c51-429c-bd85-8fdcd3ceb461\" class=\"colab-df-container\">\n",
              "    <div>\n",
              "<style scoped>\n",
              "    .dataframe tbody tr th:only-of-type {\n",
              "        vertical-align: middle;\n",
              "    }\n",
              "\n",
              "    .dataframe tbody tr th {\n",
              "        vertical-align: top;\n",
              "    }\n",
              "\n",
              "    .dataframe thead th {\n",
              "        text-align: right;\n",
              "    }\n",
              "</style>\n",
              "<table border=\"1\" class=\"dataframe\">\n",
              "  <thead>\n",
              "    <tr style=\"text-align: right;\">\n",
              "      <th></th>\n",
              "      <th>ID_Commande</th>\n",
              "      <th>ID_Client</th>\n",
              "      <th>Date_Commande</th>\n",
              "      <th>Categorie_Produit</th>\n",
              "      <th>Prix_Unitaire</th>\n",
              "      <th>Quantite</th>\n",
              "      <th>Region_Client</th>\n",
              "    </tr>\n",
              "  </thead>\n",
              "  <tbody>\n",
              "    <tr>\n",
              "      <th>0</th>\n",
              "      <td>CMD001</td>\n",
              "      <td>C100</td>\n",
              "      <td>2023-01-15</td>\n",
              "      <td>Électronique</td>\n",
              "      <td>120</td>\n",
              "      <td>1</td>\n",
              "      <td>Sud</td>\n",
              "    </tr>\n",
              "    <tr>\n",
              "      <th>1</th>\n",
              "      <td>CMD002</td>\n",
              "      <td>C101</td>\n",
              "      <td>2023-01-17</td>\n",
              "      <td>Fournitures</td>\n",
              "      <td>15</td>\n",
              "      <td>5</td>\n",
              "      <td>Nord</td>\n",
              "    </tr>\n",
              "    <tr>\n",
              "      <th>2</th>\n",
              "      <td>CMD003</td>\n",
              "      <td>C102</td>\n",
              "      <td>2023-01-20</td>\n",
              "      <td>Électronique</td>\n",
              "      <td>80</td>\n",
              "      <td>2</td>\n",
              "      <td>Ouest</td>\n",
              "    </tr>\n",
              "    <tr>\n",
              "      <th>3</th>\n",
              "      <td>CMD004</td>\n",
              "      <td>C100</td>\n",
              "      <td>2023-02-05</td>\n",
              "      <td>Mobilier</td>\n",
              "      <td>250</td>\n",
              "      <td>1</td>\n",
              "      <td>Sud</td>\n",
              "    </tr>\n",
              "    <tr>\n",
              "      <th>4</th>\n",
              "      <td>CMD005</td>\n",
              "      <td>C103</td>\n",
              "      <td>2023-02-10</td>\n",
              "      <td>Fournitures</td>\n",
              "      <td>20</td>\n",
              "      <td>10</td>\n",
              "      <td>Est</td>\n",
              "    </tr>\n",
              "  </tbody>\n",
              "</table>\n",
              "</div>\n",
              "    <div class=\"colab-df-buttons\">\n",
              "\n",
              "  <div class=\"colab-df-container\">\n",
              "    <button class=\"colab-df-convert\" onclick=\"convertToInteractive('df-df60c4e8-3c51-429c-bd85-8fdcd3ceb461')\"\n",
              "            title=\"Convert this dataframe to an interactive table.\"\n",
              "            style=\"display:none;\">\n",
              "\n",
              "  <svg xmlns=\"http://www.w3.org/2000/svg\" height=\"24px\" viewBox=\"0 -960 960 960\">\n",
              "    <path d=\"M120-120v-720h720v720H120Zm60-500h600v-160H180v160Zm220 220h160v-160H400v160Zm0 220h160v-160H400v160ZM180-400h160v-160H180v160Zm440 0h160v-160H620v160ZM180-180h160v-160H180v160Zm440 0h160v-160H620v160Z\"/>\n",
              "  </svg>\n",
              "    </button>\n",
              "\n",
              "  <style>\n",
              "    .colab-df-container {\n",
              "      display:flex;\n",
              "      gap: 12px;\n",
              "    }\n",
              "\n",
              "    .colab-df-convert {\n",
              "      background-color: #E8F0FE;\n",
              "      border: none;\n",
              "      border-radius: 50%;\n",
              "      cursor: pointer;\n",
              "      display: none;\n",
              "      fill: #1967D2;\n",
              "      height: 32px;\n",
              "      padding: 0 0 0 0;\n",
              "      width: 32px;\n",
              "    }\n",
              "\n",
              "    .colab-df-convert:hover {\n",
              "      background-color: #E2EBFA;\n",
              "      box-shadow: 0px 1px 2px rgba(60, 64, 67, 0.3), 0px 1px 3px 1px rgba(60, 64, 67, 0.15);\n",
              "      fill: #174EA6;\n",
              "    }\n",
              "\n",
              "    .colab-df-buttons div {\n",
              "      margin-bottom: 4px;\n",
              "    }\n",
              "\n",
              "    [theme=dark] .colab-df-convert {\n",
              "      background-color: #3B4455;\n",
              "      fill: #D2E3FC;\n",
              "    }\n",
              "\n",
              "    [theme=dark] .colab-df-convert:hover {\n",
              "      background-color: #434B5C;\n",
              "      box-shadow: 0px 1px 3px 1px rgba(0, 0, 0, 0.15);\n",
              "      filter: drop-shadow(0px 1px 2px rgba(0, 0, 0, 0.3));\n",
              "      fill: #FFFFFF;\n",
              "    }\n",
              "  </style>\n",
              "\n",
              "    <script>\n",
              "      const buttonEl =\n",
              "        document.querySelector('#df-df60c4e8-3c51-429c-bd85-8fdcd3ceb461 button.colab-df-convert');\n",
              "      buttonEl.style.display =\n",
              "        google.colab.kernel.accessAllowed ? 'block' : 'none';\n",
              "\n",
              "      async function convertToInteractive(key) {\n",
              "        const element = document.querySelector('#df-df60c4e8-3c51-429c-bd85-8fdcd3ceb461');\n",
              "        const dataTable =\n",
              "          await google.colab.kernel.invokeFunction('convertToInteractive',\n",
              "                                                    [key], {});\n",
              "        if (!dataTable) return;\n",
              "\n",
              "        const docLinkHtml = 'Like what you see? Visit the ' +\n",
              "          '<a target=\"_blank\" href=https://colab.research.google.com/notebooks/data_table.ipynb>data table notebook</a>'\n",
              "          + ' to learn more about interactive tables.';\n",
              "        element.innerHTML = '';\n",
              "        dataTable['output_type'] = 'display_data';\n",
              "        await google.colab.output.renderOutput(dataTable, element);\n",
              "        const docLink = document.createElement('div');\n",
              "        docLink.innerHTML = docLinkHtml;\n",
              "        element.appendChild(docLink);\n",
              "      }\n",
              "    </script>\n",
              "  </div>\n",
              "\n",
              "\n",
              "    <div id=\"df-97eb55c7-5f06-4dac-a627-ebe559588362\">\n",
              "      <button class=\"colab-df-quickchart\" onclick=\"quickchart('df-97eb55c7-5f06-4dac-a627-ebe559588362')\"\n",
              "                title=\"Suggest charts\"\n",
              "                style=\"display:none;\">\n",
              "\n",
              "<svg xmlns=\"http://www.w3.org/2000/svg\" height=\"24px\"viewBox=\"0 0 24 24\"\n",
              "     width=\"24px\">\n",
              "    <g>\n",
              "        <path d=\"M19 3H5c-1.1 0-2 .9-2 2v14c0 1.1.9 2 2 2h14c1.1 0 2-.9 2-2V5c0-1.1-.9-2-2-2zM9 17H7v-7h2v7zm4 0h-2V7h2v10zm4 0h-2v-4h2v4z\"/>\n",
              "    </g>\n",
              "</svg>\n",
              "      </button>\n",
              "\n",
              "<style>\n",
              "  .colab-df-quickchart {\n",
              "      --bg-color: #E8F0FE;\n",
              "      --fill-color: #1967D2;\n",
              "      --hover-bg-color: #E2EBFA;\n",
              "      --hover-fill-color: #174EA6;\n",
              "      --disabled-fill-color: #AAA;\n",
              "      --disabled-bg-color: #DDD;\n",
              "  }\n",
              "\n",
              "  [theme=dark] .colab-df-quickchart {\n",
              "      --bg-color: #3B4455;\n",
              "      --fill-color: #D2E3FC;\n",
              "      --hover-bg-color: #434B5C;\n",
              "      --hover-fill-color: #FFFFFF;\n",
              "      --disabled-bg-color: #3B4455;\n",
              "      --disabled-fill-color: #666;\n",
              "  }\n",
              "\n",
              "  .colab-df-quickchart {\n",
              "    background-color: var(--bg-color);\n",
              "    border: none;\n",
              "    border-radius: 50%;\n",
              "    cursor: pointer;\n",
              "    display: none;\n",
              "    fill: var(--fill-color);\n",
              "    height: 32px;\n",
              "    padding: 0;\n",
              "    width: 32px;\n",
              "  }\n",
              "\n",
              "  .colab-df-quickchart:hover {\n",
              "    background-color: var(--hover-bg-color);\n",
              "    box-shadow: 0 1px 2px rgba(60, 64, 67, 0.3), 0 1px 3px 1px rgba(60, 64, 67, 0.15);\n",
              "    fill: var(--button-hover-fill-color);\n",
              "  }\n",
              "\n",
              "  .colab-df-quickchart-complete:disabled,\n",
              "  .colab-df-quickchart-complete:disabled:hover {\n",
              "    background-color: var(--disabled-bg-color);\n",
              "    fill: var(--disabled-fill-color);\n",
              "    box-shadow: none;\n",
              "  }\n",
              "\n",
              "  .colab-df-spinner {\n",
              "    border: 2px solid var(--fill-color);\n",
              "    border-color: transparent;\n",
              "    border-bottom-color: var(--fill-color);\n",
              "    animation:\n",
              "      spin 1s steps(1) infinite;\n",
              "  }\n",
              "\n",
              "  @keyframes spin {\n",
              "    0% {\n",
              "      border-color: transparent;\n",
              "      border-bottom-color: var(--fill-color);\n",
              "      border-left-color: var(--fill-color);\n",
              "    }\n",
              "    20% {\n",
              "      border-color: transparent;\n",
              "      border-left-color: var(--fill-color);\n",
              "      border-top-color: var(--fill-color);\n",
              "    }\n",
              "    30% {\n",
              "      border-color: transparent;\n",
              "      border-left-color: var(--fill-color);\n",
              "      border-top-color: var(--fill-color);\n",
              "      border-right-color: var(--fill-color);\n",
              "    }\n",
              "    40% {\n",
              "      border-color: transparent;\n",
              "      border-right-color: var(--fill-color);\n",
              "      border-top-color: var(--fill-color);\n",
              "    }\n",
              "    60% {\n",
              "      border-color: transparent;\n",
              "      border-right-color: var(--fill-color);\n",
              "    }\n",
              "    80% {\n",
              "      border-color: transparent;\n",
              "      border-right-color: var(--fill-color);\n",
              "      border-bottom-color: var(--fill-color);\n",
              "    }\n",
              "    90% {\n",
              "      border-color: transparent;\n",
              "      border-bottom-color: var(--fill-color);\n",
              "    }\n",
              "  }\n",
              "</style>\n",
              "\n",
              "      <script>\n",
              "        async function quickchart(key) {\n",
              "          const quickchartButtonEl =\n",
              "            document.querySelector('#' + key + ' button');\n",
              "          quickchartButtonEl.disabled = true;  // To prevent multiple clicks.\n",
              "          quickchartButtonEl.classList.add('colab-df-spinner');\n",
              "          try {\n",
              "            const charts = await google.colab.kernel.invokeFunction(\n",
              "                'suggestCharts', [key], {});\n",
              "          } catch (error) {\n",
              "            console.error('Error during call to suggestCharts:', error);\n",
              "          }\n",
              "          quickchartButtonEl.classList.remove('colab-df-spinner');\n",
              "          quickchartButtonEl.classList.add('colab-df-quickchart-complete');\n",
              "        }\n",
              "        (() => {\n",
              "          let quickchartButtonEl =\n",
              "            document.querySelector('#df-97eb55c7-5f06-4dac-a627-ebe559588362 button');\n",
              "          quickchartButtonEl.style.display =\n",
              "            google.colab.kernel.accessAllowed ? 'block' : 'none';\n",
              "        })();\n",
              "      </script>\n",
              "    </div>\n",
              "\n",
              "    </div>\n",
              "  </div>\n"
            ],
            "application/vnd.google.colaboratory.intrinsic+json": {
              "type": "dataframe",
              "variable_name": "df_ventes",
              "summary": "{\n  \"name\": \"df_ventes\",\n  \"rows\": 20,\n  \"fields\": [\n    {\n      \"column\": \"ID_Commande\",\n      \"properties\": {\n        \"dtype\": \"string\",\n        \"num_unique_values\": 20,\n        \"samples\": [\n          \"CMD001\",\n          \"CMD018\",\n          \"CMD016\"\n        ],\n        \"semantic_type\": \"\",\n        \"description\": \"\"\n      }\n    },\n    {\n      \"column\": \"ID_Client\",\n      \"properties\": {\n        \"dtype\": \"category\",\n        \"num_unique_values\": 8,\n        \"samples\": [\n          \"C101\",\n          \"C105\",\n          \"C100\"\n        ],\n        \"semantic_type\": \"\",\n        \"description\": \"\"\n      }\n    },\n    {\n      \"column\": \"Date_Commande\",\n      \"properties\": {\n        \"dtype\": \"date\",\n        \"min\": \"2023-01-15 00:00:00\",\n        \"max\": \"2023-06-12 00:00:00\",\n        \"num_unique_values\": 20,\n        \"samples\": [\n          \"2023-01-15 00:00:00\",\n          \"2023-06-05 00:00:00\",\n          \"2023-06-01 00:00:00\"\n        ],\n        \"semantic_type\": \"\",\n        \"description\": \"\"\n      }\n    },\n    {\n      \"column\": \"Categorie_Produit\",\n      \"properties\": {\n        \"dtype\": \"category\",\n        \"num_unique_values\": 3,\n        \"samples\": [\n          \"\\u00c9lectronique\",\n          \"Fournitures\",\n          \"Mobilier\"\n        ],\n        \"semantic_type\": \"\",\n        \"description\": \"\"\n      }\n    },\n    {\n      \"column\": \"Prix_Unitaire\",\n      \"properties\": {\n        \"dtype\": \"number\",\n        \"std\": 103,\n        \"min\": 10,\n        \"max\": 300,\n        \"num_unique_values\": 8,\n        \"samples\": [\n          15,\n          10,\n          120\n        ],\n        \"semantic_type\": \"\",\n        \"description\": \"\"\n      }\n    },\n    {\n      \"column\": \"Quantite\",\n      \"properties\": {\n        \"dtype\": \"number\",\n        \"std\": 7,\n        \"min\": 1,\n        \"max\": 30,\n        \"num_unique_values\": 8,\n        \"samples\": [\n          5,\n          8,\n          1\n        ],\n        \"semantic_type\": \"\",\n        \"description\": \"\"\n      }\n    },\n    {\n      \"column\": \"Region_Client\",\n      \"properties\": {\n        \"dtype\": \"category\",\n        \"num_unique_values\": 4,\n        \"samples\": [\n          \"Nord\",\n          \"Est\",\n          \"Sud\"\n        ],\n        \"semantic_type\": \"\",\n        \"description\": \"\"\n      }\n    }\n  ]\n}"
            }
          },
          "metadata": {},
          "execution_count": 12
        }
      ]
    },
    {
      "cell_type": "code",
      "source": [
        "print(df_ventes.describe())\n",
        "print(df_ventes.info())"
      ],
      "metadata": {
        "colab": {
          "base_uri": "https://localhost:8080/"
        },
        "id": "O4zU7rju7dBx",
        "outputId": "bcc68cd4-3889-428e-cc5f-e66b1960d72f"
      },
      "execution_count": null,
      "outputs": [
        {
          "output_type": "stream",
          "name": "stdout",
          "text": [
            "             Date_Commande  Prix_Unitaire   Quantite  MontantCommande  \\\n",
            "count                   20      20.000000  20.000000        20.000000   \n",
            "mean   2023-04-01 16:48:00     110.000000   5.700000       193.500000   \n",
            "min    2023-01-15 00:00:00      10.000000   1.000000        75.000000   \n",
            "25%    2023-02-11 12:00:00      18.750000   1.000000       120.000000   \n",
            "50%    2023-04-03 00:00:00      80.000000   2.000000       200.000000   \n",
            "75%    2023-05-19 06:00:00     152.500000   8.500000       250.000000   \n",
            "max    2023-06-12 00:00:00     300.000000  30.000000       360.000000   \n",
            "std                    NaN     103.771003   7.574889        83.604646   \n",
            "\n",
            "       Montant_Commande  \n",
            "count         20.000000  \n",
            "mean         193.500000  \n",
            "min           75.000000  \n",
            "25%          120.000000  \n",
            "50%          200.000000  \n",
            "75%          250.000000  \n",
            "max          360.000000  \n",
            "std           83.604646  \n",
            "<class 'pandas.core.frame.DataFrame'>\n",
            "RangeIndex: 20 entries, 0 to 19\n",
            "Data columns (total 9 columns):\n",
            " #   Column             Non-Null Count  Dtype         \n",
            "---  ------             --------------  -----         \n",
            " 0   ID_Commande        20 non-null     object        \n",
            " 1   ID_Client          20 non-null     object        \n",
            " 2   Date_Commande      20 non-null     datetime64[ns]\n",
            " 3   Categorie_Produit  20 non-null     object        \n",
            " 4   Prix_Unitaire      20 non-null     int64         \n",
            " 5   Quantite           20 non-null     int64         \n",
            " 6   Region_Client      20 non-null     object        \n",
            " 7   MontantCommande    20 non-null     int64         \n",
            " 8   Montant_Commande   20 non-null     int64         \n",
            "dtypes: datetime64[ns](1), int64(4), object(4)\n",
            "memory usage: 1.5+ KB\n",
            "None\n"
          ]
        }
      ]
    },
    {
      "cell_type": "markdown",
      "source": [
        "#### 2. Feature Engineering (Création de la rentabilité par commande)\n",
        "\n",
        "\"En regardant les colonnes disponibles, comment pourrions-nous calculer une valeur qui représente la 'rentabilité' de chaque commande ?\"\n",
        "\n",
        "(Suivi) \"Pourriez-vous m'écrire la ligne de code Python pour créer une nouvelle colonne dans df_ventes appelée Montant_Commande ?\""
      ],
      "metadata": {
        "id": "aDKEuDD5Avsj"
      }
    },
    {
      "cell_type": "code",
      "source": [
        "df_ventes['Montant_Commande'] = df_ventes['Prix_Unitaire']*df_ventes['Quantite']\n"
      ],
      "metadata": {
        "id": "1Xn63iQY8Z4d"
      },
      "execution_count": null,
      "outputs": []
    },
    {
      "cell_type": "markdown",
      "source": [
        "#### 3. Agrégation (Passage au niveau \"Client\")\n",
        "\n",
        "\"Comment pouvons-nous transformer notre DataFrame df_ventes en un nouveau DataFrame df_clients qui n'aurait qu'une seule ligne par ID_Client unique ?\"\n",
        "\n",
        "(Suivi) \"Ce nouveau DataFrame devrait contenir, pour chaque client :\n",
        "\n",
        "Le montant total qu'il a dépensé.\n",
        "\n",
        "Le nombre total de commandes qu'il a passées.\""
      ],
      "metadata": {
        "id": "S4SKvMG6Bb5Z"
      }
    },
    {
      "cell_type": "code",
      "source": [
        "aggreg_client_dict = {'Montant_Commande':'sum','ID_Commande':'count'}\n",
        "df_client = df_ventes.groupby('ID_Client').agg(aggreg_client_dict)\n",
        "df_client = df_client.rename(columns={'Montant_Commande':'Montant_Total_Depense','ID_Commande':'Nombre_Commandes'})\n",
        "df_client.head(10)"
      ],
      "metadata": {
        "colab": {
          "base_uri": "https://localhost:8080/",
          "height": 331
        },
        "id": "oATrjmh98Zzl",
        "outputId": "82d1ccf2-903f-4fea-baac-70e51a4e76f8"
      },
      "execution_count": null,
      "outputs": [
        {
          "output_type": "execute_result",
          "data": {
            "text/plain": [
              "           Montant_Total_Depense  Nombre_Commandes\n",
              "ID_Client                                         \n",
              "C100                        1030                 4\n",
              "C101                         545                 4\n",
              "C102                         440                 3\n",
              "C103                         360                 2\n",
              "C104                         450                 2\n",
              "C105                         375                 2\n",
              "C106                         550                 2\n",
              "C107                         120                 1"
            ],
            "text/html": [
              "\n",
              "  <div id=\"df-b2516430-da06-42db-b8f9-82a03a235768\" class=\"colab-df-container\">\n",
              "    <div>\n",
              "<style scoped>\n",
              "    .dataframe tbody tr th:only-of-type {\n",
              "        vertical-align: middle;\n",
              "    }\n",
              "\n",
              "    .dataframe tbody tr th {\n",
              "        vertical-align: top;\n",
              "    }\n",
              "\n",
              "    .dataframe thead th {\n",
              "        text-align: right;\n",
              "    }\n",
              "</style>\n",
              "<table border=\"1\" class=\"dataframe\">\n",
              "  <thead>\n",
              "    <tr style=\"text-align: right;\">\n",
              "      <th></th>\n",
              "      <th>Montant_Total_Depense</th>\n",
              "      <th>Nombre_Commandes</th>\n",
              "    </tr>\n",
              "    <tr>\n",
              "      <th>ID_Client</th>\n",
              "      <th></th>\n",
              "      <th></th>\n",
              "    </tr>\n",
              "  </thead>\n",
              "  <tbody>\n",
              "    <tr>\n",
              "      <th>C100</th>\n",
              "      <td>1030</td>\n",
              "      <td>4</td>\n",
              "    </tr>\n",
              "    <tr>\n",
              "      <th>C101</th>\n",
              "      <td>545</td>\n",
              "      <td>4</td>\n",
              "    </tr>\n",
              "    <tr>\n",
              "      <th>C102</th>\n",
              "      <td>440</td>\n",
              "      <td>3</td>\n",
              "    </tr>\n",
              "    <tr>\n",
              "      <th>C103</th>\n",
              "      <td>360</td>\n",
              "      <td>2</td>\n",
              "    </tr>\n",
              "    <tr>\n",
              "      <th>C104</th>\n",
              "      <td>450</td>\n",
              "      <td>2</td>\n",
              "    </tr>\n",
              "    <tr>\n",
              "      <th>C105</th>\n",
              "      <td>375</td>\n",
              "      <td>2</td>\n",
              "    </tr>\n",
              "    <tr>\n",
              "      <th>C106</th>\n",
              "      <td>550</td>\n",
              "      <td>2</td>\n",
              "    </tr>\n",
              "    <tr>\n",
              "      <th>C107</th>\n",
              "      <td>120</td>\n",
              "      <td>1</td>\n",
              "    </tr>\n",
              "  </tbody>\n",
              "</table>\n",
              "</div>\n",
              "    <div class=\"colab-df-buttons\">\n",
              "\n",
              "  <div class=\"colab-df-container\">\n",
              "    <button class=\"colab-df-convert\" onclick=\"convertToInteractive('df-b2516430-da06-42db-b8f9-82a03a235768')\"\n",
              "            title=\"Convert this dataframe to an interactive table.\"\n",
              "            style=\"display:none;\">\n",
              "\n",
              "  <svg xmlns=\"http://www.w3.org/2000/svg\" height=\"24px\" viewBox=\"0 -960 960 960\">\n",
              "    <path d=\"M120-120v-720h720v720H120Zm60-500h600v-160H180v160Zm220 220h160v-160H400v160Zm0 220h160v-160H400v160ZM180-400h160v-160H180v160Zm440 0h160v-160H620v160ZM180-180h160v-160H180v160Zm440 0h160v-160H620v160Z\"/>\n",
              "  </svg>\n",
              "    </button>\n",
              "\n",
              "  <style>\n",
              "    .colab-df-container {\n",
              "      display:flex;\n",
              "      gap: 12px;\n",
              "    }\n",
              "\n",
              "    .colab-df-convert {\n",
              "      background-color: #E8F0FE;\n",
              "      border: none;\n",
              "      border-radius: 50%;\n",
              "      cursor: pointer;\n",
              "      display: none;\n",
              "      fill: #1967D2;\n",
              "      height: 32px;\n",
              "      padding: 0 0 0 0;\n",
              "      width: 32px;\n",
              "    }\n",
              "\n",
              "    .colab-df-convert:hover {\n",
              "      background-color: #E2EBFA;\n",
              "      box-shadow: 0px 1px 2px rgba(60, 64, 67, 0.3), 0px 1px 3px 1px rgba(60, 64, 67, 0.15);\n",
              "      fill: #174EA6;\n",
              "    }\n",
              "\n",
              "    .colab-df-buttons div {\n",
              "      margin-bottom: 4px;\n",
              "    }\n",
              "\n",
              "    [theme=dark] .colab-df-convert {\n",
              "      background-color: #3B4455;\n",
              "      fill: #D2E3FC;\n",
              "    }\n",
              "\n",
              "    [theme=dark] .colab-df-convert:hover {\n",
              "      background-color: #434B5C;\n",
              "      box-shadow: 0px 1px 3px 1px rgba(0, 0, 0, 0.15);\n",
              "      filter: drop-shadow(0px 1px 2px rgba(0, 0, 0, 0.3));\n",
              "      fill: #FFFFFF;\n",
              "    }\n",
              "  </style>\n",
              "\n",
              "    <script>\n",
              "      const buttonEl =\n",
              "        document.querySelector('#df-b2516430-da06-42db-b8f9-82a03a235768 button.colab-df-convert');\n",
              "      buttonEl.style.display =\n",
              "        google.colab.kernel.accessAllowed ? 'block' : 'none';\n",
              "\n",
              "      async function convertToInteractive(key) {\n",
              "        const element = document.querySelector('#df-b2516430-da06-42db-b8f9-82a03a235768');\n",
              "        const dataTable =\n",
              "          await google.colab.kernel.invokeFunction('convertToInteractive',\n",
              "                                                    [key], {});\n",
              "        if (!dataTable) return;\n",
              "\n",
              "        const docLinkHtml = 'Like what you see? Visit the ' +\n",
              "          '<a target=\"_blank\" href=https://colab.research.google.com/notebooks/data_table.ipynb>data table notebook</a>'\n",
              "          + ' to learn more about interactive tables.';\n",
              "        element.innerHTML = '';\n",
              "        dataTable['output_type'] = 'display_data';\n",
              "        await google.colab.output.renderOutput(dataTable, element);\n",
              "        const docLink = document.createElement('div');\n",
              "        docLink.innerHTML = docLinkHtml;\n",
              "        element.appendChild(docLink);\n",
              "      }\n",
              "    </script>\n",
              "  </div>\n",
              "\n",
              "\n",
              "    <div id=\"df-46505029-4862-4568-b846-d6efa6044ab5\">\n",
              "      <button class=\"colab-df-quickchart\" onclick=\"quickchart('df-46505029-4862-4568-b846-d6efa6044ab5')\"\n",
              "                title=\"Suggest charts\"\n",
              "                style=\"display:none;\">\n",
              "\n",
              "<svg xmlns=\"http://www.w3.org/2000/svg\" height=\"24px\"viewBox=\"0 0 24 24\"\n",
              "     width=\"24px\">\n",
              "    <g>\n",
              "        <path d=\"M19 3H5c-1.1 0-2 .9-2 2v14c0 1.1.9 2 2 2h14c1.1 0 2-.9 2-2V5c0-1.1-.9-2-2-2zM9 17H7v-7h2v7zm4 0h-2V7h2v10zm4 0h-2v-4h2v4z\"/>\n",
              "    </g>\n",
              "</svg>\n",
              "      </button>\n",
              "\n",
              "<style>\n",
              "  .colab-df-quickchart {\n",
              "      --bg-color: #E8F0FE;\n",
              "      --fill-color: #1967D2;\n",
              "      --hover-bg-color: #E2EBFA;\n",
              "      --hover-fill-color: #174EA6;\n",
              "      --disabled-fill-color: #AAA;\n",
              "      --disabled-bg-color: #DDD;\n",
              "  }\n",
              "\n",
              "  [theme=dark] .colab-df-quickchart {\n",
              "      --bg-color: #3B4455;\n",
              "      --fill-color: #D2E3FC;\n",
              "      --hover-bg-color: #434B5C;\n",
              "      --hover-fill-color: #FFFFFF;\n",
              "      --disabled-bg-color: #3B4455;\n",
              "      --disabled-fill-color: #666;\n",
              "  }\n",
              "\n",
              "  .colab-df-quickchart {\n",
              "    background-color: var(--bg-color);\n",
              "    border: none;\n",
              "    border-radius: 50%;\n",
              "    cursor: pointer;\n",
              "    display: none;\n",
              "    fill: var(--fill-color);\n",
              "    height: 32px;\n",
              "    padding: 0;\n",
              "    width: 32px;\n",
              "  }\n",
              "\n",
              "  .colab-df-quickchart:hover {\n",
              "    background-color: var(--hover-bg-color);\n",
              "    box-shadow: 0 1px 2px rgba(60, 64, 67, 0.3), 0 1px 3px 1px rgba(60, 64, 67, 0.15);\n",
              "    fill: var(--button-hover-fill-color);\n",
              "  }\n",
              "\n",
              "  .colab-df-quickchart-complete:disabled,\n",
              "  .colab-df-quickchart-complete:disabled:hover {\n",
              "    background-color: var(--disabled-bg-color);\n",
              "    fill: var(--disabled-fill-color);\n",
              "    box-shadow: none;\n",
              "  }\n",
              "\n",
              "  .colab-df-spinner {\n",
              "    border: 2px solid var(--fill-color);\n",
              "    border-color: transparent;\n",
              "    border-bottom-color: var(--fill-color);\n",
              "    animation:\n",
              "      spin 1s steps(1) infinite;\n",
              "  }\n",
              "\n",
              "  @keyframes spin {\n",
              "    0% {\n",
              "      border-color: transparent;\n",
              "      border-bottom-color: var(--fill-color);\n",
              "      border-left-color: var(--fill-color);\n",
              "    }\n",
              "    20% {\n",
              "      border-color: transparent;\n",
              "      border-left-color: var(--fill-color);\n",
              "      border-top-color: var(--fill-color);\n",
              "    }\n",
              "    30% {\n",
              "      border-color: transparent;\n",
              "      border-left-color: var(--fill-color);\n",
              "      border-top-color: var(--fill-color);\n",
              "      border-right-color: var(--fill-color);\n",
              "    }\n",
              "    40% {\n",
              "      border-color: transparent;\n",
              "      border-right-color: var(--fill-color);\n",
              "      border-top-color: var(--fill-color);\n",
              "    }\n",
              "    60% {\n",
              "      border-color: transparent;\n",
              "      border-right-color: var(--fill-color);\n",
              "    }\n",
              "    80% {\n",
              "      border-color: transparent;\n",
              "      border-right-color: var(--fill-color);\n",
              "      border-bottom-color: var(--fill-color);\n",
              "    }\n",
              "    90% {\n",
              "      border-color: transparent;\n",
              "      border-bottom-color: var(--fill-color);\n",
              "    }\n",
              "  }\n",
              "</style>\n",
              "\n",
              "      <script>\n",
              "        async function quickchart(key) {\n",
              "          const quickchartButtonEl =\n",
              "            document.querySelector('#' + key + ' button');\n",
              "          quickchartButtonEl.disabled = true;  // To prevent multiple clicks.\n",
              "          quickchartButtonEl.classList.add('colab-df-spinner');\n",
              "          try {\n",
              "            const charts = await google.colab.kernel.invokeFunction(\n",
              "                'suggestCharts', [key], {});\n",
              "          } catch (error) {\n",
              "            console.error('Error during call to suggestCharts:', error);\n",
              "          }\n",
              "          quickchartButtonEl.classList.remove('colab-df-spinner');\n",
              "          quickchartButtonEl.classList.add('colab-df-quickchart-complete');\n",
              "        }\n",
              "        (() => {\n",
              "          let quickchartButtonEl =\n",
              "            document.querySelector('#df-46505029-4862-4568-b846-d6efa6044ab5 button');\n",
              "          quickchartButtonEl.style.display =\n",
              "            google.colab.kernel.accessAllowed ? 'block' : 'none';\n",
              "        })();\n",
              "      </script>\n",
              "    </div>\n",
              "\n",
              "    </div>\n",
              "  </div>\n"
            ],
            "application/vnd.google.colaboratory.intrinsic+json": {
              "type": "dataframe",
              "variable_name": "df_client",
              "summary": "{\n  \"name\": \"df_client\",\n  \"rows\": 8,\n  \"fields\": [\n    {\n      \"column\": \"ID_Client\",\n      \"properties\": {\n        \"dtype\": \"string\",\n        \"num_unique_values\": 8,\n        \"samples\": [\n          \"C101\",\n          \"C105\",\n          \"C100\"\n        ],\n        \"semantic_type\": \"\",\n        \"description\": \"\"\n      }\n    },\n    {\n      \"column\": \"Montant_Total_Depense\",\n      \"properties\": {\n        \"dtype\": \"number\",\n        \"std\": 258,\n        \"min\": 120,\n        \"max\": 1030,\n        \"num_unique_values\": 8,\n        \"samples\": [\n          545,\n          375,\n          1030\n        ],\n        \"semantic_type\": \"\",\n        \"description\": \"\"\n      }\n    },\n    {\n      \"column\": \"Nombre_Commandes\",\n      \"properties\": {\n        \"dtype\": \"number\",\n        \"std\": 1,\n        \"min\": 1,\n        \"max\": 4,\n        \"num_unique_values\": 4,\n        \"samples\": [\n          3,\n          1,\n          4\n        ],\n        \"semantic_type\": \"\",\n        \"description\": \"\"\n      }\n    }\n  ]\n}"
            }
          },
          "metadata": {},
          "execution_count": 40
        }
      ]
    },
    {
      "cell_type": "markdown",
      "source": [
        "#### 4. Analyse et Visualisation\n",
        "\n",
        "Mission 1 : \"Comment pourriez-vous modifier df_client pour voir immédiatement qui sont nos 3 clients 'Top Tiers' (ceux qui ont dépensé le plus) ?\"\n",
        "\n",
        "Mission 2 : \"Nous voulons comparer le Montant_Total_Depense (variable numérique) entre les différents ID_Client (variable catégorielle). Quel type de graphique serait le plus approprié pour cette tâche ?\""
      ],
      "metadata": {
        "id": "Y7YHPRRiBej2"
      }
    },
    {
      "cell_type": "code",
      "source": [
        "df_client_top_3 = df_client.sort_values(by = 'Montant_Total_Depense', ascending = False)\n",
        "#df_client_top_3 = df_client_top_3.iloc[:3,:]\n",
        "df_client_top_3\n",
        "\n",
        "# Correction, pas besoin d'iloc, simplement .head(3) aurait suffi\n",
        "df_client_top_3 = df_client.sort_values(by = 'Montant_Total_Depense', ascending = False).head(3)\n",
        "df_client_top_3"
      ],
      "metadata": {
        "colab": {
          "base_uri": "https://localhost:8080/",
          "height": 175
        },
        "id": "Vz60j31u_BA5",
        "outputId": "ce12f8f1-ba8f-4612-a17b-a114aaff00eb"
      },
      "execution_count": null,
      "outputs": [
        {
          "output_type": "execute_result",
          "data": {
            "text/plain": [
              "           Montant_Total_Depense  Nombre_Commandes\n",
              "ID_Client                                         \n",
              "C100                        1030                 4\n",
              "C106                         550                 2\n",
              "C101                         545                 4"
            ],
            "text/html": [
              "\n",
              "  <div id=\"df-7d0546d2-df18-4089-a7a5-6402a2e8abd5\" class=\"colab-df-container\">\n",
              "    <div>\n",
              "<style scoped>\n",
              "    .dataframe tbody tr th:only-of-type {\n",
              "        vertical-align: middle;\n",
              "    }\n",
              "\n",
              "    .dataframe tbody tr th {\n",
              "        vertical-align: top;\n",
              "    }\n",
              "\n",
              "    .dataframe thead th {\n",
              "        text-align: right;\n",
              "    }\n",
              "</style>\n",
              "<table border=\"1\" class=\"dataframe\">\n",
              "  <thead>\n",
              "    <tr style=\"text-align: right;\">\n",
              "      <th></th>\n",
              "      <th>Montant_Total_Depense</th>\n",
              "      <th>Nombre_Commandes</th>\n",
              "    </tr>\n",
              "    <tr>\n",
              "      <th>ID_Client</th>\n",
              "      <th></th>\n",
              "      <th></th>\n",
              "    </tr>\n",
              "  </thead>\n",
              "  <tbody>\n",
              "    <tr>\n",
              "      <th>C100</th>\n",
              "      <td>1030</td>\n",
              "      <td>4</td>\n",
              "    </tr>\n",
              "    <tr>\n",
              "      <th>C106</th>\n",
              "      <td>550</td>\n",
              "      <td>2</td>\n",
              "    </tr>\n",
              "    <tr>\n",
              "      <th>C101</th>\n",
              "      <td>545</td>\n",
              "      <td>4</td>\n",
              "    </tr>\n",
              "  </tbody>\n",
              "</table>\n",
              "</div>\n",
              "    <div class=\"colab-df-buttons\">\n",
              "\n",
              "  <div class=\"colab-df-container\">\n",
              "    <button class=\"colab-df-convert\" onclick=\"convertToInteractive('df-7d0546d2-df18-4089-a7a5-6402a2e8abd5')\"\n",
              "            title=\"Convert this dataframe to an interactive table.\"\n",
              "            style=\"display:none;\">\n",
              "\n",
              "  <svg xmlns=\"http://www.w3.org/2000/svg\" height=\"24px\" viewBox=\"0 -960 960 960\">\n",
              "    <path d=\"M120-120v-720h720v720H120Zm60-500h600v-160H180v160Zm220 220h160v-160H400v160Zm0 220h160v-160H400v160ZM180-400h160v-160H180v160Zm440 0h160v-160H620v160ZM180-180h160v-160H180v160Zm440 0h160v-160H620v160Z\"/>\n",
              "  </svg>\n",
              "    </button>\n",
              "\n",
              "  <style>\n",
              "    .colab-df-container {\n",
              "      display:flex;\n",
              "      gap: 12px;\n",
              "    }\n",
              "\n",
              "    .colab-df-convert {\n",
              "      background-color: #E8F0FE;\n",
              "      border: none;\n",
              "      border-radius: 50%;\n",
              "      cursor: pointer;\n",
              "      display: none;\n",
              "      fill: #1967D2;\n",
              "      height: 32px;\n",
              "      padding: 0 0 0 0;\n",
              "      width: 32px;\n",
              "    }\n",
              "\n",
              "    .colab-df-convert:hover {\n",
              "      background-color: #E2EBFA;\n",
              "      box-shadow: 0px 1px 2px rgba(60, 64, 67, 0.3), 0px 1px 3px 1px rgba(60, 64, 67, 0.15);\n",
              "      fill: #174EA6;\n",
              "    }\n",
              "\n",
              "    .colab-df-buttons div {\n",
              "      margin-bottom: 4px;\n",
              "    }\n",
              "\n",
              "    [theme=dark] .colab-df-convert {\n",
              "      background-color: #3B4455;\n",
              "      fill: #D2E3FC;\n",
              "    }\n",
              "\n",
              "    [theme=dark] .colab-df-convert:hover {\n",
              "      background-color: #434B5C;\n",
              "      box-shadow: 0px 1px 3px 1px rgba(0, 0, 0, 0.15);\n",
              "      filter: drop-shadow(0px 1px 2px rgba(0, 0, 0, 0.3));\n",
              "      fill: #FFFFFF;\n",
              "    }\n",
              "  </style>\n",
              "\n",
              "    <script>\n",
              "      const buttonEl =\n",
              "        document.querySelector('#df-7d0546d2-df18-4089-a7a5-6402a2e8abd5 button.colab-df-convert');\n",
              "      buttonEl.style.display =\n",
              "        google.colab.kernel.accessAllowed ? 'block' : 'none';\n",
              "\n",
              "      async function convertToInteractive(key) {\n",
              "        const element = document.querySelector('#df-7d0546d2-df18-4089-a7a5-6402a2e8abd5');\n",
              "        const dataTable =\n",
              "          await google.colab.kernel.invokeFunction('convertToInteractive',\n",
              "                                                    [key], {});\n",
              "        if (!dataTable) return;\n",
              "\n",
              "        const docLinkHtml = 'Like what you see? Visit the ' +\n",
              "          '<a target=\"_blank\" href=https://colab.research.google.com/notebooks/data_table.ipynb>data table notebook</a>'\n",
              "          + ' to learn more about interactive tables.';\n",
              "        element.innerHTML = '';\n",
              "        dataTable['output_type'] = 'display_data';\n",
              "        await google.colab.output.renderOutput(dataTable, element);\n",
              "        const docLink = document.createElement('div');\n",
              "        docLink.innerHTML = docLinkHtml;\n",
              "        element.appendChild(docLink);\n",
              "      }\n",
              "    </script>\n",
              "  </div>\n",
              "\n",
              "\n",
              "    <div id=\"df-7050c2a5-7863-4cff-b7cd-22a3d8c430bf\">\n",
              "      <button class=\"colab-df-quickchart\" onclick=\"quickchart('df-7050c2a5-7863-4cff-b7cd-22a3d8c430bf')\"\n",
              "                title=\"Suggest charts\"\n",
              "                style=\"display:none;\">\n",
              "\n",
              "<svg xmlns=\"http://www.w3.org/2000/svg\" height=\"24px\"viewBox=\"0 0 24 24\"\n",
              "     width=\"24px\">\n",
              "    <g>\n",
              "        <path d=\"M19 3H5c-1.1 0-2 .9-2 2v14c0 1.1.9 2 2 2h14c1.1 0 2-.9 2-2V5c0-1.1-.9-2-2-2zM9 17H7v-7h2v7zm4 0h-2V7h2v10zm4 0h-2v-4h2v4z\"/>\n",
              "    </g>\n",
              "</svg>\n",
              "      </button>\n",
              "\n",
              "<style>\n",
              "  .colab-df-quickchart {\n",
              "      --bg-color: #E8F0FE;\n",
              "      --fill-color: #1967D2;\n",
              "      --hover-bg-color: #E2EBFA;\n",
              "      --hover-fill-color: #174EA6;\n",
              "      --disabled-fill-color: #AAA;\n",
              "      --disabled-bg-color: #DDD;\n",
              "  }\n",
              "\n",
              "  [theme=dark] .colab-df-quickchart {\n",
              "      --bg-color: #3B4455;\n",
              "      --fill-color: #D2E3FC;\n",
              "      --hover-bg-color: #434B5C;\n",
              "      --hover-fill-color: #FFFFFF;\n",
              "      --disabled-bg-color: #3B4455;\n",
              "      --disabled-fill-color: #666;\n",
              "  }\n",
              "\n",
              "  .colab-df-quickchart {\n",
              "    background-color: var(--bg-color);\n",
              "    border: none;\n",
              "    border-radius: 50%;\n",
              "    cursor: pointer;\n",
              "    display: none;\n",
              "    fill: var(--fill-color);\n",
              "    height: 32px;\n",
              "    padding: 0;\n",
              "    width: 32px;\n",
              "  }\n",
              "\n",
              "  .colab-df-quickchart:hover {\n",
              "    background-color: var(--hover-bg-color);\n",
              "    box-shadow: 0 1px 2px rgba(60, 64, 67, 0.3), 0 1px 3px 1px rgba(60, 64, 67, 0.15);\n",
              "    fill: var(--button-hover-fill-color);\n",
              "  }\n",
              "\n",
              "  .colab-df-quickchart-complete:disabled,\n",
              "  .colab-df-quickchart-complete:disabled:hover {\n",
              "    background-color: var(--disabled-bg-color);\n",
              "    fill: var(--disabled-fill-color);\n",
              "    box-shadow: none;\n",
              "  }\n",
              "\n",
              "  .colab-df-spinner {\n",
              "    border: 2px solid var(--fill-color);\n",
              "    border-color: transparent;\n",
              "    border-bottom-color: var(--fill-color);\n",
              "    animation:\n",
              "      spin 1s steps(1) infinite;\n",
              "  }\n",
              "\n",
              "  @keyframes spin {\n",
              "    0% {\n",
              "      border-color: transparent;\n",
              "      border-bottom-color: var(--fill-color);\n",
              "      border-left-color: var(--fill-color);\n",
              "    }\n",
              "    20% {\n",
              "      border-color: transparent;\n",
              "      border-left-color: var(--fill-color);\n",
              "      border-top-color: var(--fill-color);\n",
              "    }\n",
              "    30% {\n",
              "      border-color: transparent;\n",
              "      border-left-color: var(--fill-color);\n",
              "      border-top-color: var(--fill-color);\n",
              "      border-right-color: var(--fill-color);\n",
              "    }\n",
              "    40% {\n",
              "      border-color: transparent;\n",
              "      border-right-color: var(--fill-color);\n",
              "      border-top-color: var(--fill-color);\n",
              "    }\n",
              "    60% {\n",
              "      border-color: transparent;\n",
              "      border-right-color: var(--fill-color);\n",
              "    }\n",
              "    80% {\n",
              "      border-color: transparent;\n",
              "      border-right-color: var(--fill-color);\n",
              "      border-bottom-color: var(--fill-color);\n",
              "    }\n",
              "    90% {\n",
              "      border-color: transparent;\n",
              "      border-bottom-color: var(--fill-color);\n",
              "    }\n",
              "  }\n",
              "</style>\n",
              "\n",
              "      <script>\n",
              "        async function quickchart(key) {\n",
              "          const quickchartButtonEl =\n",
              "            document.querySelector('#' + key + ' button');\n",
              "          quickchartButtonEl.disabled = true;  // To prevent multiple clicks.\n",
              "          quickchartButtonEl.classList.add('colab-df-spinner');\n",
              "          try {\n",
              "            const charts = await google.colab.kernel.invokeFunction(\n",
              "                'suggestCharts', [key], {});\n",
              "          } catch (error) {\n",
              "            console.error('Error during call to suggestCharts:', error);\n",
              "          }\n",
              "          quickchartButtonEl.classList.remove('colab-df-spinner');\n",
              "          quickchartButtonEl.classList.add('colab-df-quickchart-complete');\n",
              "        }\n",
              "        (() => {\n",
              "          let quickchartButtonEl =\n",
              "            document.querySelector('#df-7050c2a5-7863-4cff-b7cd-22a3d8c430bf button');\n",
              "          quickchartButtonEl.style.display =\n",
              "            google.colab.kernel.accessAllowed ? 'block' : 'none';\n",
              "        })();\n",
              "      </script>\n",
              "    </div>\n",
              "\n",
              "  <div id=\"id_92662396-2238-484e-82d1-12927091df96\">\n",
              "    <style>\n",
              "      .colab-df-generate {\n",
              "        background-color: #E8F0FE;\n",
              "        border: none;\n",
              "        border-radius: 50%;\n",
              "        cursor: pointer;\n",
              "        display: none;\n",
              "        fill: #1967D2;\n",
              "        height: 32px;\n",
              "        padding: 0 0 0 0;\n",
              "        width: 32px;\n",
              "      }\n",
              "\n",
              "      .colab-df-generate:hover {\n",
              "        background-color: #E2EBFA;\n",
              "        box-shadow: 0px 1px 2px rgba(60, 64, 67, 0.3), 0px 1px 3px 1px rgba(60, 64, 67, 0.15);\n",
              "        fill: #174EA6;\n",
              "      }\n",
              "\n",
              "      [theme=dark] .colab-df-generate {\n",
              "        background-color: #3B4455;\n",
              "        fill: #D2E3FC;\n",
              "      }\n",
              "\n",
              "      [theme=dark] .colab-df-generate:hover {\n",
              "        background-color: #434B5C;\n",
              "        box-shadow: 0px 1px 3px 1px rgba(0, 0, 0, 0.15);\n",
              "        filter: drop-shadow(0px 1px 2px rgba(0, 0, 0, 0.3));\n",
              "        fill: #FFFFFF;\n",
              "      }\n",
              "    </style>\n",
              "    <button class=\"colab-df-generate\" onclick=\"generateWithVariable('df_client_top_3')\"\n",
              "            title=\"Generate code using this dataframe.\"\n",
              "            style=\"display:none;\">\n",
              "\n",
              "  <svg xmlns=\"http://www.w3.org/2000/svg\" height=\"24px\"viewBox=\"0 0 24 24\"\n",
              "       width=\"24px\">\n",
              "    <path d=\"M7,19H8.4L18.45,9,17,7.55,7,17.6ZM5,21V16.75L18.45,3.32a2,2,0,0,1,2.83,0l1.4,1.43a1.91,1.91,0,0,1,.58,1.4,1.91,1.91,0,0,1-.58,1.4L9.25,21ZM18.45,9,17,7.55Zm-12,3A5.31,5.31,0,0,0,4.9,8.1,5.31,5.31,0,0,0,1,6.5,5.31,5.31,0,0,0,4.9,4.9,5.31,5.31,0,0,0,6.5,1,5.31,5.31,0,0,0,8.1,4.9,5.31,5.31,0,0,0,12,6.5,5.46,5.46,0,0,0,6.5,12Z\"/>\n",
              "  </svg>\n",
              "    </button>\n",
              "    <script>\n",
              "      (() => {\n",
              "      const buttonEl =\n",
              "        document.querySelector('#id_92662396-2238-484e-82d1-12927091df96 button.colab-df-generate');\n",
              "      buttonEl.style.display =\n",
              "        google.colab.kernel.accessAllowed ? 'block' : 'none';\n",
              "\n",
              "      buttonEl.onclick = () => {\n",
              "        google.colab.notebook.generateWithVariable('df_client_top_3');\n",
              "      }\n",
              "      })();\n",
              "    </script>\n",
              "  </div>\n",
              "\n",
              "    </div>\n",
              "  </div>\n"
            ],
            "application/vnd.google.colaboratory.intrinsic+json": {
              "type": "dataframe",
              "variable_name": "df_client_top_3",
              "summary": "{\n  \"name\": \"df_client_top_3\",\n  \"rows\": 3,\n  \"fields\": [\n    {\n      \"column\": \"ID_Client\",\n      \"properties\": {\n        \"dtype\": \"string\",\n        \"num_unique_values\": 3,\n        \"samples\": [\n          \"C100\",\n          \"C106\",\n          \"C101\"\n        ],\n        \"semantic_type\": \"\",\n        \"description\": \"\"\n      }\n    },\n    {\n      \"column\": \"Montant_Total_Depense\",\n      \"properties\": {\n        \"dtype\": \"number\",\n        \"std\": 278,\n        \"min\": 545,\n        \"max\": 1030,\n        \"num_unique_values\": 3,\n        \"samples\": [\n          1030,\n          550,\n          545\n        ],\n        \"semantic_type\": \"\",\n        \"description\": \"\"\n      }\n    },\n    {\n      \"column\": \"Nombre_Commandes\",\n      \"properties\": {\n        \"dtype\": \"number\",\n        \"std\": 1,\n        \"min\": 2,\n        \"max\": 4,\n        \"num_unique_values\": 2,\n        \"samples\": [\n          2,\n          4\n        ],\n        \"semantic_type\": \"\",\n        \"description\": \"\"\n      }\n    }\n  ]\n}"
            }
          },
          "metadata": {},
          "execution_count": 51
        }
      ]
    },
    {
      "cell_type": "markdown",
      "source": [
        "#### 5. Visualisation de données\n",
        "\n",
        "Créez ce diagramme en barres. Je vous propose de visualiser tous les clients de votre df_client (pas seulement le top 3) pour avoir une vue d'ensemble de la distribution.\n",
        "\n",
        "Pourriez-vous m'écrire le code Python, en utilisant Seaborn (sns.barplot), pour réaliser ce graphique ?\n",
        "\n",
        "Indice 1 : Vous utiliserez sns.barplot(data=..., x=..., y=...).\n",
        "\n",
        "Indice 2 (Important) : Rappelez-vous que ID_Client est devenu l'index de votre df_client (à cause du groupby). Ce n'est pas une colonne. Vous devrez donc peut-être utiliser df_client.index pour votre axe X.\n",
        "\n",
        "Indice 3 : N'oubliez pas \"d'habiller\" votre graphique. Utilisez plt.title() pour donner un titre clair (ex: \"Dépenses Totales par Client\"), et plt.ylabel() pour préciser l'unité (ex: \"Montant Total Dépensé (€)\")."
      ],
      "metadata": {
        "id": "8I9JqJzODyrh"
      }
    },
    {
      "cell_type": "code",
      "source": [
        "import seaborn as sns\n",
        "import matplotlib.pyplot as plt\n",
        "\n",
        "sns.barplot(df_client, x = df_client.index, y = df_client['Montant_Total_Depense'])\n",
        "plt.xlabel('ID du client')\n",
        "plt.ylabel('Montant total dépensé')\n",
        "plt.title('Montant total dépensé par client')\n",
        "plt.show()\n",
        "\n",
        "# Correction : pas besoin de repasser df_client pour le y + ne pas oublier \"data =\":\n",
        "# ex:\n",
        "sns.barplot(data = df_client, x = df_client.index, y='Montant_Total_Depense')"
      ],
      "metadata": {
        "colab": {
          "base_uri": "https://localhost:8080/",
          "height": 922
        },
        "id": "Q9DVlKHCECyE",
        "outputId": "2f46420a-fee4-4077-b81d-71e698cd9605"
      },
      "execution_count": null,
      "outputs": [
        {
          "output_type": "display_data",
          "data": {
            "text/plain": [
              "<Figure size 640x480 with 1 Axes>"
            ],
            "image/png": "[encoded data removed]"
          },
          "metadata": {}
        },
        {
          "output_type": "execute_result",
          "data": {
            "text/plain": [
              "<Axes: xlabel='ID_Client', ylabel='Montant_Total_Depense'>"
            ]
          },
          "metadata": {},
          "execution_count": 66
        },
        {
          "output_type": "display_data",
          "data": {
            "text/plain": [
              "<Figure size 640x480 with 1 Axes>"
            ],
            "image/png": "[encoded data removed]"
          },
          "metadata": {}
        }
      ]
    },
    {
      "cell_type": "code",
      "source": [
        "df_client['Depense_Moyenne_Par_Commande'] = df_client['Montant_Total_Depense']/df_client['Nombre_Commandes']\n",
        "sns.barplot(data = df_client, x=df_client.index, y = 'Depense_Moyenne_Par_Commande')\n",
        "plt.xlabel('ID du Client')\n",
        "plt.ylabel('Dépense moyenne par commande')\n",
        "plt.title('Dépense moyenne par commande par client')\n",
        "plt.show()"
      ],
      "metadata": {
        "colab": {
          "base_uri": "https://localhost:8080/",
          "height": 472
        },
        "id": "aUPCd75nGrCd",
        "outputId": "8ef8875a-0ac5-46ca-c4c9-414ae1f2e505"
      },
      "execution_count": null,
      "outputs": [
        {
          "output_type": "display_data",
          "data": {
            "text/plain": [
              "<Figure size 640x480 with 1 Axes>"
            ],
            "image/png": "[encoded data removed]"
          },
          "metadata": {}
        }
      ]
    },
    {
      "cell_type": "markdown",
      "source": [
        "#### 6. Analyse Croisée (Relation)\n",
        "\n",
        "Nous avons répondu à la première partie de la question : \"Qui sont les clients les plus rentables ?\". Le graphique à barres nous le montre.\n",
        "\n",
        "Mais la question complète est : \"Quelles sont leurs caractéristiques ?\".\n",
        "\n",
        "Nous avons une autre caractéristique très intéressante dans notre df_client : la colonne Nombre_Commandes.\n",
        "\n",
        "La prochaine question logique pour la direction marketing est : \"Est-ce que les clients qui dépensent le plus sont aussi ceux qui commandent le plus souvent (nos clients fidèles) ?\"\n",
        "\n",
        "Nous devons maintenant analyser la relation entre deux variables :\n",
        "\n",
        "Montant_Total_Depense (numérique)\n",
        "\n",
        "Nombre_Commandes (numérique)\n",
        "\n",
        "Votre Mission (Problème Pratique) :\n",
        "\n",
        "En vous basant sur notre Session n°3 (Compétence 5), quel type de graphique est l'outil parfait pour visualiser la relation (et une éventuelle corrélation) entre deux variables numériques ?\n",
        "\n",
        "Pourriez-vous m'écrire le code (en utilisant Seaborn) pour créer ce graphique ?\n",
        "\n",
        "Utilisez data=df_client.\n",
        "\n",
        "Mettez le Nombre_Commandes sur l'axe X.\n",
        "\n",
        "Mettez le Montant_Total_Depense sur l'axe Y.\n",
        "\n",
        "N'oubliez pas \"d'habiller\" le graphique avec un titre et des labels clairs !"
      ],
      "metadata": {
        "id": "eKkMHgcOGLq1"
      }
    },
    {
      "cell_type": "code",
      "source": [
        "sns.scatterplot(data = df_client, x = 'Nombre_Commandes', y = 'Montant_Total_Depense')\n",
        "plt.xlabel('Nombre de commandes')\n",
        "plt.ylabel('Dépense totale')\n",
        "plt.title('Evolution du montant total dépensé selon le nombre de commandes')\n",
        "plt.show()"
      ],
      "metadata": {
        "colab": {
          "base_uri": "https://localhost:8080/",
          "height": 472
        },
        "id": "ykSE6w_RGQxE",
        "outputId": "a5a66810-ece3-46b4-e167-637e40534ba4"
      },
      "execution_count": null,
      "outputs": [
        {
          "output_type": "display_data",
          "data": {
            "text/plain": [
              "<Figure size 640x480 with 1 Axes>"
            ],
            "image/png": "[encoded data removed]"
          },
          "metadata": {}
        }
      ]
    },
    {
      "cell_type": "code",
      "source": [
        "sns.scatterplot(data = df_client, x = 'Nombre_Commandes', y = 'Depense_Moyenne_Par_Commande')\n",
        "plt.xlabel('Nombre de commandes')\n",
        "plt.ylabel('Dépense moyenne')\n",
        "plt.title('Evolution du montant moyen dépensé par commande selon le nombre de commandes')\n",
        "plt.show()"
      ],
      "metadata": {
        "colab": {
          "base_uri": "https://localhost:8080/",
          "height": 472
        },
        "id": "dFbFdUJ0IQ3o",
        "outputId": "3e7ad587-f53b-496f-874d-e10c172ebb15"
      },
      "execution_count": null,
      "outputs": [
        {
          "output_type": "display_data",
          "data": {
            "text/plain": [
              "<Figure size 640x480 with 1 Axes>"
            ],
            "image/png": "[encoded data removed]"
          },
          "metadata": {}
        }
      ]
    },
    {
      "cell_type": "markdown",
      "source": [
        "#### 7. Synthèse et Segmentation Client (Le Défi Final)\n",
        "Pour notre mini-projet, terminons par une synthèse qui sera directement utilisable par le marketing.\n",
        "\n",
        "Nous allons créer des segments de clients. C'est un cas d'usage classique du Feature Engineering (Session n°1) combiné à l'Agrégation (Session n°2).\n",
        "\n",
        "Nous allons créer une nouvelle colonne Segment_Client dans notre df_client.\n",
        "\n",
        "Votre Mission (Problème Pratique) :\n",
        "\n",
        "Nous allons définir un \"Client Or\" comme un client qui est au-dessus de la moyenne sur les deux métriques : le montant total dépensé ET le nombre de commandes.\n",
        "\n",
        "Pour ce faire, vous devrez :\n",
        "\n",
        "Calculer les benchmarks (les moyennes) :\n",
        "\n",
        "Calculez le montant_moyen_total (la moyenne de la colonne Montant_Total_Depense de df_client).\n",
        "\n",
        "Calculez le nombre_moyen_commandes (la moyenne de la colonne Nombre_Commandes de df_client).\n",
        "\n",
        "Créer la colonne de segment :\n",
        "\n",
        "Créez une nouvelle colonne Segment_Client dans df_client.\n",
        "\n",
        "Utilisez la fonction np.where() (vue dans la Compétence 4, Session n°1) pour appliquer la logique suivante :\n",
        "\n",
        "SI (Montant_Total_Depense du client > montant_moyen_total) ET (Nombre_Commandes du client > nombre_moyen_commandes)\n",
        "\n",
        "ALORS la valeur sera \"Client Or\"\n",
        "\n",
        "SINON la valeur sera \"Client Standard\"\n",
        "\n",
        "(Indice : La syntaxe pour le \"ET\" logique dans Pandas/Numpy est l'opérateur &, et vous devrez entourer chaque condition de parenthèses.)"
      ],
      "metadata": {
        "id": "xcwJQ9H9JF0q"
      }
    },
    {
      "cell_type": "code",
      "source": [
        "import numpy as np\n",
        "\n",
        "montant_moyen_total = df_client['Montant_Total_Depense'].mean()\n",
        "nombre_moyen_commande = df_client['Nombre_Commandes'].mean()\n",
        "depense_moyenne_par_commande = df_client['Depense_Moyenne_Par_Commande'].mean()\n",
        "\n",
        "df_client['Segment_Client']=np.where(\n",
        "    (df_client['Montant_Total_Depense']>montant_moyen_total)&(df_client['Nombre_Commandes']>nombre_moyen_commande)&(df_client['Depense_Moyenne_Par_Commande']>depense_moyenne_par_commande),\n",
        "    \"Client Or\",\n",
        "    \"Client Standard\")\n",
        "df_client['Segment_Client']"
      ],
      "metadata": {
        "colab": {
          "base_uri": "https://localhost:8080/",
          "height": 366
        },
        "id": "ARCO0i9lJKS4",
        "outputId": "76222c42-0fb0-4eef-d566-4dc4b7e50d77"
      },
      "execution_count": null,
      "outputs": [
        {
          "output_type": "execute_result",
          "data": {
            "text/plain": [
              "ID_Client\n",
              "C100          Client Or\n",
              "C101    Client Standard\n",
              "C102    Client Standard\n",
              "C103    Client Standard\n",
              "C104    Client Standard\n",
              "C105    Client Standard\n",
              "C106    Client Standard\n",
              "C107    Client Standard\n",
              "Name: Segment_Client, dtype: object"
            ],
            "text/html": [
              "<div>\n",
              "<style scoped>\n",
              "    .dataframe tbody tr th:only-of-type {\n",
              "        vertical-align: middle;\n",
              "    }\n",
              "\n",
              "    .dataframe tbody tr th {\n",
              "        vertical-align: top;\n",
              "    }\n",
              "\n",
              "    .dataframe thead th {\n",
              "        text-align: right;\n",
              "    }\n",
              "</style>\n",
              "<table border=\"1\" class=\"dataframe\">\n",
              "  <thead>\n",
              "    <tr style=\"text-align: right;\">\n",
              "      <th></th>\n",
              "      <th>Segment_Client</th>\n",
              "    </tr>\n",
              "    <tr>\n",
              "      <th>ID_Client</th>\n",
              "      <th></th>\n",
              "    </tr>\n",
              "  </thead>\n",
              "  <tbody>\n",
              "    <tr>\n",
              "      <th>C100</th>\n",
              "      <td>Client Or</td>\n",
              "    </tr>\n",
              "    <tr>\n",
              "      <th>C101</th>\n",
              "      <td>Client Standard</td>\n",
              "    </tr>\n",
              "    <tr>\n",
              "      <th>C102</th>\n",
              "      <td>Client Standard</td>\n",
              "    </tr>\n",
              "    <tr>\n",
              "      <th>C103</th>\n",
              "      <td>Client Standard</td>\n",
              "    </tr>\n",
              "    <tr>\n",
              "      <th>C104</th>\n",
              "      <td>Client Standard</td>\n",
              "    </tr>\n",
              "    <tr>\n",
              "      <th>C105</th>\n",
              "      <td>Client Standard</td>\n",
              "    </tr>\n",
              "    <tr>\n",
              "      <th>C106</th>\n",
              "      <td>Client Standard</td>\n",
              "    </tr>\n",
              "    <tr>\n",
              "      <th>C107</th>\n",
              "      <td>Client Standard</td>\n",
              "    </tr>\n",
              "  </tbody>\n",
              "</table>\n",
              "</div><br><label><b>dtype:</b> object</label>"
            ]
          },
          "metadata": {},
          "execution_count": 81
        }
      ]
    },
    {
      "cell_type": "markdown",
      "source": [
        "# Nettoyage de données"
      ],
      "metadata": {
        "id": "Lw03VIAqwfgl"
      }
    },
    {
      "cell_type": "markdown",
      "source": [
        "## Suppression des valeurs manquantes"
      ],
      "metadata": {
        "id": "MHmEc7Rm3gfO"
      }
    },
    {
      "cell_type": "code",
      "source": [
        "import pandas as pd\n",
        "import numpy as np\n",
        "\n",
        "donnees_hopital = {\n",
        "    'ID_Patient': ['P100', 'P101', 'P102', 'P103', 'P104'],\n",
        "    'Age': [35, 42, np.nan, 28, 56],\n",
        "    'Genre': ['H', 'F', 'H', 'F', 'H'],\n",
        "    'Temperature': [37.5, 38.1, 37.5, np.nan, 38.3],\n",
        "    'ResultatTest': ['Positif', 'Negatif', 'Positif', 'Negatif', np.nan]\n",
        "}\n",
        "\n",
        "df_patients_sales = pd.DataFrame(donnees_hopital)\n",
        "\n",
        "print(\"Voici le jeu de données 'sale' :\")\n",
        "print(df_patients_sales)"
      ],
      "metadata": {
        "colab": {
          "base_uri": "https://localhost:8080/"
        },
        "id": "Oe5JRSW4xsgw",
        "outputId": "03d99a4f-d4a1-481e-a67f-cf867d49fd89"
      },
      "execution_count": 1,
      "outputs": [
        {
          "output_type": "stream",
          "name": "stdout",
          "text": [
            "Voici le jeu de données 'sale' :\n",
            "  ID_Patient   Age Genre  Temperature ResultatTest\n",
            "0       P100  35.0     H         37.5      Positif\n",
            "1       P101  42.0     F         38.1      Negatif\n",
            "2       P102   NaN     H         37.5      Positif\n",
            "3       P103  28.0     F          NaN      Negatif\n",
            "4       P104  56.0     H         38.3          NaN\n"
          ]
        }
      ]
    },
    {
      "cell_type": "markdown",
      "source": [
        "#### Tâche à effectuer\n",
        "\n",
        "Votre mission : Diagnostiquer les données\n",
        "\n",
        "1. Affichez le DataFrame booléen qui montre où se trouvent les valeurs manquantes.\n",
        "\n",
        "2. (Enchaînement) Calculez et affichez le nombre total de valeurs manquantes pour chaque colonne. C'est le diagnostic que vous présenterez à votre équipe. (Indice : une fois que vous avez le DataFrame de True/False, comment pourriez-vous sommer les True ?)."
      ],
      "metadata": {
        "id": "hb5tUYp9xXYO"
      }
    },
    {
      "cell_type": "code",
      "source": [
        "print(df_patients_sales.isna())\n",
        "print(df_patients_sales.isna().sum())"
      ],
      "metadata": {
        "colab": {
          "base_uri": "https://localhost:8080/"
        },
        "id": "gJqCglAfxxJ-",
        "outputId": "87f603bc-559a-449d-a103-bcb79dd9571c"
      },
      "execution_count": 3,
      "outputs": [
        {
          "output_type": "stream",
          "name": "stdout",
          "text": [
            "   ID_Patient    Age  Genre  Temperature  ResultatTest\n",
            "0       False  False  False        False         False\n",
            "1       False  False  False        False         False\n",
            "2       False   True  False        False         False\n",
            "3       False  False  False         True         False\n",
            "4       False  False  False        False          True\n",
            "ID_Patient      0\n",
            "Age             1\n",
            "Genre           0\n",
            "Temperature     1\n",
            "ResultatTest    1\n",
            "dtype: int64\n"
          ]
        }
      ]
    },
    {
      "cell_type": "markdown",
      "source": [
        "#### Tâches à effectuer\n",
        "\n",
        "1. Stratégie Radicale : Créez un nouveau DataFrame, df_nettoye, qui ne contient plus aucune ligne ayant une valeur manquante. Affichez-le.\n",
        "\n",
        "2. Stratégie Ciblée : Pour une analyse sur les résultats des tests, vous décidez que vous ne pouvez pas vous permettre d'avoir un ResultatTest manquant, mais que les autres nan sont acceptables pour l'instant. Créez un DataFrame df_test_valide en ne supprimant que les lignes où la colonne ResultatTest est manquante (Indice : utilisez l'argument subset)."
      ],
      "metadata": {
        "id": "1J-JcrmO2I6b"
      }
    },
    {
      "cell_type": "code",
      "source": [
        "import pandas as pd\n",
        "import numpy as np\n",
        "\n",
        "donnees_hopital = {\n",
        "    'ID_Patient': ['P100', 'P101', 'P102', 'P103', 'P104'],\n",
        "    'Age': [35, 42, np.nan, 28, 56],\n",
        "    'Genre': ['H', 'F', 'H', 'F', 'H'],\n",
        "    'Temperature': [37.5, 38.1, 37.5, np.nan, 38.3],\n",
        "    'ResultatTest': ['Positif', 'Negatif', 'Positif', 'Negatif', np.nan]\n",
        "}\n",
        "df_patients_sales = pd.DataFrame(donnees_hopital)\n",
        "\n",
        "print(\"DataFrame de départ :\")\n",
        "print(df_patients_sales)"
      ],
      "metadata": {
        "colab": {
          "base_uri": "https://localhost:8080/"
        },
        "id": "GWgT9D1F2RRr",
        "outputId": "58145fb5-01af-4b37-e27f-39400146081f"
      },
      "execution_count": 4,
      "outputs": [
        {
          "output_type": "stream",
          "name": "stdout",
          "text": [
            "DataFrame de départ :\n",
            "  ID_Patient   Age Genre  Temperature ResultatTest\n",
            "0       P100  35.0     H         37.5      Positif\n",
            "1       P101  42.0     F         38.1      Negatif\n",
            "2       P102   NaN     H         37.5      Positif\n",
            "3       P103  28.0     F          NaN      Negatif\n",
            "4       P104  56.0     H         38.3          NaN\n"
          ]
        }
      ]
    },
    {
      "cell_type": "code",
      "source": [
        "df_nettoye = df_patients_sales.dropna()\n",
        "df_nettoye"
      ],
      "metadata": {
        "colab": {
          "base_uri": "https://localhost:8080/",
          "height": 125
        },
        "id": "_W2rBA-G2WAc",
        "outputId": "a351b2d0-4393-4f64-86f9-0cd2c7f86068"
      },
      "execution_count": 6,
      "outputs": [
        {
          "output_type": "execute_result",
          "data": {
            "text/plain": [
              "  ID_Patient   Age Genre  Temperature ResultatTest\n",
              "0       P100  35.0     H         37.5      Positif\n",
              "1       P101  42.0     F         38.1      Negatif"
            ],
            "text/html": [
              "\n",
              "  <div id=\"df-b5020d56-b766-472a-b339-17b7f3e99117\" class=\"colab-df-container\">\n",
              "    <div>\n",
              "<style scoped>\n",
              "    .dataframe tbody tr th:only-of-type {\n",
              "        vertical-align: middle;\n",
              "    }\n",
              "\n",
              "    .dataframe tbody tr th {\n",
              "        vertical-align: top;\n",
              "    }\n",
              "\n",
              "    .dataframe thead th {\n",
              "        text-align: right;\n",
              "    }\n",
              "</style>\n",
              "<table border=\"1\" class=\"dataframe\">\n",
              "  <thead>\n",
              "    <tr style=\"text-align: right;\">\n",
              "      <th></th>\n",
              "      <th>ID_Patient</th>\n",
              "      <th>Age</th>\n",
              "      <th>Genre</th>\n",
              "      <th>Temperature</th>\n",
              "      <th>ResultatTest</th>\n",
              "    </tr>\n",
              "  </thead>\n",
              "  <tbody>\n",
              "    <tr>\n",
              "      <th>0</th>\n",
              "      <td>P100</td>\n",
              "      <td>35.0</td>\n",
              "      <td>H</td>\n",
              "      <td>37.5</td>\n",
              "      <td>Positif</td>\n",
              "    </tr>\n",
              "    <tr>\n",
              "      <th>1</th>\n",
              "      <td>P101</td>\n",
              "      <td>42.0</td>\n",
              "      <td>F</td>\n",
              "      <td>38.1</td>\n",
              "      <td>Negatif</td>\n",
              "    </tr>\n",
              "  </tbody>\n",
              "</table>\n",
              "</div>\n",
              "    <div class=\"colab-df-buttons\">\n",
              "\n",
              "  <div class=\"colab-df-container\">\n",
              "    <button class=\"colab-df-convert\" onclick=\"convertToInteractive('df-b5020d56-b766-472a-b339-17b7f3e99117')\"\n",
              "            title=\"Convert this dataframe to an interactive table.\"\n",
              "            style=\"display:none;\">\n",
              "\n",
              "  <svg xmlns=\"http://www.w3.org/2000/svg\" height=\"24px\" viewBox=\"0 -960 960 960\">\n",
              "    <path d=\"M120-120v-720h720v720H120Zm60-500h600v-160H180v160Zm220 220h160v-160H400v160Zm0 220h160v-160H400v160ZM180-400h160v-160H180v160Zm440 0h160v-160H620v160ZM180-180h160v-160H180v160Zm440 0h160v-160H620v160Z\"/>\n",
              "  </svg>\n",
              "    </button>\n",
              "\n",
              "  <style>\n",
              "    .colab-df-container {\n",
              "      display:flex;\n",
              "      gap: 12px;\n",
              "    }\n",
              "\n",
              "    .colab-df-convert {\n",
              "      background-color: #E8F0FE;\n",
              "      border: none;\n",
              "      border-radius: 50%;\n",
              "      cursor: pointer;\n",
              "      display: none;\n",
              "      fill: #1967D2;\n",
              "      height: 32px;\n",
              "      padding: 0 0 0 0;\n",
              "      width: 32px;\n",
              "    }\n",
              "\n",
              "    .colab-df-convert:hover {\n",
              "      background-color: #E2EBFA;\n",
              "      box-shadow: 0px 1px 2px rgba(60, 64, 67, 0.3), 0px 1px 3px 1px rgba(60, 64, 67, 0.15);\n",
              "      fill: #174EA6;\n",
              "    }\n",
              "\n",
              "    .colab-df-buttons div {\n",
              "      margin-bottom: 4px;\n",
              "    }\n",
              "\n",
              "    [theme=dark] .colab-df-convert {\n",
              "      background-color: #3B4455;\n",
              "      fill: #D2E3FC;\n",
              "    }\n",
              "\n",
              "    [theme=dark] .colab-df-convert:hover {\n",
              "      background-color: #434B5C;\n",
              "      box-shadow: 0px 1px 3px 1px rgba(0, 0, 0, 0.15);\n",
              "      filter: drop-shadow(0px 1px 2px rgba(0, 0, 0, 0.3));\n",
              "      fill: #FFFFFF;\n",
              "    }\n",
              "  </style>\n",
              "\n",
              "    <script>\n",
              "      const buttonEl =\n",
              "        document.querySelector('#df-b5020d56-b766-472a-b339-17b7f3e99117 button.colab-df-convert');\n",
              "      buttonEl.style.display =\n",
              "        google.colab.kernel.accessAllowed ? 'block' : 'none';\n",
              "\n",
              "      async function convertToInteractive(key) {\n",
              "        const element = document.querySelector('#df-b5020d56-b766-472a-b339-17b7f3e99117');\n",
              "        const dataTable =\n",
              "          await google.colab.kernel.invokeFunction('convertToInteractive',\n",
              "                                                    [key], {});\n",
              "        if (!dataTable) return;\n",
              "\n",
              "        const docLinkHtml = 'Like what you see? Visit the ' +\n",
              "          '<a target=\"_blank\" href=https://colab.research.google.com/notebooks/data_table.ipynb>data table notebook</a>'\n",
              "          + ' to learn more about interactive tables.';\n",
              "        element.innerHTML = '';\n",
              "        dataTable['output_type'] = 'display_data';\n",
              "        await google.colab.output.renderOutput(dataTable, element);\n",
              "        const docLink = document.createElement('div');\n",
              "        docLink.innerHTML = docLinkHtml;\n",
              "        element.appendChild(docLink);\n",
              "      }\n",
              "    </script>\n",
              "  </div>\n",
              "\n",
              "\n",
              "    <div id=\"df-f6ffa3ff-2063-473b-bbca-03363cef7bda\">\n",
              "      <button class=\"colab-df-quickchart\" onclick=\"quickchart('df-f6ffa3ff-2063-473b-bbca-03363cef7bda')\"\n",
              "                title=\"Suggest charts\"\n",
              "                style=\"display:none;\">\n",
              "\n",
              "<svg xmlns=\"http://www.w3.org/2000/svg\" height=\"24px\"viewBox=\"0 0 24 24\"\n",
              "     width=\"24px\">\n",
              "    <g>\n",
              "        <path d=\"M19 3H5c-1.1 0-2 .9-2 2v14c0 1.1.9 2 2 2h14c1.1 0 2-.9 2-2V5c0-1.1-.9-2-2-2zM9 17H7v-7h2v7zm4 0h-2V7h2v10zm4 0h-2v-4h2v4z\"/>\n",
              "    </g>\n",
              "</svg>\n",
              "      </button>\n",
              "\n",
              "<style>\n",
              "  .colab-df-quickchart {\n",
              "      --bg-color: #E8F0FE;\n",
              "      --fill-color: #1967D2;\n",
              "      --hover-bg-color: #E2EBFA;\n",
              "      --hover-fill-color: #174EA6;\n",
              "      --disabled-fill-color: #AAA;\n",
              "      --disabled-bg-color: #DDD;\n",
              "  }\n",
              "\n",
              "  [theme=dark] .colab-df-quickchart {\n",
              "      --bg-color: #3B4455;\n",
              "      --fill-color: #D2E3FC;\n",
              "      --hover-bg-color: #434B5C;\n",
              "      --hover-fill-color: #FFFFFF;\n",
              "      --disabled-bg-color: #3B4455;\n",
              "      --disabled-fill-color: #666;\n",
              "  }\n",
              "\n",
              "  .colab-df-quickchart {\n",
              "    background-color: var(--bg-color);\n",
              "    border: none;\n",
              "    border-radius: 50%;\n",
              "    cursor: pointer;\n",
              "    display: none;\n",
              "    fill: var(--fill-color);\n",
              "    height: 32px;\n",
              "    padding: 0;\n",
              "    width: 32px;\n",
              "  }\n",
              "\n",
              "  .colab-df-quickchart:hover {\n",
              "    background-color: var(--hover-bg-color);\n",
              "    box-shadow: 0 1px 2px rgba(60, 64, 67, 0.3), 0 1px 3px 1px rgba(60, 64, 67, 0.15);\n",
              "    fill: var(--button-hover-fill-color);\n",
              "  }\n",
              "\n",
              "  .colab-df-quickchart-complete:disabled,\n",
              "  .colab-df-quickchart-complete:disabled:hover {\n",
              "    background-color: var(--disabled-bg-color);\n",
              "    fill: var(--disabled-fill-color);\n",
              "    box-shadow: none;\n",
              "  }\n",
              "\n",
              "  .colab-df-spinner {\n",
              "    border: 2px solid var(--fill-color);\n",
              "    border-color: transparent;\n",
              "    border-bottom-color: var(--fill-color);\n",
              "    animation:\n",
              "      spin 1s steps(1) infinite;\n",
              "  }\n",
              "\n",
              "  @keyframes spin {\n",
              "    0% {\n",
              "      border-color: transparent;\n",
              "      border-bottom-color: var(--fill-color);\n",
              "      border-left-color: var(--fill-color);\n",
              "    }\n",
              "    20% {\n",
              "      border-color: transparent;\n",
              "      border-left-color: var(--fill-color);\n",
              "      border-top-color: var(--fill-color);\n",
              "    }\n",
              "    30% {\n",
              "      border-color: transparent;\n",
              "      border-left-color: var(--fill-color);\n",
              "      border-top-color: var(--fill-color);\n",
              "      border-right-color: var(--fill-color);\n",
              "    }\n",
              "    40% {\n",
              "      border-color: transparent;\n",
              "      border-right-color: var(--fill-color);\n",
              "      border-top-color: var(--fill-color);\n",
              "    }\n",
              "    60% {\n",
              "      border-color: transparent;\n",
              "      border-right-color: var(--fill-color);\n",
              "    }\n",
              "    80% {\n",
              "      border-color: transparent;\n",
              "      border-right-color: var(--fill-color);\n",
              "      border-bottom-color: var(--fill-color);\n",
              "    }\n",
              "    90% {\n",
              "      border-color: transparent;\n",
              "      border-bottom-color: var(--fill-color);\n",
              "    }\n",
              "  }\n",
              "</style>\n",
              "\n",
              "      <script>\n",
              "        async function quickchart(key) {\n",
              "          const quickchartButtonEl =\n",
              "            document.querySelector('#' + key + ' button');\n",
              "          quickchartButtonEl.disabled = true;  // To prevent multiple clicks.\n",
              "          quickchartButtonEl.classList.add('colab-df-spinner');\n",
              "          try {\n",
              "            const charts = await google.colab.kernel.invokeFunction(\n",
              "                'suggestCharts', [key], {});\n",
              "          } catch (error) {\n",
              "            console.error('Error during call to suggestCharts:', error);\n",
              "          }\n",
              "          quickchartButtonEl.classList.remove('colab-df-spinner');\n",
              "          quickchartButtonEl.classList.add('colab-df-quickchart-complete');\n",
              "        }\n",
              "        (() => {\n",
              "          let quickchartButtonEl =\n",
              "            document.querySelector('#df-f6ffa3ff-2063-473b-bbca-03363cef7bda button');\n",
              "          quickchartButtonEl.style.display =\n",
              "            google.colab.kernel.accessAllowed ? 'block' : 'none';\n",
              "        })();\n",
              "      </script>\n",
              "    </div>\n",
              "\n",
              "  <div id=\"id_e6b12c7d-a77c-4112-9a5e-0e30ee553011\">\n",
              "    <style>\n",
              "      .colab-df-generate {\n",
              "        background-color: #E8F0FE;\n",
              "        border: none;\n",
              "        border-radius: 50%;\n",
              "        cursor: pointer;\n",
              "        display: none;\n",
              "        fill: #1967D2;\n",
              "        height: 32px;\n",
              "        padding: 0 0 0 0;\n",
              "        width: 32px;\n",
              "      }\n",
              "\n",
              "      .colab-df-generate:hover {\n",
              "        background-color: #E2EBFA;\n",
              "        box-shadow: 0px 1px 2px rgba(60, 64, 67, 0.3), 0px 1px 3px 1px rgba(60, 64, 67, 0.15);\n",
              "        fill: #174EA6;\n",
              "      }\n",
              "\n",
              "      [theme=dark] .colab-df-generate {\n",
              "        background-color: #3B4455;\n",
              "        fill: #D2E3FC;\n",
              "      }\n",
              "\n",
              "      [theme=dark] .colab-df-generate:hover {\n",
              "        background-color: #434B5C;\n",
              "        box-shadow: 0px 1px 3px 1px rgba(0, 0, 0, 0.15);\n",
              "        filter: drop-shadow(0px 1px 2px rgba(0, 0, 0, 0.3));\n",
              "        fill: #FFFFFF;\n",
              "      }\n",
              "    </style>\n",
              "    <button class=\"colab-df-generate\" onclick=\"generateWithVariable('df_nettoye')\"\n",
              "            title=\"Generate code using this dataframe.\"\n",
              "            style=\"display:none;\">\n",
              "\n",
              "  <svg xmlns=\"http://www.w3.org/2000/svg\" height=\"24px\"viewBox=\"0 0 24 24\"\n",
              "       width=\"24px\">\n",
              "    <path d=\"M7,19H8.4L18.45,9,17,7.55,7,17.6ZM5,21V16.75L18.45,3.32a2,2,0,0,1,2.83,0l1.4,1.43a1.91,1.91,0,0,1,.58,1.4,1.91,1.91,0,0,1-.58,1.4L9.25,21ZM18.45,9,17,7.55Zm-12,3A5.31,5.31,0,0,0,4.9,8.1,5.31,5.31,0,0,0,1,6.5,5.31,5.31,0,0,0,4.9,4.9,5.31,5.31,0,0,0,6.5,1,5.31,5.31,0,0,0,8.1,4.9,5.31,5.31,0,0,0,12,6.5,5.46,5.46,0,0,0,6.5,12Z\"/>\n",
              "  </svg>\n",
              "    </button>\n",
              "    <script>\n",
              "      (() => {\n",
              "      const buttonEl =\n",
              "        document.querySelector('#id_e6b12c7d-a77c-4112-9a5e-0e30ee553011 button.colab-df-generate');\n",
              "      buttonEl.style.display =\n",
              "        google.colab.kernel.accessAllowed ? 'block' : 'none';\n",
              "\n",
              "      buttonEl.onclick = () => {\n",
              "        google.colab.notebook.generateWithVariable('df_nettoye');\n",
              "      }\n",
              "      })();\n",
              "    </script>\n",
              "  </div>\n",
              "\n",
              "    </div>\n",
              "  </div>\n"
            ],
            "application/vnd.google.colaboratory.intrinsic+json": {
              "type": "dataframe",
              "variable_name": "df_nettoye",
              "summary": "{\n  \"name\": \"df_nettoye\",\n  \"rows\": 2,\n  \"fields\": [\n    {\n      \"column\": \"ID_Patient\",\n      \"properties\": {\n        \"dtype\": \"string\",\n        \"num_unique_values\": 2,\n        \"samples\": [\n          \"P101\",\n          \"P100\"\n        ],\n        \"semantic_type\": \"\",\n        \"description\": \"\"\n      }\n    },\n    {\n      \"column\": \"Age\",\n      \"properties\": {\n        \"dtype\": \"number\",\n        \"std\": 4.949747468305833,\n        \"min\": 35.0,\n        \"max\": 42.0,\n        \"num_unique_values\": 2,\n        \"samples\": [\n          42.0,\n          35.0\n        ],\n        \"semantic_type\": \"\",\n        \"description\": \"\"\n      }\n    },\n    {\n      \"column\": \"Genre\",\n      \"properties\": {\n        \"dtype\": \"string\",\n        \"num_unique_values\": 2,\n        \"samples\": [\n          \"F\",\n          \"H\"\n        ],\n        \"semantic_type\": \"\",\n        \"description\": \"\"\n      }\n    },\n    {\n      \"column\": \"Temperature\",\n      \"properties\": {\n        \"dtype\": \"number\",\n        \"std\": 0.4242640687119295,\n        \"min\": 37.5,\n        \"max\": 38.1,\n        \"num_unique_values\": 2,\n        \"samples\": [\n          38.1,\n          37.5\n        ],\n        \"semantic_type\": \"\",\n        \"description\": \"\"\n      }\n    },\n    {\n      \"column\": \"ResultatTest\",\n      \"properties\": {\n        \"dtype\": \"string\",\n        \"num_unique_values\": 2,\n        \"samples\": [\n          \"Negatif\",\n          \"Positif\"\n        ],\n        \"semantic_type\": \"\",\n        \"description\": \"\"\n      }\n    }\n  ]\n}"
            }
          },
          "metadata": {},
          "execution_count": 6
        }
      ]
    },
    {
      "cell_type": "code",
      "source": [
        "df_test_valide = df_patients_sales.dropna(subset=['ResultatTest'])\n",
        "df_test_valide"
      ],
      "metadata": {
        "id": "0BfTWMCe2iU5",
        "outputId": "d244c929-3fc6-4a50-fd51-3a3ee0f43c4b",
        "colab": {
          "base_uri": "https://localhost:8080/",
          "height": 175
        }
      },
      "execution_count": 8,
      "outputs": [
        {
          "output_type": "execute_result",
          "data": {
            "text/plain": [
              "  ID_Patient   Age Genre  Temperature ResultatTest\n",
              "0       P100  35.0     H         37.5      Positif\n",
              "1       P101  42.0     F         38.1      Negatif\n",
              "2       P102   NaN     H         37.5      Positif\n",
              "3       P103  28.0     F          NaN      Negatif"
            ],
            "text/html": [
              "\n",
              "  <div id=\"df-a66ea190-9197-4d7d-a4df-c32e2383e844\" class=\"colab-df-container\">\n",
              "    <div>\n",
              "<style scoped>\n",
              "    .dataframe tbody tr th:only-of-type {\n",
              "        vertical-align: middle;\n",
              "    }\n",
              "\n",
              "    .dataframe tbody tr th {\n",
              "        vertical-align: top;\n",
              "    }\n",
              "\n",
              "    .dataframe thead th {\n",
              "        text-align: right;\n",
              "    }\n",
              "</style>\n",
              "<table border=\"1\" class=\"dataframe\">\n",
              "  <thead>\n",
              "    <tr style=\"text-align: right;\">\n",
              "      <th></th>\n",
              "      <th>ID_Patient</th>\n",
              "      <th>Age</th>\n",
              "      <th>Genre</th>\n",
              "      <th>Temperature</th>\n",
              "      <th>ResultatTest</th>\n",
              "    </tr>\n",
              "  </thead>\n",
              "  <tbody>\n",
              "    <tr>\n",
              "      <th>0</th>\n",
              "      <td>P100</td>\n",
              "      <td>35.0</td>\n",
              "      <td>H</td>\n",
              "      <td>37.5</td>\n",
              "      <td>Positif</td>\n",
              "    </tr>\n",
              "    <tr>\n",
              "      <th>1</th>\n",
              "      <td>P101</td>\n",
              "      <td>42.0</td>\n",
              "      <td>F</td>\n",
              "      <td>38.1</td>\n",
              "      <td>Negatif</td>\n",
              "    </tr>\n",
              "    <tr>\n",
              "      <th>2</th>\n",
              "      <td>P102</td>\n",
              "      <td>NaN</td>\n",
              "      <td>H</td>\n",
              "      <td>37.5</td>\n",
              "      <td>Positif</td>\n",
              "    </tr>\n",
              "    <tr>\n",
              "      <th>3</th>\n",
              "      <td>P103</td>\n",
              "      <td>28.0</td>\n",
              "      <td>F</td>\n",
              "      <td>NaN</td>\n",
              "      <td>Negatif</td>\n",
              "    </tr>\n",
              "  </tbody>\n",
              "</table>\n",
              "</div>\n",
              "    <div class=\"colab-df-buttons\">\n",
              "\n",
              "  <div class=\"colab-df-container\">\n",
              "    <button class=\"colab-df-convert\" onclick=\"convertToInteractive('df-a66ea190-9197-4d7d-a4df-c32e2383e844')\"\n",
              "            title=\"Convert this dataframe to an interactive table.\"\n",
              "            style=\"display:none;\">\n",
              "\n",
              "  <svg xmlns=\"http://www.w3.org/2000/svg\" height=\"24px\" viewBox=\"0 -960 960 960\">\n",
              "    <path d=\"M120-120v-720h720v720H120Zm60-500h600v-160H180v160Zm220 220h160v-160H400v160Zm0 220h160v-160H400v160ZM180-400h160v-160H180v160Zm440 0h160v-160H620v160ZM180-180h160v-160H180v160Zm440 0h160v-160H620v160Z\"/>\n",
              "  </svg>\n",
              "    </button>\n",
              "\n",
              "  <style>\n",
              "    .colab-df-container {\n",
              "      display:flex;\n",
              "      gap: 12px;\n",
              "    }\n",
              "\n",
              "    .colab-df-convert {\n",
              "      background-color: #E8F0FE;\n",
              "      border: none;\n",
              "      border-radius: 50%;\n",
              "      cursor: pointer;\n",
              "      display: none;\n",
              "      fill: #1967D2;\n",
              "      height: 32px;\n",
              "      padding: 0 0 0 0;\n",
              "      width: 32px;\n",
              "    }\n",
              "\n",
              "    .colab-df-convert:hover {\n",
              "      background-color: #E2EBFA;\n",
              "      box-shadow: 0px 1px 2px rgba(60, 64, 67, 0.3), 0px 1px 3px 1px rgba(60, 64, 67, 0.15);\n",
              "      fill: #174EA6;\n",
              "    }\n",
              "\n",
              "    .colab-df-buttons div {\n",
              "      margin-bottom: 4px;\n",
              "    }\n",
              "\n",
              "    [theme=dark] .colab-df-convert {\n",
              "      background-color: #3B4455;\n",
              "      fill: #D2E3FC;\n",
              "    }\n",
              "\n",
              "    [theme=dark] .colab-df-convert:hover {\n",
              "      background-color: #434B5C;\n",
              "      box-shadow: 0px 1px 3px 1px rgba(0, 0, 0, 0.15);\n",
              "      filter: drop-shadow(0px 1px 2px rgba(0, 0, 0, 0.3));\n",
              "      fill: #FFFFFF;\n",
              "    }\n",
              "  </style>\n",
              "\n",
              "    <script>\n",
              "      const buttonEl =\n",
              "        document.querySelector('#df-a66ea190-9197-4d7d-a4df-c32e2383e844 button.colab-df-convert');\n",
              "      buttonEl.style.display =\n",
              "        google.colab.kernel.accessAllowed ? 'block' : 'none';\n",
              "\n",
              "      async function convertToInteractive(key) {\n",
              "        const element = document.querySelector('#df-a66ea190-9197-4d7d-a4df-c32e2383e844');\n",
              "        const dataTable =\n",
              "          await google.colab.kernel.invokeFunction('convertToInteractive',\n",
              "                                                    [key], {});\n",
              "        if (!dataTable) return;\n",
              "\n",
              "        const docLinkHtml = 'Like what you see? Visit the ' +\n",
              "          '<a target=\"_blank\" href=https://colab.research.google.com/notebooks/data_table.ipynb>data table notebook</a>'\n",
              "          + ' to learn more about interactive tables.';\n",
              "        element.innerHTML = '';\n",
              "        dataTable['output_type'] = 'display_data';\n",
              "        await google.colab.output.renderOutput(dataTable, element);\n",
              "        const docLink = document.createElement('div');\n",
              "        docLink.innerHTML = docLinkHtml;\n",
              "        element.appendChild(docLink);\n",
              "      }\n",
              "    </script>\n",
              "  </div>\n",
              "\n",
              "\n",
              "    <div id=\"df-d56ae03b-0ab2-4eda-80b4-74f22fc24084\">\n",
              "      <button class=\"colab-df-quickchart\" onclick=\"quickchart('df-d56ae03b-0ab2-4eda-80b4-74f22fc24084')\"\n",
              "                title=\"Suggest charts\"\n",
              "                style=\"display:none;\">\n",
              "\n",
              "<svg xmlns=\"http://www.w3.org/2000/svg\" height=\"24px\"viewBox=\"0 0 24 24\"\n",
              "     width=\"24px\">\n",
              "    <g>\n",
              "        <path d=\"M19 3H5c-1.1 0-2 .9-2 2v14c0 1.1.9 2 2 2h14c1.1 0 2-.9 2-2V5c0-1.1-.9-2-2-2zM9 17H7v-7h2v7zm4 0h-2V7h2v10zm4 0h-2v-4h2v4z\"/>\n",
              "    </g>\n",
              "</svg>\n",
              "      </button>\n",
              "\n",
              "<style>\n",
              "  .colab-df-quickchart {\n",
              "      --bg-color: #E8F0FE;\n",
              "      --fill-color: #1967D2;\n",
              "      --hover-bg-color: #E2EBFA;\n",
              "      --hover-fill-color: #174EA6;\n",
              "      --disabled-fill-color: #AAA;\n",
              "      --disabled-bg-color: #DDD;\n",
              "  }\n",
              "\n",
              "  [theme=dark] .colab-df-quickchart {\n",
              "      --bg-color: #3B4455;\n",
              "      --fill-color: #D2E3FC;\n",
              "      --hover-bg-color: #434B5C;\n",
              "      --hover-fill-color: #FFFFFF;\n",
              "      --disabled-bg-color: #3B4455;\n",
              "      --disabled-fill-color: #666;\n",
              "  }\n",
              "\n",
              "  .colab-df-quickchart {\n",
              "    background-color: var(--bg-color);\n",
              "    border: none;\n",
              "    border-radius: 50%;\n",
              "    cursor: pointer;\n",
              "    display: none;\n",
              "    fill: var(--fill-color);\n",
              "    height: 32px;\n",
              "    padding: 0;\n",
              "    width: 32px;\n",
              "  }\n",
              "\n",
              "  .colab-df-quickchart:hover {\n",
              "    background-color: var(--hover-bg-color);\n",
              "    box-shadow: 0 1px 2px rgba(60, 64, 67, 0.3), 0 1px 3px 1px rgba(60, 64, 67, 0.15);\n",
              "    fill: var(--button-hover-fill-color);\n",
              "  }\n",
              "\n",
              "  .colab-df-quickchart-complete:disabled,\n",
              "  .colab-df-quickchart-complete:disabled:hover {\n",
              "    background-color: var(--disabled-bg-color);\n",
              "    fill: var(--disabled-fill-color);\n",
              "    box-shadow: none;\n",
              "  }\n",
              "\n",
              "  .colab-df-spinner {\n",
              "    border: 2px solid var(--fill-color);\n",
              "    border-color: transparent;\n",
              "    border-bottom-color: var(--fill-color);\n",
              "    animation:\n",
              "      spin 1s steps(1) infinite;\n",
              "  }\n",
              "\n",
              "  @keyframes spin {\n",
              "    0% {\n",
              "      border-color: transparent;\n",
              "      border-bottom-color: var(--fill-color);\n",
              "      border-left-color: var(--fill-color);\n",
              "    }\n",
              "    20% {\n",
              "      border-color: transparent;\n",
              "      border-left-color: var(--fill-color);\n",
              "      border-top-color: var(--fill-color);\n",
              "    }\n",
              "    30% {\n",
              "      border-color: transparent;\n",
              "      border-left-color: var(--fill-color);\n",
              "      border-top-color: var(--fill-color);\n",
              "      border-right-color: var(--fill-color);\n",
              "    }\n",
              "    40% {\n",
              "      border-color: transparent;\n",
              "      border-right-color: var(--fill-color);\n",
              "      border-top-color: var(--fill-color);\n",
              "    }\n",
              "    60% {\n",
              "      border-color: transparent;\n",
              "      border-right-color: var(--fill-color);\n",
              "    }\n",
              "    80% {\n",
              "      border-color: transparent;\n",
              "      border-right-color: var(--fill-color);\n",
              "      border-bottom-color: var(--fill-color);\n",
              "    }\n",
              "    90% {\n",
              "      border-color: transparent;\n",
              "      border-bottom-color: var(--fill-color);\n",
              "    }\n",
              "  }\n",
              "</style>\n",
              "\n",
              "      <script>\n",
              "        async function quickchart(key) {\n",
              "          const quickchartButtonEl =\n",
              "            document.querySelector('#' + key + ' button');\n",
              "          quickchartButtonEl.disabled = true;  // To prevent multiple clicks.\n",
              "          quickchartButtonEl.classList.add('colab-df-spinner');\n",
              "          try {\n",
              "            const charts = await google.colab.kernel.invokeFunction(\n",
              "                'suggestCharts', [key], {});\n",
              "          } catch (error) {\n",
              "            console.error('Error during call to suggestCharts:', error);\n",
              "          }\n",
              "          quickchartButtonEl.classList.remove('colab-df-spinner');\n",
              "          quickchartButtonEl.classList.add('colab-df-quickchart-complete');\n",
              "        }\n",
              "        (() => {\n",
              "          let quickchartButtonEl =\n",
              "            document.querySelector('#df-d56ae03b-0ab2-4eda-80b4-74f22fc24084 button');\n",
              "          quickchartButtonEl.style.display =\n",
              "            google.colab.kernel.accessAllowed ? 'block' : 'none';\n",
              "        })();\n",
              "      </script>\n",
              "    </div>\n",
              "\n",
              "  <div id=\"id_a53e2f9e-43fc-4214-85a1-a4b5cb0a4481\">\n",
              "    <style>\n",
              "      .colab-df-generate {\n",
              "        background-color: #E8F0FE;\n",
              "        border: none;\n",
              "        border-radius: 50%;\n",
              "        cursor: pointer;\n",
              "        display: none;\n",
              "        fill: #1967D2;\n",
              "        height: 32px;\n",
              "        padding: 0 0 0 0;\n",
              "        width: 32px;\n",
              "      }\n",
              "\n",
              "      .colab-df-generate:hover {\n",
              "        background-color: #E2EBFA;\n",
              "        box-shadow: 0px 1px 2px rgba(60, 64, 67, 0.3), 0px 1px 3px 1px rgba(60, 64, 67, 0.15);\n",
              "        fill: #174EA6;\n",
              "      }\n",
              "\n",
              "      [theme=dark] .colab-df-generate {\n",
              "        background-color: #3B4455;\n",
              "        fill: #D2E3FC;\n",
              "      }\n",
              "\n",
              "      [theme=dark] .colab-df-generate:hover {\n",
              "        background-color: #434B5C;\n",
              "        box-shadow: 0px 1px 3px 1px rgba(0, 0, 0, 0.15);\n",
              "        filter: drop-shadow(0px 1px 2px rgba(0, 0, 0, 0.3));\n",
              "        fill: #FFFFFF;\n",
              "      }\n",
              "    </style>\n",
              "    <button class=\"colab-df-generate\" onclick=\"generateWithVariable('df_test_valide')\"\n",
              "            title=\"Generate code using this dataframe.\"\n",
              "            style=\"display:none;\">\n",
              "\n",
              "  <svg xmlns=\"http://www.w3.org/2000/svg\" height=\"24px\"viewBox=\"0 0 24 24\"\n",
              "       width=\"24px\">\n",
              "    <path d=\"M7,19H8.4L18.45,9,17,7.55,7,17.6ZM5,21V16.75L18.45,3.32a2,2,0,0,1,2.83,0l1.4,1.43a1.91,1.91,0,0,1,.58,1.4,1.91,1.91,0,0,1-.58,1.4L9.25,21ZM18.45,9,17,7.55Zm-12,3A5.31,5.31,0,0,0,4.9,8.1,5.31,5.31,0,0,0,1,6.5,5.31,5.31,0,0,0,4.9,4.9,5.31,5.31,0,0,0,6.5,1,5.31,5.31,0,0,0,8.1,4.9,5.31,5.31,0,0,0,12,6.5,5.46,5.46,0,0,0,6.5,12Z\"/>\n",
              "  </svg>\n",
              "    </button>\n",
              "    <script>\n",
              "      (() => {\n",
              "      const buttonEl =\n",
              "        document.querySelector('#id_a53e2f9e-43fc-4214-85a1-a4b5cb0a4481 button.colab-df-generate');\n",
              "      buttonEl.style.display =\n",
              "        google.colab.kernel.accessAllowed ? 'block' : 'none';\n",
              "\n",
              "      buttonEl.onclick = () => {\n",
              "        google.colab.notebook.generateWithVariable('df_test_valide');\n",
              "      }\n",
              "      })();\n",
              "    </script>\n",
              "  </div>\n",
              "\n",
              "    </div>\n",
              "  </div>\n"
            ],
            "application/vnd.google.colaboratory.intrinsic+json": {
              "type": "dataframe",
              "variable_name": "df_test_valide",
              "summary": "{\n  \"name\": \"df_test_valide\",\n  \"rows\": 4,\n  \"fields\": [\n    {\n      \"column\": \"ID_Patient\",\n      \"properties\": {\n        \"dtype\": \"string\",\n        \"num_unique_values\": 4,\n        \"samples\": [\n          \"P101\",\n          \"P103\",\n          \"P100\"\n        ],\n        \"semantic_type\": \"\",\n        \"description\": \"\"\n      }\n    },\n    {\n      \"column\": \"Age\",\n      \"properties\": {\n        \"dtype\": \"number\",\n        \"std\": 7.0,\n        \"min\": 28.0,\n        \"max\": 42.0,\n        \"num_unique_values\": 3,\n        \"samples\": [\n          35.0,\n          42.0,\n          28.0\n        ],\n        \"semantic_type\": \"\",\n        \"description\": \"\"\n      }\n    },\n    {\n      \"column\": \"Genre\",\n      \"properties\": {\n        \"dtype\": \"string\",\n        \"num_unique_values\": 2,\n        \"samples\": [\n          \"F\",\n          \"H\"\n        ],\n        \"semantic_type\": \"\",\n        \"description\": \"\"\n      }\n    },\n    {\n      \"column\": \"Temperature\",\n      \"properties\": {\n        \"dtype\": \"number\",\n        \"std\": 0.3464101615137763,\n        \"min\": 37.5,\n        \"max\": 38.1,\n        \"num_unique_values\": 2,\n        \"samples\": [\n          38.1,\n          37.5\n        ],\n        \"semantic_type\": \"\",\n        \"description\": \"\"\n      }\n    },\n    {\n      \"column\": \"ResultatTest\",\n      \"properties\": {\n        \"dtype\": \"string\",\n        \"num_unique_values\": 2,\n        \"samples\": [\n          \"Negatif\",\n          \"Positif\"\n        ],\n        \"semantic_type\": \"\",\n        \"description\": \"\"\n      }\n    }\n  ]\n}"
            }
          },
          "metadata": {},
          "execution_count": 8
        }
      ]
    },
    {
      "cell_type": "markdown",
      "source": [
        "## Remplacement des valeurs manquantes"
      ],
      "metadata": {
        "id": "U2YIXniA3wld"
      }
    }
  ]
}